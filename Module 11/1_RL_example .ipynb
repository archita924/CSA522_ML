{
 "cells": [
  {
   "cell_type": "markdown",
   "metadata": {},
   "source": [
    "# Reinfocement Learning  Example :PathFinder Bot \n",
    "\n",
    "Suppose we have 5 rooms A to E, in a building connected by certain doors :\n",
    "We  can  consider  outside  of  the  building  as  one  big  room  say  F  to  cover the building. \n",
    "There are two doors lead to the building from F, that is through room B and room E. \n",
    "\n",
    "\n",
    "![title](RL_problem.png)\n",
    "\n",
    "Which path agent should choose??? \n",
    "\n"
   ]
  },
  {
   "cell_type": "markdown",
   "metadata": {},
   "source": [
    "# Step 1: Modeling the environment- \n",
    "\n",
    "- Represent the rooms by graph, \n",
    "- Each room as a vertex (or node) and \n",
    "- Each door as an edge (or link). \n",
    "- Goal room is the node F \n",
    "![image.png](RL1.png)\n",
    "\n",
    "\n"
   ]
  },
  {
   "cell_type": "markdown",
   "metadata": {},
   "source": [
    "Goal :  Outside the building : Node F\n",
    "Assign Reward Value to each room  \n",
    "\n",
    "State:  Each room (including outside building )\n",
    "\n",
    "Action : Agent’s Movement from 1 room to next room\n",
    "\n",
    "Initial state : C (random )\n",
    "\n",
    "Reward: Goal Node :highest reward (100)  rest – 0; \n",
    "\n",
    "State Diagram \n",
    "![image.png](RL2.png)\n",
    "\n",
    "\n",
    "![title](RL_image.png)"
   ]
  },
  {
   "cell_type": "code",
   "execution_count": 1,
   "metadata": {},
   "outputs": [],
   "source": [
    "import numpy as np"
   ]
  },
  {
   "cell_type": "code",
   "execution_count": 2,
   "metadata": {},
   "outputs": [
    {
     "data": {
      "text/plain": [
       "matrix([[ -1,  -1,  -1,  -1,   0,  -1],\n",
       "        [ -1,  -1,  -1,   0,  -1, 100],\n",
       "        [ -1,  -1,  -1,   0,  -1,  -1],\n",
       "        [ -1,   0,   0,  -1,   0,  -1],\n",
       "        [  0,  -1,  -1,   0,  -1, 100],\n",
       "        [ -1,   0,  -1,  -1,   0, 100]])"
      ]
     },
     "execution_count": 2,
     "metadata": {},
     "output_type": "execute_result"
    }
   ],
   "source": [
    "# R matrix\n",
    "\n",
    "Rewards = np.matrix([ [-1,-1,-1,-1,0,-1],\n",
    "            [-1,-1,-1,0,-1,100],\n",
    "            [-1,-1,-1,0,-1,-1],\n",
    "            [-1,0,0,-1,0,-1],\n",
    "            [0,-1,-1,0,-1,100],\n",
    "            [-1,0,-1,-1,0,100] ])\n",
    "\n",
    "Rewards"
   ]
  },
  {
   "cell_type": "code",
   "execution_count": 3,
   "metadata": {},
   "outputs": [
    {
     "data": {
      "text/plain": [
       "matrix([[0., 0., 0., 0., 0., 0.],\n",
       "        [0., 0., 0., 0., 0., 0.],\n",
       "        [0., 0., 0., 0., 0., 0.],\n",
       "        [0., 0., 0., 0., 0., 0.],\n",
       "        [0., 0., 0., 0., 0., 0.],\n",
       "        [0., 0., 0., 0., 0., 0.]])"
      ]
     },
     "execution_count": 3,
     "metadata": {},
     "output_type": "execute_result"
    }
   ],
   "source": [
    "# Q matrix\n",
    "Q = np.matrix(np.zeros([6,6]))\n",
    "Q"
   ]
  },
  {
   "cell_type": "code",
   "execution_count": 4,
   "metadata": {},
   "outputs": [],
   "source": [
    "# Gamma (learning parameter).\n",
    "gamma = 0.8"
   ]
  },
  {
   "cell_type": "code",
   "execution_count": 5,
   "metadata": {},
   "outputs": [],
   "source": [
    "# Initial state. (Usually to be chosen at random)\n",
    "initial_state = 1\n",
    "\n",
    "# Write your Code to choose random State"
   ]
  },
  {
   "cell_type": "code",
   "execution_count": 6,
   "metadata": {},
   "outputs": [],
   "source": [
    "# This function returns all available actions in the state given as an argument\n",
    "def available_actions(state):\n",
    "    current_state_row = Rewards[state,]\n",
    "    av_act = np.where(current_state_row >= 0)[1]\n",
    "    return av_act"
   ]
  },
  {
   "cell_type": "code",
   "execution_count": 7,
   "metadata": {},
   "outputs": [],
   "source": [
    "# Get available actions in the current state\n",
    "available_act = available_actions(initial_state) "
   ]
  },
  {
   "cell_type": "code",
   "execution_count": 8,
   "metadata": {},
   "outputs": [],
   "source": [
    "# This function chooses at random which action to be performed within the range \n",
    "# of all the available actions.\n",
    "def sample_next_action(available_actions_range):\n",
    "    next_action = int(np.random.choice(available_act,1))\n",
    "    return next_action"
   ]
  },
  {
   "cell_type": "code",
   "execution_count": 9,
   "metadata": {},
   "outputs": [],
   "source": [
    "# Sample next action to be performed\n",
    "action = sample_next_action(available_act)"
   ]
  },
  {
   "cell_type": "code",
   "execution_count": 10,
   "metadata": {},
   "outputs": [],
   "source": [
    "# This function updates the Q matrix according to the path selected and the Q \n",
    "# learning algorithm\n",
    "def update(current_state, action, gamma):\n",
    "    \n",
    "    max_index = np.where(Q[action,] == np.max(Q[action,]))[1]\n",
    "\n",
    "    if max_index.shape[0] > 1:\n",
    "        max_index = int(np.random.choice(max_index, size = 1))\n",
    "    else:\n",
    "        max_index = int(max_index)\n",
    "    max_value = Q[action, max_index]\n",
    "    \n",
    "    # Q learning formula\n",
    "    Q[current_state, action] = Rewards[current_state, action] + gamma * max_value\n",
    "\n",
    "# Update Q matrix\n",
    "update(initial_state,action,gamma)"
   ]
  },
  {
   "cell_type": "code",
   "execution_count": 11,
   "metadata": {},
   "outputs": [
    {
     "name": "stdout",
     "output_type": "stream",
     "text": [
      "The Trained Q matrix:\n",
      "[[  0.   0.   0.   0. 400.   0.]\n",
      " [  0.   0.   0. 320.   0. 500.]\n",
      " [  0.   0.   0. 320.   0.   0.]\n",
      " [  0. 400. 256.   0. 400.   0.]\n",
      " [320.   0.   0. 320.   0. 500.]\n",
      " [  0. 400.   0.   0. 400. 500.]]\n",
      "Trained Normalized Q matrix:\n",
      "[[  0.    0.    0.    0.   80.    0. ]\n",
      " [  0.    0.    0.   64.    0.  100. ]\n",
      " [  0.    0.    0.   64.    0.    0. ]\n",
      " [  0.   80.   51.2   0.   80.    0. ]\n",
      " [ 64.    0.    0.   64.    0.  100. ]\n",
      " [  0.   80.    0.    0.   80.  100. ]]\n"
     ]
    },
    {
     "data": {
      "text/plain": [
       "(None, 9999)"
      ]
     },
     "execution_count": 11,
     "metadata": {},
     "output_type": "execute_result"
    }
   ],
   "source": [
    "#-------------------------------------------------------------------------------\n",
    "# Training\n",
    "\n",
    "# Train over 10 000 iterations. (Re-iterate the process above).\n",
    "for i in range(10000):\n",
    "    current_state = np.random.randint(0, int(Q.shape[0]))\n",
    "    available_act = available_actions(current_state)\n",
    "    action = sample_next_action(available_act)\n",
    "    score= update(current_state,action,gamma)\n",
    "\n",
    "    # The \"trained\" Q matrix\n",
    "print(\"The Trained Q matrix:\")\n",
    "print(Q)\n",
    "\n",
    "\n",
    "# Normalize the \"trained\" Q matrix\n",
    "print(\"Trained Normalized Q matrix:\")\n",
    "print(Q/np.max(Q)*100), i"
   ]
  },
  {
   "cell_type": "code",
   "execution_count": 12,
   "metadata": {},
   "outputs": [],
   "source": [
    "#-------------------------------------------------------------------------------\n",
    "# Testing\n",
    "\n",
    "#STATES = [A,B,C,D,E,F]\n",
    "#nO_State=[0,1,2,3,4,5]\n",
    "\n",
    "# Goal state = 5\n",
    "# Best sequence path starting from 2 -> 2, 3, 1, 5\n",
    "\n",
    "current_state = 2\n",
    "steps = [current_state]\n",
    "\n",
    "while current_state != 5:\n",
    "\n",
    "    next_step_index = np.where(Q[current_state,] == np.max(Q[current_state,]))[1]\n",
    "    \n",
    "    if next_step_index.shape[0] > 1:\n",
    "        next_step_index = int(np.random.choice(next_step_index, size = 1))\n",
    "    else:\n",
    "        next_step_index = int(next_step_index)\n",
    "    \n",
    "    steps.append(next_step_index)\n",
    "    current_state = next_step_index"
   ]
  },
  {
   "cell_type": "code",
   "execution_count": 13,
   "metadata": {},
   "outputs": [
    {
     "name": "stdout",
     "output_type": "stream",
     "text": [
      "Selected path:\n",
      "[2, 3, 4, 5]\n"
     ]
    }
   ],
   "source": [
    "# Print selected sequence of steps\n",
    "print(\"Selected path:\")\n",
    "print(steps)\n"
   ]
  },
  {
   "cell_type": "markdown",
   "metadata": {},
   "source": [
    "![image.png](RL_prob.png)\n"
   ]
  },
  {
   "cell_type": "code",
   "execution_count": null,
   "metadata": {},
   "outputs": [],
   "source": []
  }
 ],
 "metadata": {
  "kernelspec": {
   "display_name": "Python 3",
   "language": "python",
   "name": "python3"
  },
  "language_info": {
   "codemirror_mode": {
    "name": "ipython",
    "version": 3
   },
   "file_extension": ".py",
   "mimetype": "text/x-python",
   "name": "python",
   "nbconvert_exporter": "python",
   "pygments_lexer": "ipython3",
   "version": "3.7.3"
  }
 },
 "nbformat": 4,
 "nbformat_minor": 2
}
