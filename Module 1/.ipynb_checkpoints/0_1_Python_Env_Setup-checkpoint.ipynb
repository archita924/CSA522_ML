{
 "cells": [
  {
   "cell_type": "markdown",
   "metadata": {},
   "source": [
    "# CSL558: Machine Learning \n",
    "\n",
    "\n",
    "**Module 0: 0_1: Python Setup**\n",
    "\n"
   ]
  },
  {
   "cell_type": "markdown",
   "metadata": {},
   "source": [
    "AssignmentAssignmentAssignment```\n",
    "# Software Installation\n",
    "This class is technically oriented.  You needs to be compile and execute Python code for Machine  learning Techniques. There are two options for you to accomplish this:\n",
    "\n",
    "* Install Python, TensorFlow and some IDE (Jupyter, TensorFlow, and others)\n",
    "* Use Google CoLab in the cloud\n",
    "\n",
    "## Installing Python and TensorFlow\n",
    "\n",
    "It is possible to install and run Python/TensorFlow entirely from your computer.  Google provides TensorFlow for Windows, Mac, and Linux.  Previously, TensorFlow did not support Windows.  However, as of December 2016, TensorFlow supports Windows for both CPU and GPU operation.\n",
    "\n",
    "The first step is to install Python 3.7.  As of August 2020, the latest version of Python 3 is python 3.8.2 .  I recommend using the Miniconda (Anaconda) release of Python, as it already includes many of the data science related packages that are needed by this class.  Anaconda directly supports Windows, Mac, and Linux.  Download Anaconda from the following URL: \n",
    "\n",
    "* [Anaconda](https://docs.anaconda.com/anaconda/install/)\n",
    "\n",
    "Miniconda is the minimal set of features from the extensive Anaconda Python distribution.  Download Miniconda from the following URL:\n",
    "\n",
    "* [Miniconda](https://docs.conda.io/en/latest/miniconda.html)\n",
    "\n",
    "\n",
    "First, lets install Jupyter, which is the editor you will use in this course.\n",
    "\n",
    "```\n",
    "conda install -y jupyter\n",
    "```\n",
    "\n",
    "We will actually launch Jupyter later.\n",
    "\n",
    "You must make sure that TensorFlow has the version of Python that it is compatible with.  The best way to accomplish this is with an Anaconda environment.  Each environment that you create can have its own Python version, drivers, and Python libraries.  I suggest that you create an environment to hold the Python instance for this class.  Use the following command to create your environment. I am calling the environment **tensorflow**, you can name yours whatever you like.\n",
    "\n",
    "```\n",
    "conda create --name tensorflow python=3.7\n",
    "```\n",
    "\n",
    "To enter this environment, you must use the following command: \n",
    "\n",
    "```\n",
    "conda activate tensorflow\n",
    "```\n",
    "\n",
    "For now, lets add Jupyter support to your new environment.\n",
    "\n",
    "```\n",
    "conda install nb_conda\n",
    "```\n",
    "\n",
    "We will now install TensorFlow.  We will make use of conda for this installation.  Unfortunately, different platforms are at different versions of TensorFlow.  Currently (July 2020), the following versions are supported.\n",
    "\n",
    "* Google CoLab: 2.2\n",
    "* Windows: 2.1\n",
    "* Linux: 2.2\n",
    "* Mac: 2.0\n",
    "\n",
    "The examples in this course has been tested on all of these versions.  The next two sections describe how to install TensorFlow for either a CPU or GPU. To use GPU, you must have a [compatible NVIDIA GPU](https://developer.nvidia.com/cuda-gpus).\n",
    "\n",
    "\n",
    "## Install TensorFlow for CPU Only\n",
    "The following command installs TensorFlow for CPU support.  Even if you have a GPU, it will not be used.\n",
    "\n",
    "```\n",
    "conda install -c anaconda tensorflow\n",
    "```\n",
    "\n",
    "\n",
    "## Install TensorFlow for GPU and CPU\n",
    "\n",
    "The following command installs TensorFlow for GPU support.  All of the complex driver installations should be handled by this command.\n",
    "\n",
    "```\n",
    "conda install -c anaconda tensorflow-gpu\n",
    "```\n",
    "\n",
    "## Install Additional Libraries for ML\n",
    "\n",
    "There are several additional libraries that you will need for this course.  This command will install them.  Make sure you are still in your **tensorflow** environment.\n",
    "\n",
    "```\n",
    "conda env update --file tools.yml\n",
    "```\n",
    "\n",
    "The [tools.yml](https://raw.githubusercontent.com/jeffheaton/t81_558_deep_learning/master/tools.yml) file is located in the root directory for this GitHub repository.\n",
    "\n",
    "## Register your Environment\n",
    "\n",
    "The following command registers your **tensorflow** environment. Again, make sure you \"conda activate\" your new **tensorflow** environment.\n",
    "\n",
    "```\n",
    "python -m ipykernel install --user --name tensorflow --display-name \"Python 3.7 (tensorflow)\"\n",
    "```\n",
    "\n",
    "## Testing your Environment\n",
    "\n",
    "You can now start Jupyter notebook.  Use the following command.\n",
    "\n",
    "```\n",
    "jupyter notebook\n",
    "```\n",
    "\n",
    "You can now run the following code to check that you have the versions expected.\n"
   ]
  },
  {
   "cell_type": "code",
   "execution_count": 1,
   "metadata": {},
   "outputs": [
    {
     "name": "stdout",
     "output_type": "stream",
     "text": [
      "Tensor Flow Version: 2.3.0\n",
      "Keras Version: 2.4.0\n",
      "\n",
      "Python 3.8.3 (default, Jul  2 2020, 16:21:59) \n",
      "[GCC 7.3.0]\n",
      "Pandas 1.0.5\n",
      "Scikit-Learn 0.23.1\n",
      "WARNING:tensorflow:From <ipython-input-1-f0c0b23c0652>:15: is_gpu_available (from tensorflow.python.framework.test_util) is deprecated and will be removed in a future version.\n",
      "Instructions for updating:\n",
      "Use `tf.config.list_physical_devices('GPU')` instead.\n",
      "GPU is NOT AVAILABLE\n"
     ]
    }
   ],
   "source": [
    "# To know the version of Python you are running?\n",
    "import sys\n",
    "\n",
    "import tensorflow.keras\n",
    "import pandas as pd\n",
    "import sklearn as sk\n",
    "import tensorflow as tf\n",
    "\n",
    "print(f\"Tensor Flow Version: {tf.__version__}\")\n",
    "print(f\"Keras Version: {tensorflow.keras.__version__}\")\n",
    "print()\n",
    "print(f\"Python {sys.version}\")\n",
    "print(f\"Pandas {pd.__version__}\")\n",
    "print(f\"Scikit-Learn {sk.__version__}\")\n",
    "print(\"GPU is\", \"available\" if tf.test.is_gpu_available() else \"NOT AVAILABLE\")"
   ]
  },
  {
   "cell_type": "code",
   "execution_count": 2,
   "metadata": {},
   "outputs": [],
   "source": [
    "# To know about the CPU info\n",
    "# !cat /proc/cpuinfo\n"
   ]
  },
  {
   "cell_type": "code",
   "execution_count": 3,
   "metadata": {},
   "outputs": [],
   "source": [
    "# To known the amount of free and used memory \n",
    "# !cat /proc/meminfo\n"
   ]
  },
  {
   "cell_type": "markdown",
   "metadata": {},
   "source": [
    "# Reference :\n",
    "    - https://github.com/jeffheaton/t81_558_deep_learning/tree/master/install\n",
    "    - https://medium.com/@shiivangii/all-about-git-and-github-c4b987df1b16"
   ]
  },
  {
   "cell_type": "code",
   "execution_count": null,
   "metadata": {},
   "outputs": [],
   "source": []
  }
 ],
 "metadata": {
  "anaconda-cloud": {},
  "kernelspec": {
   "display_name": "Python 3",
   "language": "python",
   "name": "python3"
  },
  "language_info": {
   "codemirror_mode": {
    "name": "ipython",
    "version": 3
   },
   "file_extension": ".py",
   "mimetype": "text/x-python",
   "name": "python",
   "nbconvert_exporter": "python",
   "pygments_lexer": "ipython3",
   "version": "3.8.3"
  }
 },
 "nbformat": 4,
 "nbformat_minor": 4
}
