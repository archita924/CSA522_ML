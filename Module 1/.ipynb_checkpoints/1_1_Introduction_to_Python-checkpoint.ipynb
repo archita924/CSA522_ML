{
 "cells": [
  {
   "cell_type": "markdown",
   "metadata": {},
   "source": [
    "# CSA522: Machine Learning \n",
    "\n",
    "\n",
    "**Module 1:  Introduction to  Machine Learning and Python**\n",
    "\n"
   ]
  },
  {
   "cell_type": "markdown",
   "metadata": {
    "colab_type": "text",
    "id": "VXBnCMHVybJS"
   },
   "source": [
    "# Tutorial 1: Introduction to Python  "
   ]
  },
  {
   "cell_type": "markdown",
   "metadata": {
    "colab_type": "text",
    "id": "VeaOGJKWybMp"
   },
   "source": [
    "* Welcome to your first lab session on Python!  \n",
    "\n",
    "* This tutorial contains some basic functions and syntax of Python, at the end of the tutorial some programming exercises are given to help you test your understanding on Python programming. \n",
    "\n",
    "* Here we give you a very brief overview of Python programming with concepts and functions that will be used later in lab sessions and assignments. \n",
    "\n",
    "* For detailed description of each concepts covered here, you may refer the official websites of Python (https://www.python.org/) and NumPy (http://www.numpy.org/). "
   ]
  },
  {
   "cell_type": "markdown",
   "metadata": {
    "colab_type": "text",
    "id": "4mk9egs9ybPz"
   },
   "source": [
    "Python is a programming language that lets you work quickly\n",
    "and integrate systems more effectively. Some features of python programming are:\n",
    "\n",
    "* A variety of basic data types are available: numbers (floating point, complex, and unlimited-length long integers), strings (both ASCII and Unicode), lists, and dictionaries.\n",
    "* Python supports object-oriented programming with classes and multiple inheritances.\n",
    "* Code can be grouped into modules and packages.\n",
    "* The language supports raising and catching exceptions, resulting in cleaner error handling.\n",
    "* Data types are strongly and dynamically typed. Mixing incompatible types (e.g. attempting to add a string and a number) causes an exception to be raised, so errors are caught sooner.\n",
    "* Python contains advanced programming features such as generators and list comprehensions.\n",
    "* Python's automatic memory management frees you from having to manually allocate and free memory in your code."
   ]
  },
  {
   "cell_type": "markdown",
   "metadata": {
    "colab_type": "text",
    "id": "z4T10_boyzFB"
   },
   "source": [
    "**1.1 Your first Python Code: Print a string** - print() function displays the output on the console."
   ]
  },
  {
   "cell_type": "code",
   "execution_count": 1,
   "metadata": {
    "colab": {},
    "colab_type": "code",
    "id": "1UDU5x3kyyH1"
   },
   "outputs": [
    {
     "name": "stdout",
     "output_type": "stream",
     "text": [
      "Welcome to the Machine Learning  2022!\n"
     ]
    }
   ],
   "source": [
    "print ('Welcome to the Machine Learning  2022!')"
   ]
  },
  {
   "cell_type": "code",
   "execution_count": 2,
   "metadata": {},
   "outputs": [],
   "source": [
    "a=5"
   ]
  },
  {
   "cell_type": "code",
   "execution_count": 3,
   "metadata": {},
   "outputs": [
    {
     "data": {
      "text/plain": [
       "5"
      ]
     },
     "execution_count": 3,
     "metadata": {},
     "output_type": "execute_result"
    }
   ],
   "source": [
    "a"
   ]
  },
  {
   "cell_type": "markdown",
   "metadata": {
    "colab_type": "text",
    "id": "X2j3-IPe5oya"
   },
   "source": [
    "**1.2 Input and assignment** - input() function takes user's  input.\n",
    "\n",
    "**Input Function**\n",
    "\n",
    "* You can use an the input function, just as you might have used 'scanf' in C. \n",
    "\n",
    "* When the input function is called, the program flow will be stopped until you give an input and end it using the return key. \n",
    "\n",
    "* The text of the optional parameter, i.e., the prompt, will be printed on the screen. \n",
    "\n",
    "* The input of the user will be interpreted. If you input an integer value, the input function will return this integer value. If you input a list, the function will return the list. \n",
    "\n",
    "**Let's have a look at the following example:** "
   ]
  },
  {
   "cell_type": "code",
   "execution_count": 5,
   "metadata": {
    "colab": {},
    "colab_type": "code",
    "id": "Ljnp0BsJyZ38"
   },
   "outputs": [
    {
     "name": "stdout",
     "output_type": "stream",
     "text": [
      "What is your name?\n",
      "NITD\n",
      "Welcome NITD to the Course on Machine Learning  2022!\n"
     ]
    }
   ],
   "source": [
    "name = input('What is your name?\\n')\n",
    "print ('Welcome ' + name + ' to the Course on Machine Learning  2022!')"
   ]
  },
  {
   "cell_type": "markdown",
   "metadata": {
    "colab_type": "text",
    "id": "NEmn_MWb53LV"
   },
   "source": [
    "**Important note: Python is indent sensitive.** \n",
    "\n",
    "* Python is case sensitive.\n",
    "\n",
    "* Python is also indent sensitive.\n",
    "\n",
    "* If you observe the 'for loop' and the 'if-else' statement, there is indent within the loop. \n",
    "\n",
    "* For example if you run the following code, it will show \"IndentationError\". \n",
    "\n",
    "* Run the cell to see the error and correct the code by putting indent. "
   ]
  },
  {
   "cell_type": "code",
   "execution_count": 6,
   "metadata": {
    "colab": {},
    "colab_type": "code",
    "id": "agJja9zTyaBG"
   },
   "outputs": [
    {
     "ename": "IndentationError",
     "evalue": "expected an indented block (<ipython-input-6-ebc0cd6996f1>, line 2)",
     "output_type": "error",
     "traceback": [
      "\u001b[0;36m  File \u001b[0;32m\"<ipython-input-6-ebc0cd6996f1>\"\u001b[0;36m, line \u001b[0;32m2\u001b[0m\n\u001b[0;31m    print(number,\"\\n\")\u001b[0m\n\u001b[0m    ^\u001b[0m\n\u001b[0;31mIndentationError\u001b[0m\u001b[0;31m:\u001b[0m expected an indented block\n"
     ]
    }
   ],
   "source": [
    "for number in [1,10,20,30,40,50]: \n",
    "print(number,\"\\n\")\n",
    "\n",
    "# Identify the Error and resolve "
   ]
  },
  {
   "cell_type": "markdown",
   "metadata": {
    "colab_type": "text",
    "id": "gorYQrJk58p3"
   },
   "source": [
    "\n",
    "\n",
    "*  As you can see above it is giving IndentationError\n",
    "*  We can overcome this error by providing a single/multiple space or tab seperation \n",
    "\n"
   ]
  },
  {
   "cell_type": "code",
   "execution_count": 7,
   "metadata": {
    "colab": {},
    "colab_type": "code",
    "id": "aYPoQu3kyaET"
   },
   "outputs": [
    {
     "name": "stdout",
     "output_type": "stream",
     "text": [
      "1 \n",
      "\n",
      "10 \n",
      "\n",
      "20 \n",
      "\n",
      "30 \n",
      "\n",
      "40 \n",
      "\n",
      "50 \n",
      "\n"
     ]
    }
   ],
   "source": [
    "# WRITE YOUR CODE HERE\n",
    "\n",
    "\n"
   ]
  },
  {
   "cell_type": "markdown",
   "metadata": {
    "colab_type": "text",
    "id": "Qw3_1UvI6xKg"
   },
   "source": [
    "**1.3 If Else Statement** -\n",
    "\n",
    "An if-else statement has the following syntax. \n",
    "\n",
    "**Syntax**\n",
    "\n",
    "if expression:\n",
    "\n",
    "> statement(s)\n",
    "\n",
    "else:\n",
    "\n",
    "> statement(s)"
   ]
  },
  {
   "cell_type": "code",
   "execution_count": 8,
   "metadata": {
    "colab": {},
    "colab_type": "code",
    "id": "bbPVHbs8yaJB"
   },
   "outputs": [
    {
     "name": "stdout",
     "output_type": "stream",
     "text": [
      "number :15\n",
      "Positive number\n"
     ]
    }
   ],
   "source": [
    "num = input(\"number :\")\n",
    "if int(num) > 0:\n",
    "    print(\"Positive number\")\n",
    "elif int(num) == 0:\n",
    "    print(\"Zero\")\n",
    "else:\n",
    "    print(\"Negative number\")"
   ]
  },
  {
   "cell_type": "markdown",
   "metadata": {
    "colab_type": "text",
    "id": "hf3g1ZRRSb-c"
   },
   "source": [
    "**1.4 Loops in Python** - We can iterate loop using various types. Here we are using built-in enumerate function."
   ]
  },
  {
   "cell_type": "code",
   "execution_count": 9,
   "metadata": {
    "colab": {},
    "colab_type": "code",
    "id": "Prt7cplYqkPh"
   },
   "outputs": [
    {
     "name": "stdout",
     "output_type": "stream",
     "text": [
      "Centrally Funded Technical Institute:\n",
      "1 : NIT Delhi\n",
      "2 : MNIT Jaipur\n",
      "3 : IIT Delhi\n",
      "4 : IIITM Gwalior \n"
     ]
    }
   ],
   "source": [
    "names = ['NIT Delhi', 'MNIT Jaipur', 'IIT Delhi', 'IIITM Gwalior ']\n",
    "print('Centrally Funded Technical Institute:')\n",
    "for i, name in enumerate(names):\n",
    "    print (\"{iteration} : {name}\".format(iteration=i+1, name=name))"
   ]
  },
  {
   "cell_type": "markdown",
   "metadata": {
    "colab_type": "text",
    "id": "A3sEf7rfS8H6"
   },
   "source": [
    "**1.5 While Loop** - Same as other programming languages"
   ]
  },
  {
   "cell_type": "code",
   "execution_count": 10,
   "metadata": {
    "colab": {},
    "colab_type": "code",
    "id": "lSwKDLmzxM4v"
   },
   "outputs": [
    {
     "name": "stdout",
     "output_type": "stream",
     "text": [
      "Centrally Funded Technical Institute:\n",
      "1 : NIT Delhi\n",
      "2 : MNIT Jaipur\n",
      "3 : IIT Delhi\n",
      "4 : IIITM Gwalior \n"
     ]
    }
   ],
   "source": [
    "names = ['NIT Delhi', 'MNIT Jaipur', 'IIT Delhi', 'IIITM Gwalior ']\n",
    "value=0\n",
    "print('Centrally Funded Technical Institute:')\n",
    "while value<len(names):\n",
    "    print(\"{iteration} : {name}\".format(iteration=value+1, name=names[value]))\n",
    "    value+=1"
   ]
  },
  {
   "cell_type": "markdown",
   "metadata": {
    "colab_type": "text",
    "id": "hJSLjsVxT-6T"
   },
   "source": [
    "**1.6. Defining Function** - Just write def function_name(parameters)\n",
    "\n",
    "Just as in C, Python also provides various types of functions. It gives you many built-in functions like print(), etc. but you can also create your own functions. These functions are called *user-defined functions.* \n",
    "\n",
    "In the following some simple examples of functions are given. "
   ]
  },
  {
   "cell_type": "code",
   "execution_count": 12,
   "metadata": {
    "colab": {},
    "colab_type": "code",
    "id": "u_6VVQXRT9k2"
   },
   "outputs": [
    {
     "name": "stdout",
     "output_type": "stream",
     "text": [
      "Addition is : 2\n"
     ]
    }
   ],
   "source": [
    "#USER DEFINED FUNCTION\n",
    "\n",
    "def add(x,y):\n",
    "    print ('Addition is :', x+y)\n",
    "\n",
    "add(12,-10)"
   ]
  },
  {
   "cell_type": "code",
   "execution_count": null,
   "metadata": {},
   "outputs": [],
   "source": [
    "#DEFINE A FUNCTION FOR MULTIPLICATION OF TWO NUMBERS\n",
    "\n",
    "# WRITE YOUR CODE HERE\n"
   ]
  },
  {
   "cell_type": "markdown",
   "metadata": {
    "colab_type": "text",
    "id": "1NzXKSDaUZcQ"
   },
   "source": [
    "**1.7 Dictionary** - Dictionary is an associative array of python \n",
    "\n",
    "As given in ( https://docs.python.org/3/tutorial/datastructures.html ) : \n",
    "\n",
    "\n",
    "\"Dictionary is a useful data type built into Python, similar to “associative memories” or “associative arrays” in some languages. A dictionary is indexed by keys, Unlike a sequence, which is indexed by a range of numbers.  A Key can be any immutable type, strings and numbers can always be keys. \n",
    "\n",
    "So a dictionary can be considered as an unordered set of key: value pairs, with the requirement that the keys are unique (within one dictionary). Each key is separated from its value by a colon (:), the items are separated by commas, and the entire unordered ke:value pair in enclosed within curly braces. \n",
    "\n",
    "A dictionary can be initialized to be an empty dictionary by using a pair of braces : {}. Placing a comma-separated list of key:value pairs within the braces adds initial key:value pairs to the dictionary; this is also the way dictionaries are written on output.\n",
    "\n",
    "Tuples can be used as keys if they contain only strings, numbers, or tuples; if a tuple contains any mutable object either directly or indirectly, it cannot be used as a key. You can’t use lists as keys, since lists can be modified in place using index assignments, slice assignments, or methods like append() and extend().\n",
    "\n",
    "* The main operations on a dictionary are storing a value with some key and extracting the value given the key. \n",
    "\n",
    "* To delete a key:value pair you can use 'del'. If you store a value using a key that is already in use, then the old value associated with that key is overwritten. \n",
    "* Use list(d.keys()) to obtain a list of all the keys used in the dictionary, in arbitrary order.\n",
    "* Use sorted(d.keys())  if you wanted it to be in a sorted order.  \n",
    "* To check whether a single key is in the dictionary, use the 'in' keyword.\n",
    "\n",
    "Here are some examples of code pieces using dictionaries:"
   ]
  },
  {
   "cell_type": "code",
   "execution_count": 13,
   "metadata": {
    "colab": {},
    "colab_type": "code",
    "id": "F0z7IcxXSvAm"
   },
   "outputs": [
    {
     "name": "stdout",
     "output_type": "stream",
     "text": [
      "apple :2\n",
      "banana :5\n",
      "Total Bill : 30.00 rupees\n"
     ]
    }
   ],
   "source": [
    "prices = {'apple': 5, 'banana': 4}\n",
    "my_purchase = {'apple': input('apple :'),'banana': input('banana :')}\n",
    "grocery_bill = sum(prices[fruit] * int(my_purchase[fruit])\n",
    "                   for fruit in my_purchase)\n",
    "print ('Total Bill : %.2f' % grocery_bill +' rupees')"
   ]
  },
  {
   "cell_type": "markdown",
   "metadata": {
    "colab_type": "text",
    "id": "umqGQbOAU3SE"
   },
   "source": [
    "**1.8 List** -\n",
    "\n",
    "Python offers a range of compound datatypes often referred to as sequences. \n",
    "\n",
    "List is one of the most frequently used datatypes used in Python.\n",
    "\n",
    "* A list is created by placing all the items (elements) inside a square bracket [ ], separated by commas.\n",
    "* It can have any number of items and they may be of different types (integer, float, string etc.).\n",
    "\n",
    "**Accessing the elements of the list**\n",
    "\n",
    "You can use the index operator [ ] to access an item in a list. Index starts from 0. So, a list having 5 elements will have indices ranging from 0 to 4."
   ]
  },
  {
   "cell_type": "code",
   "execution_count": 12,
   "metadata": {
    "colab": {},
    "colab_type": "code",
    "id": "PylfrjKtUd_v"
   },
   "outputs": [
    {
     "data": {
      "text/plain": [
       "['Python', 'Ruby', 'Groovy', 'Lisp']"
      ]
     },
     "execution_count": 12,
     "metadata": {},
     "output_type": "execute_result"
    }
   ],
   "source": [
    "dynamic_languages = ['Python', 'Ruby', 'Groovy']\n",
    "dynamic_languages.append('Lisp')\n",
    "dynamic_languages"
   ]
  },
  {
   "cell_type": "markdown",
   "metadata": {
    "colab_type": "text",
    "id": "SCyEYR8iU9tZ"
   },
   "source": [
    "**1.9 Exception Handling** - try and except blocks are used for exception handling "
   ]
  },
  {
   "cell_type": "code",
   "execution_count": 13,
   "metadata": {
    "colab": {},
    "colab_type": "code",
    "id": "DXWtpTcbU6VB"
   },
   "outputs": [
    {
     "name": "stdout",
     "output_type": "stream",
     "text": [
      "Please enter a number: tt\n",
      "Oops!  That was no valid number.  Try again...\n",
      "Please enter a number: 12\n"
     ]
    }
   ],
   "source": [
    "while True:\n",
    "    try:\n",
    "        x = int(input(\"Please enter a number: \"))\n",
    "        break\n",
    "    except ValueError:\n",
    "        print(\"Oops!  That was no valid number.  Try again...\")"
   ]
  },
  {
   "cell_type": "markdown",
   "metadata": {
    "colab_type": "text",
    "id": "Pjefe-RlWdma"
   },
   "source": [
    "**1.10- NumPy** -\n",
    "**\"NumPy is a general-purpose fundamental package for scientific computing with Python. It contains various features including these important ones:\n",
    "\n",
    ">A powerful N-dimensional array object\n",
    "\n",
    ">Sophisticated (broadcasting) functions\n",
    "\n",
    ">Tools for integrating C/C++ and Fortran code\n",
    "\n",
    ">Useful linear algebra, Fourier transform, and random number capabilities\n",
    "\n",
    "Besides its obvious scientific uses, NumPy can also be used as an efficient multi-dimensional container of generic data. This allows NumPy to seamlessly and speedily integrate with a wide variety of databases.\"\n",
    "\n",
    " * Source: Official website of NumPy (www.numpy.org) \n",
    " \n",
    " **Let us consider some examples to understand this powerful package.** "
   ]
  },
  {
   "cell_type": "code",
   "execution_count": 14,
   "metadata": {
    "colab": {},
    "colab_type": "code",
    "id": "JJdnijyeXofj"
   },
   "outputs": [
    {
     "name": "stdout",
     "output_type": "stream",
     "text": [
      "[ 5  7  9 12 12 17]\n",
      "[12 15 18 21 21 27]\n",
      "No. of dimensions:  1\n",
      "Shape of array:  (6,)\n",
      "Reshaped array:  [[1 2 3]\n",
      " [5 5 8]]\n",
      "Shape of array:  (2, 3)\n",
      "Size of array:  6\n",
      "Array stores elements of type:  int64\n"
     ]
    }
   ],
   "source": [
    "# First you need to import the NumPy Library \n",
    "import numpy as np\n",
    "\n",
    "b1 = np.array([1,2,3,5,5,8])    #Declaring a NumPy Array \n",
    "b2 = np.array([4,5,6,7,7,9])\n",
    "\n",
    "print(b1+b2)\n",
    "\n",
    "print(b2 * 3)\n",
    "print(\"No. of dimensions: \", b1.ndim)  # Rows in array, considered as a matrix. \n",
    "# Printing shape of array\n",
    "print(\"Shape of array: \", b1.shape)  # Dimension \n",
    "\n",
    "#reshaping an array\n",
    "r_b1=b1.reshape(2,3)\n",
    "\n",
    "print(\"Reshaped array: \", r_b1)\n",
    "print(\"Shape of array: \", r_b1.shape)\n",
    "\n",
    "# Printing size (total number of elements) of array\n",
    "print(\"Size of array: \", b1.size) # elements in a row or column elements. \n",
    " \n",
    "# Printing the datatype of elements in array\n",
    "print(\"Array stores elements of type: \", b1.dtype)\n"
   ]
  },
  {
   "cell_type": "markdown",
   "metadata": {
    "colab_type": "text",
    "id": "llsiqU1LYANy"
   },
   "source": [
    "**1.11 Operations on Arrays** -\n",
    "You can create arrays in NumPy in various ways.\n",
    "\n",
    "**Array creation:**\n",
    "You can create arrays in NumPy in various ways.\n",
    "\n",
    "For example, you can create an array from a regular Python list or tuple using the array function. \n",
    "\n",
    "The type of the resulting array is deduced from the type of the elements in the sequences. \n",
    "\n",
    "Often, we need to declare arrays whose sizes are known but elements are initially unknown. Hence, NumPy offers many functions to create arrays with initial placeholder content. This minimizes the necessity of growing arrays, which is generally an expensive operation.\n",
    " * Examples: *np.zeros, np.ones, np.full, np.empty*, etc.\n",
    "\n",
    "To create sequences of numbers, NumPy provides a function analogous to range that returns arrays instead of lists.\n",
    "\n",
    "**arange:** returns evenly spaced values within a given interval. In this, step size is specified.\n",
    "\n",
    "**linspace:** returns evenly spaced values within a given interval. Number of elements are returned.\n",
    "\n",
    "**Reshaping array:** The reshape method is used to reshape an array. If you have an array (a1, a2, a3, …, aN) and you want to reshape and convert it into another array of shape (b1, b2, b3, …, bM), you can do it easily using the reshape method. But the only precondition is that \n",
    "a1 x a2 x a3 … x aN = b1 x b2 x b3 … x bM . (i.e. , the total number of elements in the array should be the same, or the original size of array should remain unchanged.)\n",
    "\n",
    "**Flatten array:** The flatten method is used to convert an array  into one dimension. It accepts order argument. Default value is ‘C’ (for row-major order), and you can use ‘F’ to use the flatten method for column major order.\n",
    "\n",
    "* Let us see some examples. "
   ]
  },
  {
   "cell_type": "code",
   "execution_count": 15,
   "metadata": {
    "colab": {},
    "colab_type": "code",
    "id": "4C9FEFTTXqmq"
   },
   "outputs": [
    {
     "name": "stdout",
     "output_type": "stream",
     "text": [
      "A :  [[1. 2. 4.]\n",
      " [5. 8. 7.]]\n",
      "B :  [[0. 0. 0. 0.]\n",
      " [0. 0. 0. 0.]\n",
      " [0. 0. 0. 0.]]\n",
      "C :  [[6.+0.j 6.+0.j 6.+0.j]\n",
      " [6.+0.j 6.+0.j 6.+0.j]\n",
      " [6.+0.j 6.+0.j 6.+0.j]]\n",
      "D :  [[ 1.62434536 -0.61175641]\n",
      " [-0.52817175 -1.07296862]]\n",
      "E :  [[0.39676747 0.53881673]\n",
      " [0.41919451 0.6852195 ]]\n",
      "F :  [[14 13  5  7]\n",
      " [10 10 12  4]]\n"
     ]
    }
   ],
   "source": [
    "# array creation \n",
    "import numpy as np\n",
    " \n",
    "# Creating array from a list with type float\n",
    "A = np.array([[1, 2, 4], [5, 8, 7]], dtype = 'float')\n",
    "print(\"A : \",A)\n",
    "# Create a 3X4 array with all zeros. Please note, we have used double paranthesis. \n",
    "B = np.zeros((3, 4))\n",
    "print(\"B : \",B)\n",
    "# Create an arrary of complex numbers \n",
    "C = np.full((3, 3), 6, dtype = 'complex')\n",
    "print(\"C : \",C)\n",
    "# Create an array with random values\n",
    "np.random.seed(1) # A seed is set to ensure that the results are consistent if you use this array in future computations also.\n",
    "\n",
    "D = np.random.randn(2, 2)\n",
    "print(\"D : \",D)\n",
    "E = np.random.random((2, 2))  \n",
    "print(\"E : \",E)\n",
    "F = np.random.randint(3, 15, size=(2, 4))  \n",
    "print(\"F : \",F)"
   ]
  },
  {
   "cell_type": "code",
   "execution_count": 15,
   "metadata": {},
   "outputs": [],
   "source": [
    "#HELP FOR THE COMMAND \n",
    "\n",
    "np.reshape?"
   ]
  },
  {
   "cell_type": "markdown",
   "metadata": {
    "colab_type": "text",
    "id": "G020X2ujYIYR"
   },
   "source": [
    "**1.12 Array Reshaping** -"
   ]
  },
  {
   "cell_type": "code",
   "execution_count": 16,
   "metadata": {
    "colab": {},
    "colab_type": "code",
    "id": "rDjzwPlIYEgI"
   },
   "outputs": [
    {
     "name": "stdout",
     "output_type": "stream",
     "text": [
      "\n",
      "Original array:\n",
      " [[1 2 3 4]\n",
      " [5 6 7 8]\n",
      " [9 1 2 3]]\n",
      "Reshaped array:\n",
      " [[[1 2 3]\n",
      "  [4 5 6]]\n",
      "\n",
      " [[7 8 9]\n",
      "  [1 2 3]]]\n",
      "\n",
      "Original array:\n",
      " [[1 2 3]\n",
      " [4 5 6]]\n",
      "Fattened array:\n",
      " [1 2 3 4 5 6]\n"
     ]
    }
   ],
   "source": [
    "# Reshaping 3X4 array to 2X2X3 array\n",
    "A = np.array([[1, 2, 3, 4],\n",
    "                [5, 6, 7, 8],\n",
    "                [9, 1, 2, 3]])\n",
    " \n",
    "new_A = A.reshape(2, 2, 3)\n",
    "\n",
    "# Flatten array\n",
    "B = np.array([[1, 2, 3], [4, 5, 6]])\n",
    "flat_B= B.flatten()\n",
    "# column_flat_B('C')\n",
    " \n",
    "print (\"\\nOriginal array:\\n\", A)\n",
    "print (\"Reshaped array:\\n\", new_A)\n",
    "print (\"\\nOriginal array:\\n\", B)\n",
    "print (\"Fattened array:\\n\", flat_B)\n",
    "#print (\"Column Fattened array:\\n\", column_flat_B)\n",
    "\n"
   ]
  },
  {
   "cell_type": "markdown",
   "metadata": {
    "colab_type": "text",
    "id": "5BftDB4oYP1x"
   },
   "source": [
    "**1.13 Broadcasting** -\n",
    "\n",
    "The term broadcasting refers to managing arrays of different shapes during arithmetic operations in NumPy. \n",
    "\n",
    "Arithmetic operations on arrays are usually performed on corresponding elements, based on the law of matrices \\ arrays. \n",
    "\n",
    "NumPy provides a way by which dimension mismatch is taken care of. When operating on two arrays, NumPy compares their shapes element-wise. It starts with the trailing dimensions, and works its way forward. Two dimensions are compatible when they are equal, or one of them is 1\n",
    "\n",
    "For example, if you want to add an array 'b' of size (4,1) to a matrix 'A' of size (4,3), then the values in each row of 'b' are broadcasted and added in each column of the matrix 'A'. Let us see how it is done. "
   ]
  },
  {
   "cell_type": "code",
   "execution_count": 17,
   "metadata": {
    "colab": {},
    "colab_type": "code",
    "id": "yLInEQr0YMIm"
   },
   "outputs": [
    {
     "name": "stdout",
     "output_type": "stream",
     "text": [
      "[[3 3 3]\n",
      " [3 3 3]\n",
      " [3 3 3]]\n",
      "[[2 2 2]\n",
      " [2 2 2]\n",
      " [2 2 2]]\n"
     ]
    }
   ],
   "source": [
    "a = np.array([[1,1,1],[1,1,1], [1,1,1]])\n",
    "b = np.array([2,2,2])\n",
    "\n",
    "c = a + b \n",
    "\n",
    "c1= a*b #element wise multiplication. This will also be broadcasted accordingly. \n",
    "\n",
    "print(c)\n",
    "print(c1)"
   ]
  },
  {
   "cell_type": "markdown",
   "metadata": {
    "colab_type": "text",
    "id": "gzgIiCSgYaxp"
   },
   "source": [
    "**1.14 Using matplotlib** -\n",
    "Matplotlib is a Python 2D plotting library.\n",
    "\n",
    "Matplotlib is a Python 2D plotting library which produces publication quality figures in a variety of hardcopy formats and interactive environments across platforms. Matplotlib can be used in Python scripts, the Python and IPython shells, the Jupyter notebook, web application servers, and four graphical user interface toolkits ( source: https://matplotlib.org/ , https://matplotlib.org/citing.html) \n",
    "\n",
    "Here we give a simple example of its use. "
   ]
  },
  {
   "cell_type": "code",
   "execution_count": 18,
   "metadata": {
    "colab": {},
    "colab_type": "code",
    "id": "d8bAlzxeYXaE"
   },
   "outputs": [
    {
     "data": {
      "image/png": "[encoded data removed]",
      "text/plain": [
       "<Figure size 432x288 with 1 Axes>"
      ]
     },
     "metadata": {
      "needs_background": "light"
     },
     "output_type": "display_data"
    }
   ],
   "source": [
    "import numpy as np \n",
    "import matplotlib.pyplot as plt \n",
    "  \n",
    "# Computes x and y coordinates for  \n",
    "# points on sine and cosine curves \n",
    "x = np.arange(0, 3 * np.pi, 0.1) \n",
    "y_sin = np.sin(x) \n",
    "y_cos = np.cos(x) \n",
    "  \n",
    "# Plot the points using matplotlib \n",
    "plt.plot(x, y_sin) \n",
    "plt.plot(x, y_cos) \n",
    "plt.xlabel('x axis label') \n",
    "plt.ylabel('y axis label') \n",
    "plt.title('Sine and Cosine') \n",
    "plt.legend(['Sine', 'Cosine']) \n",
    "  \n",
    "plt.show() "
   ]
  },
  {
   "cell_type": "markdown",
   "metadata": {
    "colab_type": "text",
    "id": "88t-d8w_YjXN"
   },
   "source": [
    "**1.15 Files I/O** -\n",
    "The file object provides a set of methods to read and write on files. Some examples are given below.  "
   ]
  },
  {
   "cell_type": "code",
   "execution_count": 19,
   "metadata": {
    "colab": {},
    "colab_type": "code",
    "id": "hW4J1gEHYgQm"
   },
   "outputs": [
    {
     "name": "stdout",
     "output_type": "stream",
     "text": [
      "Name of the file:  sample.txt\n",
      "Read String from file is :  Welcome to the couse on Machine Learning at NIT Delhi.\n"
     ]
    }
   ],
   "source": [
    "# File open, read and write.\n",
    "\n",
    "file1 = open(\"sample.txt\", \"w+\")\n",
    "file1.write(\"Welcome to the couse on Machine Learning at NIT Delhi.\");\n",
    "file1.close()\n",
    "\n",
    "# Open a file\n",
    "file_read = open(\"sample.txt\", \"r\")  \n",
    "str = file_read.read(80);   \n",
    "print(\"Name of the file: \", file_read.name)\n",
    "print(\"Read String from file is : \", str)\n",
    "# Close opend files\n",
    "file_read.close()"
   ]
  },
  {
   "cell_type": "markdown",
   "metadata": {
    "colab_type": "text",
    "id": "VOkH3IOqYvIB"
   },
   "source": [
    "**1.16 Using Images** -"
   ]
  },
  {
   "cell_type": "code",
   "execution_count": null,
   "metadata": {},
   "outputs": [],
   "source": []
  },
  {
   "cell_type": "code",
   "execution_count": 20,
   "metadata": {
    "colab": {},
    "colab_type": "code",
    "id": "FC4kQ2PKYnbn"
   },
   "outputs": [
    {
     "name": "stdout",
     "output_type": "stream",
     "text": [
      "Original Dimensions :  (768, 1024, 3)\n",
      "Resized Dimensions :  (614, 819, 3)\n"
     ]
    },
    {
     "data": {
      "image/png": "[encoded data removed]",
      "text/plain": [
       "<Figure size 288x720 with 1 Axes>"
      ]
     },
     "metadata": {
      "needs_background": "light"
     },
     "output_type": "display_data"
    }
   ],
   "source": [
    "import matplotlib.pyplot as plt\n",
    "import cv2\n",
    "import matplotlib.image as mpimg\n",
    "img=mpimg.imread('python.jpg')\n",
    "\n",
    "print('Original Dimensions : ',img.shape)\n",
    " \n",
    "scale_percent = 80 # percent of original size\n",
    "width = int(img.shape[1] * scale_percent / 100)\n",
    "height = int(img.shape[0] * scale_percent / 100)\n",
    "dim = (width, height)\n",
    "# resize image\n",
    "resized = cv2.resize(img, dim, interpolation = cv2.INTER_AREA)\n",
    " \n",
    "print('Resized Dimensions : ',resized.shape)\n",
    "plt.figure(figsize=(4,10))\n",
    "imgplot = plt.imshow(resized)\n",
    "plt.show()"
   ]
  },
  {
   "cell_type": "code",
   "execution_count": 21,
   "metadata": {},
   "outputs": [],
   "source": [
    "# In case any error in the above cell , use either 1 or 2 as per your python environment \n",
    "\n",
    "# 1. pip install opencv-python\n",
    "# 2. pip install cv2\n"
   ]
  },
  {
   "cell_type": "markdown",
   "metadata": {},
   "source": [
    "Reference: \n",
    "    - Machine Learning for Computer Vision, E&ICT "
   ]
  },
  {
   "cell_type": "code",
   "execution_count": null,
   "metadata": {},
   "outputs": [],
   "source": []
  }
 ],
 "metadata": {
  "colab": {
   "collapsed_sections": [],
   "name": "Introduction_to_Python_FDP_29/06/2020/1.ipynb",
   "provenance": []
  },
  "kernelspec": {
   "display_name": "Python 3",
   "language": "python",
   "name": "python3"
  },
  "language_info": {
   "codemirror_mode": {
    "name": "ipython",
    "version": 3
   },
   "file_extension": ".py",
   "mimetype": "text/x-python",
   "name": "python",
   "nbconvert_exporter": "python",
   "pygments_lexer": "ipython3",
   "version": "3.8.3"
  }
 },
 "nbformat": 4,
 "nbformat_minor": 1
}
