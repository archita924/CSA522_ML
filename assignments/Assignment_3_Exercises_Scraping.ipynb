{
 "cells": [
  {
   "cell_type": "markdown",
   "metadata": {},
   "source": [
    "# CSL558: Machine Learning \n",
    "\n",
    "**Instructor** : [Dr. Chandra Prakash]\n",
    "\n",
    "* For more information visit the [class website](https://cprakash86.wordpress.com/ml/).\n",
    "\n"
   ]
  },
  {
   "cell_type": "code",
   "execution_count": null,
   "metadata": {},
   "outputs": [],
   "source": []
  },
  {
   "cell_type": "markdown",
   "metadata": {},
   "source": [
    "# Assignment 3:  Using Web Scraping\n",
    "\n",
    "**Due Date: 24-Aug-2020**\n",
    "\n",
    "\n",
    "**Student Name: Your Name**"
   ]
  },
  {
   "cell_type": "markdown",
   "metadata": {},
   "source": [
    "# Assignment Instructions\n",
    "\n",
    "\n",
    "You must save your as **Assignment_NO_Yourname**\n",
    "\n",
    "-----------------------------------------------------------------------------------------------------------------\n",
    "### Agenda for the Assignment 3\n",
    "1. Understand the legal and Ethical issue with web-scrapping. In most of the cases scrapping is legal until you intentionally crash the website or use the data for commercial purposes. You should check the size of the webiste if you are going to scrape the entire website, use google [1]. You can scrape any kind of data that is publicly available but if the data is copyrighted then you cannot use it as your own [2].\n",
    "\n",
    "\n",
    "2. Collect the data from the website http://quotes.toscrape.com/ \n",
    "\n",
    "-----------------------------------------------------------------------------------------------------------------\n",
    "\n",
    "Your source file will most likely end in **.pynb** if you are using a Jupyter notebook; however, it might also end in **.py** if you are using a Python script.\n",
    "\n",
    "You have to add your name and roll no in the Google Colab Instructions section below and print it. "
   ]
  },
  {
   "cell_type": "markdown",
   "metadata": {
    "colab_type": "text",
    "id": "4jt8KqCCpE4Z"
   },
   "source": [
    " "
   ]
  },
  {
   "cell_type": "markdown",
   "metadata": {},
   "source": [
    "# Google CoLab Instructions\n",
    "\n",
    "The following code ensures that Google CoLab is running the correct version of TensorFlow.\n",
    "\n"
   ]
  },
  {
   "cell_type": "code",
   "execution_count": null,
   "metadata": {},
   "outputs": [],
   "source": [
    "try:\n",
    "    from google.colab import drive\n",
    "    %tensorflow_version 2.x\n",
    "    COLAB = True\n",
    "    print(\"Assignment 3\")\n",
    "    print(\"Note: using Google CoLab\")\n",
    "except:\n",
    "    print(\"Assignment 3\")\n",
    "    print(\"Note: not using Google CoLab\")\n",
    "    COLAB = False\n",
    "    \n",
    "# Print your name and Roll No. \n",
    "# Print the curent time "
   ]
  },
  {
   "cell_type": "markdown",
   "metadata": {},
   "source": []
  },
  {
   "cell_type": "markdown",
   "metadata": {},
   "source": [
    "-----------------------------------------------------------------------------------------------------------------\n",
    "### Task 1: \n",
    "1. Collect the first 100 quotes from  the website http://quotes.toscrape.com/<br>\n",
    "\n",
    "2. The output should store in three column namely- Quote, Author\tand Tags. \n",
    "\n",
    "Hint: \n",
    "- You may use panda Dataframe framework as pd.DataFrame for storing the data \n",
    "\n",
    "- use urllib package \n",
    "\n",
    "**Supplimentry Problem** : \n",
    "\n",
    "1. Add two more column of Date of Birth (DoB) and Place of Birth(PoB) of the Author to the output \n",
    "\n",
    "Student who will extract the date and Place of birth will get extra credits  \n",
    "\n",
    "-----------------------------------------------------------------------------------------------------------------"
   ]
  },
  {
   "cell_type": "code",
   "execution_count": null,
   "metadata": {},
   "outputs": [],
   "source": [
    "###Your code here"
   ]
  },
  {
   "cell_type": "code",
   "execution_count": null,
   "metadata": {},
   "outputs": [],
   "source": []
  }
 ],
 "metadata": {
  "kernelspec": {
   "display_name": "Python 3",
   "language": "python",
   "name": "python3"
  },
  "language_info": {
   "codemirror_mode": {
    "name": "ipython",
    "version": 3
   },
   "file_extension": ".py",
   "mimetype": "text/x-python",
   "name": "python",
   "nbconvert_exporter": "python",
   "pygments_lexer": "ipython3",
   "version": "3.7.3"
  }
 },
 "nbformat": 4,
 "nbformat_minor": 2
}
