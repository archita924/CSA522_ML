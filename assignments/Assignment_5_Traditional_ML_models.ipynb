{
 "cells": [
  {
   "cell_type": "markdown",
   "metadata": {},
   "source": [
    "# CSL558: Machine Learning \n",
    "\n",
    "**Instructor** : [Dr. Chandra Prakash]\n",
    "\n",
    "* For more information visit the [class website](https://cprakash86.wordpress.com/ml/).\n",
    "\n"
   ]
  },
  {
   "cell_type": "markdown",
   "metadata": {},
   "source": [
    "# Assignment 5:  Traditional Machine Learning [EDA] on MNIT Gait DATASET\n",
    "\n",
    "**Due Date: 6-Sept-2020**\n",
    "\n",
    "\n",
    "**Student Name: Your Name**"
   ]
  },
  {
   "cell_type": "markdown",
   "metadata": {},
   "source": [
    "# Assignment Instructions\n",
    "\n",
    "\n",
    "You must save your as **Assignment_NO_Yourname**\n",
    "\n",
    "-----------------------------------------------------------------------------------------------------------------\n",
    "### Agenda for the Assignment 5\n",
    "1. Understand the working of the Linear Regression : \n",
    "\n",
    "2. Tradition Machine Learning Techniques : \n",
    "\n",
    "\n",
    "-----------------------------------------------------------------------------------------------------------------\n",
    "\n",
    "Your source file will most likely end in **.pynb** if you are using a Jupyter notebook; however, it might also end in **.py** if you are using a Python script.\n",
    "\n",
    "You have to add your name and roll no in the Google Colab Instructions section below and print it. "
   ]
  },
  {
   "cell_type": "markdown",
   "metadata": {
    "colab_type": "text",
    "id": "4jt8KqCCpE4Z"
   },
   "source": [
    " "
   ]
  },
  {
   "cell_type": "markdown",
   "metadata": {},
   "source": [
    "# Google CoLab Instructions\n",
    "\n",
    "The following code ensures that Google CoLab is running the correct version of TensorFlow.\n",
    "\n"
   ]
  },
  {
   "cell_type": "code",
   "execution_count": null,
   "metadata": {},
   "outputs": [],
   "source": [
    "try:\n",
    "    from google.colab import drive\n",
    "    %tensorflow_version 2.x\n",
    "    COLAB = True\n",
    "    print(\"Assignment 3\")\n",
    "    print(\"Note: using Google CoLab\")\n",
    "except:\n",
    "    print(\"Assignment 3\")\n",
    "    print(\"Note: not using Google CoLab\")\n",
    "    COLAB = False\n",
    "    \n",
    "# Print your name and Roll No. \n",
    "# Print the curent time "
   ]
  },
  {
   "cell_type": "markdown",
   "metadata": {},
   "source": [
    "[1]: https://www.tutorialspoint.com/python_web_scraping/legality_of_python_web_scraping.htm\n",
    "[2]: https://towardsdatascience.com/web-scraping-is-now-legal-6bf0e5730a78"
   ]
  },
  {
   "cell_type": "markdown",
   "metadata": {},
   "source": [
    "# PART A : Liner Regression from scratch \n"
   ]
  },
  {
   "cell_type": "markdown",
   "metadata": {},
   "source": [
    "#### Task 1:  Derive  the equations for regression on the slide no 29,  3_1_Regression.pdf \n",
    "#### Upload your handwritten file as PDF \n"
   ]
  },
  {
   "cell_type": "code",
   "execution_count": null,
   "metadata": {},
   "outputs": [],
   "source": [
    "## Submission Status over Microsoft  [ Yes/No]"
   ]
  },
  {
   "cell_type": "markdown",
   "metadata": {},
   "source": [
    "####  Task 2: Write code from scratch for Linear Regression "
   ]
  },
  {
   "cell_type": "code",
   "execution_count": 2,
   "metadata": {},
   "outputs": [],
   "source": [
    "# Write a function for the caluclate the cost\n",
    "def calculate_cost(slope, intercept, data):\n",
    "    # WRITE YOUR CODE \n",
    "    \n",
    "\n",
    "    \n",
    "    return total_cost"
   ]
  },
  {
   "cell_type": "code",
   "execution_count": 3,
   "metadata": {},
   "outputs": [],
   "source": [
    "# Write a function for the caluclate the slope\n",
    "def calculate_slope(slope, y_intercept, data,learning_rate):\n",
    "    # WRITE YOUR CODE \n",
    "    \n",
    "    \n",
    "\n",
    "    return slope"
   ]
  },
  {
   "cell_type": "code",
   "execution_count": 4,
   "metadata": {},
   "outputs": [],
   "source": [
    "# Write a function for the caluclate the slope\n",
    "def calculate_intercept(slope, y_intercept, data,learning_rate):\n",
    "    # WRITE YOUR CODE \n",
    "     \n",
    "        \n",
    "    \n",
    "    \n",
    "    \n",
    "    return y_intercept"
   ]
  },
  {
   "cell_type": "code",
   "execution_count": 1,
   "metadata": {},
   "outputs": [],
   "source": [
    "# Generate data randomely \n",
    "data=[]\n",
    "for x in range(111):\n",
    "    data.append((x,x))\n",
    "slope=0\n",
    "y_intercept=0\n",
    "cost=calculate_cost(slope, y_intercept, data)\n",
    "print(cost)\n"
   ]
  },
  {
   "cell_type": "code",
   "execution_count": null,
   "metadata": {},
   "outputs": [],
   "source": [
    "learning_rate=0.00001\n",
    "previous_cost=cost+1\n",
    "\n",
    "while # Write the STOPING Criterial :   \n",
    "    new_slope=calculate_slope(slope, y_intercept, data,learning_rate)\n",
    "    new_y_intercept=calculate_intercept(slope, y_intercept, data,learning_rate)\n",
    "    previous_cost=cost\n",
    "    slope=new_slope\n",
    "    y_intercept=new_y_intercept\n",
    "    cost=calculate_cost(slope, y_intercept, data)\n",
    "print('cost:',cost)\n",
    "print('slope:',slope)\n",
    "print('y_intercept:',y_intercept)    \n",
    "    "
   ]
  },
  {
   "cell_type": "markdown",
   "metadata": {},
   "source": [
    "# PART B : Traditional ML Techniques over  MNIT Gait Dataset\n",
    "\n",
    "\n",
    "Take  the filtered Gait Dataset from the Assignment 4.  You need to apply the traditional ML techniques for the analysis of the this dataset.\n",
    "\n",
    "**Objective 1:** Predict the age from the rest of features in the dataset in **[Task 2]** .  \n",
    "\n",
    "**Objective 2:** Identify the gender from the rest of the features in the dataset in **[Task 3-9]** . \n",
    "\n",
    "**Objective 3:** Predict the  knee angle for the next gait cycle **[Task 10]** . "
   ]
  },
  {
   "cell_type": "markdown",
   "metadata": {
    "colab_type": "text",
    "id": "Pp5fKAGn45Pv"
   },
   "source": [
    "### Task 1:   Data reading and package setup\n",
    "1. Read Analysis_MNIT_database.xlsx.    and import the packages \n"
   ]
  },
  {
   "cell_type": "code",
   "execution_count": null,
   "metadata": {},
   "outputs": [],
   "source": [
    "###Your code here"
   ]
  },
  {
   "cell_type": "markdown",
   "metadata": {
    "colab_type": "text",
    "id": "Pp5fKAGn45Pv"
   },
   "source": [
    "### Task 2:  Regression  and SVR \n",
    "\n",
    "Perform the Objective 1:"
   ]
  },
  {
   "cell_type": "code",
   "execution_count": null,
   "metadata": {},
   "outputs": [],
   "source": [
    "###Your code here"
   ]
  },
  {
   "cell_type": "markdown",
   "metadata": {
    "colab_type": "text",
    "id": "Pp5fKAGn45Pv"
   },
   "source": [
    "### Task 3 :  k-Nearest Neighbors\n",
    " "
   ]
  },
  {
   "cell_type": "code",
   "execution_count": null,
   "metadata": {},
   "outputs": [],
   "source": [
    "###Your code here"
   ]
  },
  {
   "cell_type": "markdown",
   "metadata": {
    "colab_type": "text",
    "id": "Pp5fKAGn45Pv"
   },
   "source": [
    "### Task 4:  Logistic Regression\n",
    " "
   ]
  },
  {
   "cell_type": "code",
   "execution_count": null,
   "metadata": {},
   "outputs": [],
   "source": [
    "###Your code here"
   ]
  },
  {
   "cell_type": "markdown",
   "metadata": {
    "colab_type": "text",
    "id": "Pp5fKAGn45Pv"
   },
   "source": [
    "### Task 5:  Bayesian Learning\n",
    " "
   ]
  },
  {
   "cell_type": "code",
   "execution_count": null,
   "metadata": {},
   "outputs": [],
   "source": [
    "###Your code here"
   ]
  },
  {
   "cell_type": "markdown",
   "metadata": {
    "colab_type": "text",
    "id": "Pp5fKAGn45Pv"
   },
   "source": [
    "### Task 6:  Decision Trees\n"
   ]
  },
  {
   "cell_type": "code",
   "execution_count": null,
   "metadata": {},
   "outputs": [],
   "source": [
    "###Your code here"
   ]
  },
  {
   "cell_type": "markdown",
   "metadata": {
    "colab_type": "text",
    "id": "Pp5fKAGn45Pv"
   },
   "source": [
    "### Task 7: Support Vector Machine"
   ]
  },
  {
   "cell_type": "code",
   "execution_count": null,
   "metadata": {},
   "outputs": [],
   "source": [
    "###Your code here"
   ]
  },
  {
   "cell_type": "markdown",
   "metadata": {
    "colab_type": "text",
    "id": "Pp5fKAGn45Pv"
   },
   "source": [
    "### Task 8:  Random Forest\n",
    " "
   ]
  },
  {
   "cell_type": "code",
   "execution_count": null,
   "metadata": {},
   "outputs": [],
   "source": [
    "###Your code here"
   ]
  },
  {
   "cell_type": "markdown",
   "metadata": {
    "colab_type": "text",
    "id": "Pp5fKAGn45Pv"
   },
   "source": [
    "### Task 9:  Any other Ensemble Machine Learning Approach\n"
   ]
  },
  {
   "cell_type": "code",
   "execution_count": 1,
   "metadata": {},
   "outputs": [],
   "source": [
    "###Your code here"
   ]
  },
  {
   "cell_type": "markdown",
   "metadata": {
    "colab_type": "text",
    "id": "Pp5fKAGn45Pv"
   },
   "source": [
    "### Task 10: Take any subject's knee angle and try to predict the  knee angle for the next gait cycle. \n"
   ]
  },
  {
   "cell_type": "code",
   "execution_count": 3,
   "metadata": {},
   "outputs": [],
   "source": [
    "###Your code here"
   ]
  },
  {
   "cell_type": "markdown",
   "metadata": {},
   "source": [
    " "
   ]
  },
  {
   "cell_type": "markdown",
   "metadata": {},
   "source": [
    "## Perform a Comperative analysis of the different Traditional ML techniques used in the dataset using different evaluation parameters available. \n",
    "- for Objective 1\n",
    "- for Objective 2-9\n",
    "- For Objective 10 "
   ]
  },
  {
   "cell_type": "code",
   "execution_count": null,
   "metadata": {},
   "outputs": [],
   "source": [
    "###Your Result  "
   ]
  },
  {
   "cell_type": "code",
   "execution_count": null,
   "metadata": {},
   "outputs": [],
   "source": []
  }
 ],
 "metadata": {
  "kernelspec": {
   "display_name": "Python 3",
   "language": "python",
   "name": "python3"
  },
  "language_info": {
   "codemirror_mode": {
    "name": "ipython",
    "version": 3
   },
   "file_extension": ".py",
   "mimetype": "text/x-python",
   "name": "python",
   "nbconvert_exporter": "python",
   "pygments_lexer": "ipython3",
   "version": "3.7.3"
  }
 },
 "nbformat": 4,
 "nbformat_minor": 2
}
