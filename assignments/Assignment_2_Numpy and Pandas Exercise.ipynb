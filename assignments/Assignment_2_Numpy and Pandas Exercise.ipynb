{
 "cells": [
  {
   "cell_type": "markdown",
   "metadata": {},
   "source": [
    "# CSL558: Machine Learning \n",
    "\n",
    "**Instructor** : [Dr. Chandra Prakash]\n",
    "\n",
    "* For more information visit the [class website](https://cprakash86.wordpress.com/ml/).\n",
    "\n"
   ]
  },
  {
   "cell_type": "markdown",
   "metadata": {},
   "source": [
    "# Assignment 2: Numpy and Pandas  [ Module 1 & 2]\n",
    "\n",
    "\n",
    "**Student Name: Your Name**"
   ]
  },
  {
   "cell_type": "markdown",
   "metadata": {},
   "source": [
    "# Assignment Instructions\n",
    "\n",
    "\n",
    "You must save your as Assignment_NO_Yourname\n",
    "\n",
    "-----------------------------------------------------------------------------------------------------------------\n",
    "### Agenda for the Assignment 2\n",
    "1. We will try to take a dataset and do certain operations using numpy and pandas\n",
    "\n",
    "2. You will be given a dataset and a series of problems. \n",
    "\n",
    "3. You don't have to remember or memorize the syntax. Just go back refer the resources (or web search it) and solve the problem. \n",
    "\n",
    "-----------------------------------------------------------------------------------------------------------------\n",
    "\n",
    "Your source file will most likely end in **.pynb** if you are using a Jupyter notebook; however, it might also end in **.py** if you are using a Python script.\n",
    "\n",
    "You have to add your name and roll no in the Google Colab Instructions section below and print it. "
   ]
  },
  {
   "cell_type": "markdown",
   "metadata": {
    "colab_type": "text",
    "id": "4jt8KqCCpE4Z"
   },
   "source": [
    " "
   ]
  },
  {
   "cell_type": "markdown",
   "metadata": {},
   "source": [
    "# Google CoLab Instructions\n",
    "\n",
    "The following code ensures that Google CoLab is running the correct version of TensorFlow.\n",
    "\n"
   ]
  },
  {
   "cell_type": "code",
   "execution_count": null,
   "metadata": {},
   "outputs": [],
   "source": [
    "try:\n",
    "    from google.colab import drive\n",
    "    %tensorflow_version 2.x\n",
    "    COLAB = True\n",
    "    print(\"Hello World\")\n",
    "    print(\"Note: using Google CoLab\")\n",
    "except:\n",
    "    print(\"Hello NITD\")\n",
    "    print(\"Note: not using Google CoLab\")\n",
    "    COLAB = False\n",
    "    \n",
    "# Print your name and Roll No. \n",
    "# Print the curent time "
   ]
  },
  {
   "cell_type": "markdown",
   "metadata": {},
   "source": []
  },
  {
   "cell_type": "markdown",
   "metadata": {},
   "source": [
    "-----------------------------------------------------------------------------------------------------------------\n",
    "### Task 1: \n",
    "1. Read in the Dataset: Coronavirus Source Data https://ourworldindata.org/coronavirus-source-data<br>\n",
    "2. Print:<br>\n",
    "    a. print the first 5 rows and the last 5 rows (in different cells)<br>\n",
    "    b. the size of the dataframe i.e how many rows and columns<br>\n",
    "    c. datatype of each column<br>\n",
    "    d. basic statistics of each column<br>\n",
    "\n",
    "-----------------------------------------------------------------------------------------------------------------"
   ]
  },
  {
   "cell_type": "code",
   "execution_count": null,
   "metadata": {},
   "outputs": [],
   "source": [
    "###Your code here"
   ]
  },
  {
   "cell_type": "markdown",
   "metadata": {},
   "source": [
    "-----------------------------------------------------------------------------------------------------------------\n",
    "### Task 2:  \n",
    "1. On the dataframe generated above, please answer the following:\n",
    "    \n",
    "    1. Data of how many countries is present? <br>\n",
    "    2. How many continents?<br>\n",
    "    3. How many rows belong to India?<br>\n",
    "    4. what is the window of dates for which data is provided?<br>\n",
    "-----------------------------------------------------------------------------------------------------------------"
   ]
  },
  {
   "cell_type": "code",
   "execution_count": null,
   "metadata": {},
   "outputs": [],
   "source": [
    "### Your code here"
   ]
  },
  {
   "cell_type": "markdown",
   "metadata": {},
   "source": [
    "-----------------------------------------------------------------------------------------------------------------\n",
    "### Task 3:   \n",
    "1. On the dataframe generated above, please answer the following:\n",
    "    \n",
    "    1. Extract Data of only India and make into a new dataframe.<br>\n",
    "    2. Extract only the total cases column.<br>\n",
    "    3. Convert total cases column into percentage. Percentage of total cases. Total cases is the number of cases as on the last date of the dataset. Use Numpy. DO NOT WRITE A LOOP!<br>\n",
    "    4. Add this newly generated column to the India Dataframe.\n",
    "-----------------------------------------------------------------------------------------------------------------"
   ]
  },
  {
   "cell_type": "code",
   "execution_count": null,
   "metadata": {},
   "outputs": [],
   "source": [
    "### Your code here"
   ]
  },
  {
   "cell_type": "markdown",
   "metadata": {},
   "source": [
    "-----------------------------------------------------------------------------------------------------------------\n",
    "### Task 4:   \n",
    "1. On the dataframe generated above, please answer the following:\n",
    "    \n",
    "    1. extract the total deaths and total cases as a numpy array<br>\n",
    "    2. transpose the array<br>\n",
    "    3. crate new array which contains only total cases\n",
    "    4. from the total cases row , extract only rows which are more than 10000\n",
    "-----------------------------------------------------------------------------------------------------------------"
   ]
  },
  {
   "cell_type": "code",
   "execution_count": null,
   "metadata": {},
   "outputs": [],
   "source": [
    "### Your Code Here"
   ]
  },
  {
   "cell_type": "markdown",
   "metadata": {},
   "source": [
    "-----------------------------------------------------------------------------------------------------------------\n",
    "### Task 5:   \n",
    "1. On the dataframe generated above, please answer the following:\n",
    "    \n",
    "    1. Extract data only for 14-06-2020.<br>\n",
    "    2. which country has the max and min\n",
    "    3. take the top 10 and bottom 10 of total cases and total deaths\n",
    "-----------------------------------------------------------------------------------------------------------------"
   ]
  },
  {
   "cell_type": "code",
   "execution_count": null,
   "metadata": {},
   "outputs": [],
   "source": [
    "### Your Code here"
   ]
  },
  {
   "cell_type": "markdown",
   "metadata": {},
   "source": [
    "-----------------------------------------------------------------------------------------------------------------\n",
    "### Task 6:  \n",
    "1. On the dataframe generated above, please answer the following:\n",
    "    \n",
    "    1. Use groupby and<br>\n",
    "        a. print number of countries in each group<br>\n",
    "        b. get the total cases and deaths count for each continent as on 14-08-2020.<br>\n",
    "        \n",
    "    2. use apply() and <br>\n",
    "        a. calculate the mortality rate for each row. and add that mortality data as a new column to the dataframe<br>\n",
    "        \n",
    "    3. do the same without apply<br>\n",
    "    \n",
    "-----------------------------------------------------------------------------------------------------------------"
   ]
  },
  {
   "cell_type": "code",
   "execution_count": null,
   "metadata": {},
   "outputs": [],
   "source": [
    "### Your Code here"
   ]
  },
  {
   "cell_type": "markdown",
   "metadata": {},
   "source": [
    "-----------------------------------------------------------------------------------------------------------------\n",
    "### Task 7:  \n",
    "1. On the India's dataframe, plot the total number of cases, date wise\n",
    "2. Save the India Dataframa as CSV. \n",
    "-----------------------------------------------------------------------------------------------------------------"
   ]
  },
  {
   "cell_type": "code",
   "execution_count": null,
   "metadata": {},
   "outputs": [],
   "source": [
    "### Your Code Here. "
   ]
  }
 ],
 "metadata": {
  "kernelspec": {
   "display_name": "Python 3",
   "language": "python",
   "name": "python3"
  },
  "language_info": {
   "codemirror_mode": {
    "name": "ipython",
    "version": 3
   },
   "file_extension": ".py",
   "mimetype": "text/x-python",
   "name": "python",
   "nbconvert_exporter": "python",
   "pygments_lexer": "ipython3",
   "version": "3.7.3"
  }
 },
 "nbformat": 4,
 "nbformat_minor": 4
}
