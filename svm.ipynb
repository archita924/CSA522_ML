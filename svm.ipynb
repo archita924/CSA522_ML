{
  "nbformat": 4,
  "nbformat_minor": 0,
  "metadata": {
    "colab": {
      "provenance": [],
      "authorship_tag": "ABX9TyPaRk8Ve7xclprM0cKrNk5V",
      "include_colab_link": true
    },
    "kernelspec": {
      "name": "python3",
      "display_name": "Python 3"
    },
    "language_info": {
      "name": "python"
    }
  },
  "cells": [
    {
      "cell_type": "markdown",
      "metadata": {
        "id": "view-in-github",
        "colab_type": "text"
      },
      "source": [
        "<a href=\"https://colab.research.google.com/github/archita924/CSA522_ML/blob/master/svm.ipynb\" target=\"_parent\"><img src=\"https://colab.research.google.com/assets/colab-badge.svg\" alt=\"Open In Colab\"/></a>"
      ]
    },
    {
      "cell_type": "code",
      "execution_count": 2,
      "metadata": {
        "colab": {
          "base_uri": "https://localhost:8080/"
        },
        "id": "F9UZ61_2zmdp",
        "outputId": "1b4b14f0-fb45-4098-a211-d325148c8b71"
      },
      "outputs": [
        {
          "output_type": "stream",
          "name": "stdout",
          "text": [
            "[[3 0]\n",
            " [1 4]]\n",
            "model accuracy is: 87.5 %\n"
          ]
        }
      ],
      "source": [
        "# import required libraries\n",
        "\n",
        "import pandas as pd\n",
        "from sklearn.model_selection import train_test_split\n",
        "from sklearn.svm import SVC\n",
        "from sklearn.metrics import confusion_matrix\n",
        "from sklearn.preprocessing import LabelEncoder\n",
        "\n",
        "# read data from csv file\n",
        "data = pd.read_csv('/content/apples_and_oranges.csv')\n",
        "#print(data)\n",
        "\n",
        "# splitting data into training and test set\n",
        "training_set,test_set = train_test_split(data,test_size=0.2,random_state=1)\n",
        "#print(\"train:\",training_set)\n",
        "#print(\"test:\",test_set)\n",
        "\n",
        "# prepare data for applying it to svm\n",
        "x_train = training_set.iloc[:,0:2].values  # data\n",
        "y_train = training_set.iloc[:,2].values  # target\n",
        "x_test = test_set.iloc[:,0:2].values  # data\n",
        "y_test = test_set.iloc[:,2].values  # target\n",
        "#print(x_train,y_train)\n",
        "#print(x_test,y_test)\n",
        "\n",
        "# fitting the data (train a model)\n",
        "classifier = SVC(kernel='rbf',random_state=1,C=1,gamma='auto')\n",
        "classifier.fit(x_train,y_train)\n",
        "\n",
        "# perform prediction on x_test data\n",
        "y_pred = classifier.predict(x_test)\n",
        "#test_set['prediction']=y_pred\n",
        "#print(y_pred)\n",
        "\n",
        "# creating confusion matrix and accuracy calculation\n",
        "cm = confusion_matrix(y_test,y_pred)\n",
        "print(cm)\n",
        "accuracy = float(cm.diagonal().sum())/len(y_test)\n",
        "print('model accuracy is:',accuracy*100,'%')\n",
        "\n",
        "\n",
        "#x1_test = [[73,6]] # for new data testing"
      ]
    }
  ]
}