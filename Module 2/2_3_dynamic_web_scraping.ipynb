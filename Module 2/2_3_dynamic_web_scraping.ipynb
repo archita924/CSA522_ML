{
 "cells": [
  {
   "cell_type": "markdown",
   "metadata": {},
   "source": [
    "# CSL558: Machine Learning \n",
    "\n",
    "\n",
    "**Module 2: Data Preparation and Feature Engineering in ML**\n",
    "\n"
   ]
  },
  {
   "cell_type": "markdown",
   "metadata": {
    "colab_type": "text",
    "id": "VXBnCMHVybJS"
   },
   "source": [
    "# Tutorial 2.3: Web Scraping from dynamic page \n"
   ]
  },
  {
   "cell_type": "markdown",
   "metadata": {},
   "source": [
    "###  Create your own data set from already Available data but not directely downloadable \n"
   ]
  },
  {
   "cell_type": "markdown",
   "metadata": {
    "colab_type": "text",
    "id": "DGY3jj0XQZ74"
   },
   "source": [
    "## X-Path Queries"
   ]
  },
  {
   "cell_type": "code",
   "execution_count": null,
   "metadata": {
    "colab": {},
    "colab_type": "code",
    "id": "ErQzJPKlQdXk"
   },
   "outputs": [],
   "source": [
    "# Install this chrome extension\n",
    "# https://chrome.google.com/webstore/detail/xpath-helper/hgimnogjllphhhkhlmebbmlgjoejdpjl"
   ]
  },
  {
   "cell_type": "code",
   "execution_count": null,
   "metadata": {
    "colab": {},
    "colab_type": "code",
    "id": "8Z46yLoJcdYg"
   },
   "outputs": [],
   "source": [
    "# Open this link: https://reallysaurabh.github.io/assets/books.html\n",
    "\n",
    "# Explain the XML as well"
   ]
  },
  {
   "cell_type": "markdown",
   "metadata": {
    "colab_type": "text",
    "id": "hw4yAjpAXTrs"
   },
   "source": [
    "## Selenium \n",
    "\n",
    "https://selenium-python.readthedocs.io/ \n"
   ]
  },
  {
   "cell_type": "code",
   "execution_count": 1,
   "metadata": {
    "colab": {
     "base_uri": "https://localhost:8080/",
     "height": 1000
    },
    "colab_type": "code",
    "id": "wo8GsEUlJJNU",
    "outputId": "7df32586-94cb-4c25-d7c4-60d3fb3521f8"
   },
   "outputs": [
    {
     "name": "stdout",
     "output_type": "stream",
     "text": [
      "Collecting selenium\n",
      "\u001b[?25l  Downloading https://files.pythonhosted.org/packages/80/d6/4294f0b4bce4de0abf13e17190289f9d0613b0a44e5dd6a7f5ca98459853/selenium-3.141.0-py2.py3-none-any.whl (904kB)\n",
      "\r",
      "\u001b[K     |▍                               | 10kB 18.1MB/s eta 0:00:01\r",
      "\u001b[K     |▊                               | 20kB 6.5MB/s eta 0:00:01\r",
      "\u001b[K     |█                               | 30kB 8.0MB/s eta 0:00:01\r",
      "\u001b[K     |█▌                              | 40kB 8.8MB/s eta 0:00:01\r",
      "\u001b[K     |█▉                              | 51kB 7.2MB/s eta 0:00:01\r",
      "\u001b[K     |██▏                             | 61kB 7.9MB/s eta 0:00:01\r",
      "\u001b[K     |██▌                             | 71kB 8.5MB/s eta 0:00:01\r",
      "\u001b[K     |███                             | 81kB 8.1MB/s eta 0:00:01\r",
      "\u001b[K     |███▎                            | 92kB 7.6MB/s eta 0:00:01\r",
      "\u001b[K     |███▋                            | 102kB 8.1MB/s eta 0:00:01\r",
      "\u001b[K     |████                            | 112kB 8.1MB/s eta 0:00:01\r",
      "\u001b[K     |████▍                           | 122kB 8.1MB/s eta 0:00:01\r",
      "\u001b[K     |████▊                           | 133kB 8.1MB/s eta 0:00:01\r",
      "\u001b[K     |█████                           | 143kB 8.1MB/s eta 0:00:01\r",
      "\u001b[K     |█████▍                          | 153kB 8.1MB/s eta 0:00:01\r",
      "\u001b[K     |█████▉                          | 163kB 8.1MB/s eta 0:00:01\r",
      "\u001b[K     |██████▏                         | 174kB 8.1MB/s eta 0:00:01\r",
      "\u001b[K     |██████▌                         | 184kB 8.1MB/s eta 0:00:01\r",
      "\u001b[K     |██████▉                         | 194kB 8.1MB/s eta 0:00:01\r",
      "\u001b[K     |███████▎                        | 204kB 8.1MB/s eta 0:00:01\r",
      "\u001b[K     |███████▋                        | 215kB 8.1MB/s eta 0:00:01\r",
      "\u001b[K     |████████                        | 225kB 8.1MB/s eta 0:00:01\r",
      "\u001b[K     |████████▎                       | 235kB 8.1MB/s eta 0:00:01\r",
      "\u001b[K     |████████▊                       | 245kB 8.1MB/s eta 0:00:01\r",
      "\u001b[K     |█████████                       | 256kB 8.1MB/s eta 0:00:01\r",
      "\u001b[K     |█████████▍                      | 266kB 8.1MB/s eta 0:00:01\r",
      "\u001b[K     |█████████▉                      | 276kB 8.1MB/s eta 0:00:01\r",
      "\u001b[K     |██████████▏                     | 286kB 8.1MB/s eta 0:00:01\r",
      "\u001b[K     |██████████▌                     | 296kB 8.1MB/s eta 0:00:01\r",
      "\u001b[K     |██████████▉                     | 307kB 8.1MB/s eta 0:00:01\r",
      "\u001b[K     |███████████▎                    | 317kB 8.1MB/s eta 0:00:01\r",
      "\u001b[K     |███████████▋                    | 327kB 8.1MB/s eta 0:00:01\r",
      "\u001b[K     |████████████                    | 337kB 8.1MB/s eta 0:00:01\r",
      "\u001b[K     |████████████▎                   | 348kB 8.1MB/s eta 0:00:01\r",
      "\u001b[K     |████████████▊                   | 358kB 8.1MB/s eta 0:00:01\r",
      "\u001b[K     |█████████████                   | 368kB 8.1MB/s eta 0:00:01\r",
      "\u001b[K     |█████████████▍                  | 378kB 8.1MB/s eta 0:00:01\r",
      "\u001b[K     |█████████████▊                  | 389kB 8.1MB/s eta 0:00:01\r",
      "\u001b[K     |██████████████▏                 | 399kB 8.1MB/s eta 0:00:01\r",
      "\u001b[K     |██████████████▌                 | 409kB 8.1MB/s eta 0:00:01\r",
      "\u001b[K     |██████████████▉                 | 419kB 8.1MB/s eta 0:00:01\r",
      "\u001b[K     |███████████████▏                | 430kB 8.1MB/s eta 0:00:01\r",
      "\u001b[K     |███████████████▋                | 440kB 8.1MB/s eta 0:00:01\r",
      "\u001b[K     |████████████████                | 450kB 8.1MB/s eta 0:00:01\r",
      "\u001b[K     |████████████████▎               | 460kB 8.1MB/s eta 0:00:01\r",
      "\u001b[K     |████████████████▋               | 471kB 8.1MB/s eta 0:00:01\r",
      "\u001b[K     |█████████████████               | 481kB 8.1MB/s eta 0:00:01\r",
      "\u001b[K     |█████████████████▍              | 491kB 8.1MB/s eta 0:00:01\r",
      "\u001b[K     |█████████████████▊              | 501kB 8.1MB/s eta 0:00:01\r",
      "\u001b[K     |██████████████████▏             | 512kB 8.1MB/s eta 0:00:01\r",
      "\u001b[K     |██████████████████▌             | 522kB 8.1MB/s eta 0:00:01\r",
      "\u001b[K     |██████████████████▉             | 532kB 8.1MB/s eta 0:00:01\r",
      "\u001b[K     |███████████████████▏            | 542kB 8.1MB/s eta 0:00:01\r",
      "\u001b[K     |███████████████████▋            | 552kB 8.1MB/s eta 0:00:01\r",
      "\u001b[K     |████████████████████            | 563kB 8.1MB/s eta 0:00:01\r",
      "\u001b[K     |████████████████████▎           | 573kB 8.1MB/s eta 0:00:01\r",
      "\u001b[K     |████████████████████▋           | 583kB 8.1MB/s eta 0:00:01\r",
      "\u001b[K     |█████████████████████           | 593kB 8.1MB/s eta 0:00:01\r",
      "\u001b[K     |█████████████████████▍          | 604kB 8.1MB/s eta 0:00:01\r",
      "\u001b[K     |█████████████████████▊          | 614kB 8.1MB/s eta 0:00:01\r",
      "\u001b[K     |██████████████████████          | 624kB 8.1MB/s eta 0:00:01\r",
      "\u001b[K     |██████████████████████▌         | 634kB 8.1MB/s eta 0:00:01\r",
      "\u001b[K     |██████████████████████▉         | 645kB 8.1MB/s eta 0:00:01\r",
      "\u001b[K     |███████████████████████▏        | 655kB 8.1MB/s eta 0:00:01\r",
      "\u001b[K     |███████████████████████▌        | 665kB 8.1MB/s eta 0:00:01\r",
      "\u001b[K     |████████████████████████        | 675kB 8.1MB/s eta 0:00:01\r",
      "\u001b[K     |████████████████████████▎       | 686kB 8.1MB/s eta 0:00:01\r",
      "\u001b[K     |████████████████████████▋       | 696kB 8.1MB/s eta 0:00:01\r",
      "\u001b[K     |█████████████████████████       | 706kB 8.1MB/s eta 0:00:01\r",
      "\u001b[K     |█████████████████████████▍      | 716kB 8.1MB/s eta 0:00:01\r",
      "\u001b[K     |█████████████████████████▊      | 727kB 8.1MB/s eta 0:00:01\r",
      "\u001b[K     |██████████████████████████      | 737kB 8.1MB/s eta 0:00:01\r",
      "\u001b[K     |██████████████████████████▍     | 747kB 8.1MB/s eta 0:00:01\r",
      "\u001b[K     |██████████████████████████▉     | 757kB 8.1MB/s eta 0:00:01\r",
      "\u001b[K     |███████████████████████████▏    | 768kB 8.1MB/s eta 0:00:01\r",
      "\u001b[K     |███████████████████████████▌    | 778kB 8.1MB/s eta 0:00:01\r",
      "\u001b[K     |████████████████████████████    | 788kB 8.1MB/s eta 0:00:01\r",
      "\u001b[K     |████████████████████████████▎   | 798kB 8.1MB/s eta 0:00:01\r",
      "\u001b[K     |████████████████████████████▋   | 808kB 8.1MB/s eta 0:00:01\r",
      "\u001b[K     |█████████████████████████████   | 819kB 8.1MB/s eta 0:00:01\r",
      "\u001b[K     |█████████████████████████████▍  | 829kB 8.1MB/s eta 0:00:01\r",
      "\u001b[K     |█████████████████████████████▊  | 839kB 8.1MB/s eta 0:00:01\r",
      "\u001b[K     |██████████████████████████████  | 849kB 8.1MB/s eta 0:00:01\r",
      "\u001b[K     |██████████████████████████████▍ | 860kB 8.1MB/s eta 0:00:01\r",
      "\u001b[K     |██████████████████████████████▉ | 870kB 8.1MB/s eta 0:00:01\r",
      "\u001b[K     |███████████████████████████████▏| 880kB 8.1MB/s eta 0:00:01\r",
      "\u001b[K     |███████████████████████████████▌| 890kB 8.1MB/s eta 0:00:01\r",
      "\u001b[K     |███████████████████████████████▉| 901kB 8.1MB/s eta 0:00:01\r",
      "\u001b[K     |████████████████████████████████| 911kB 8.1MB/s \n",
      "\u001b[?25hRequirement already satisfied: urllib3 in /usr/local/lib/python3.6/dist-packages (from selenium) (1.24.3)\n",
      "Installing collected packages: selenium\n",
      "Successfully installed selenium-3.141.0\n",
      "Hit:1 http://ppa.launchpad.net/graphics-drivers/ppa/ubuntu bionic InRelease\n",
      "Hit:2 http://archive.ubuntu.com/ubuntu bionic InRelease\n",
      "Get:3 http://archive.ubuntu.com/ubuntu bionic-updates InRelease [88.7 kB]\n",
      "Get:4 http://ppa.launchpad.net/marutter/c2d4u3.5/ubuntu bionic InRelease [15.4 kB]\n",
      "Get:5 https://cloud.r-project.org/bin/linux/ubuntu bionic-cran35/ InRelease [3,626 B]\n",
      "Get:6 http://archive.ubuntu.com/ubuntu bionic-backports InRelease [74.6 kB]\n",
      "Get:7 http://security.ubuntu.com/ubuntu bionic-security InRelease [88.7 kB]\n",
      "Ign:8 https://developer.download.nvidia.com/compute/cuda/repos/ubuntu1804/x86_64  InRelease\n",
      "Ign:9 https://developer.download.nvidia.com/compute/machine-learning/repos/ubuntu1804/x86_64  InRelease\n",
      "Get:10 https://developer.download.nvidia.com/compute/cuda/repos/ubuntu1804/x86_64  Release [697 B]\n",
      "Get:11 https://developer.download.nvidia.com/compute/machine-learning/repos/ubuntu1804/x86_64  Release [564 B]\n",
      "Get:12 https://developer.download.nvidia.com/compute/cuda/repos/ubuntu1804/x86_64  Release.gpg [836 B]\n",
      "Get:13 https://developer.download.nvidia.com/compute/machine-learning/repos/ubuntu1804/x86_64  Release.gpg [833 B]\n",
      "Get:14 http://ppa.launchpad.net/marutter/c2d4u3.5/ubuntu bionic/main Sources [1,847 kB]\n",
      "Get:15 http://ppa.launchpad.net/marutter/c2d4u3.5/ubuntu bionic/main amd64 Packages [892 kB]\n",
      "Get:16 https://cloud.r-project.org/bin/linux/ubuntu bionic-cran35/ Packages [94.1 kB]\n",
      "Get:17 http://archive.ubuntu.com/ubuntu bionic-updates/restricted amd64 Packages [103 kB]\n",
      "Get:18 http://archive.ubuntu.com/ubuntu bionic-updates/universe amd64 Packages [1,405 kB]\n",
      "Get:19 http://archive.ubuntu.com/ubuntu bionic-updates/main amd64 Packages [1,303 kB]\n",
      "Get:20 http://archive.ubuntu.com/ubuntu bionic-updates/multiverse amd64 Packages [13.6 kB]\n",
      "Ign:21 https://developer.download.nvidia.com/compute/cuda/repos/ubuntu1804/x86_64  Packages\n",
      "Get:21 https://developer.download.nvidia.com/compute/cuda/repos/ubuntu1804/x86_64  Packages [214 kB]\n",
      "Get:22 https://developer.download.nvidia.com/compute/machine-learning/repos/ubuntu1804/x86_64  Packages [41.2 kB]\n",
      "Get:23 http://security.ubuntu.com/ubuntu bionic-security/universe amd64 Packages [869 kB]\n",
      "Get:24 http://security.ubuntu.com/ubuntu bionic-security/restricted amd64 Packages [89.0 kB]\n",
      "Get:25 http://security.ubuntu.com/ubuntu bionic-security/main amd64 Packages [1,003 kB]\n",
      "Get:26 http://security.ubuntu.com/ubuntu bionic-security/multiverse amd64 Packages [9,282 B]\n",
      "Fetched 8,157 kB in 3s (2,945 kB/s)\n",
      "Reading package lists... Done\n",
      "Reading package lists... Done\n",
      "Building dependency tree       \n",
      "Reading state information... Done\n",
      "The following package was automatically installed and is no longer required:\n",
      "  libnvidia-common-440\n",
      "Use 'apt autoremove' to remove it.\n",
      "The following additional packages will be installed:\n",
      "  chromium-browser chromium-browser-l10n chromium-codecs-ffmpeg-extra\n",
      "Suggested packages:\n",
      "  webaccounts-chromium-extension unity-chromium-extension adobe-flashplugin\n",
      "The following NEW packages will be installed:\n",
      "  chromium-browser chromium-browser-l10n chromium-chromedriver\n",
      "  chromium-codecs-ffmpeg-extra\n",
      "0 upgraded, 4 newly installed, 0 to remove and 81 not upgraded.\n",
      "Need to get 75.5 MB of archives.\n",
      "After this operation, 256 MB of additional disk space will be used.\n",
      "Get:1 http://archive.ubuntu.com/ubuntu bionic-updates/universe amd64 chromium-codecs-ffmpeg-extra amd64 83.0.4103.61-0ubuntu0.18.04.1 [1,119 kB]\n",
      "Get:2 http://archive.ubuntu.com/ubuntu bionic-updates/universe amd64 chromium-browser amd64 83.0.4103.61-0ubuntu0.18.04.1 [66.7 MB]\n",
      "Get:3 http://archive.ubuntu.com/ubuntu bionic-updates/universe amd64 chromium-browser-l10n all 83.0.4103.61-0ubuntu0.18.04.1 [3,378 kB]\n",
      "Get:4 http://archive.ubuntu.com/ubuntu bionic-updates/universe amd64 chromium-chromedriver amd64 83.0.4103.61-0ubuntu0.18.04.1 [4,294 kB]\n",
      "Fetched 75.5 MB in 1s (70.9 MB/s)\n",
      "Selecting previously unselected package chromium-codecs-ffmpeg-extra.\n",
      "(Reading database ... 144379 files and directories currently installed.)\n",
      "Preparing to unpack .../chromium-codecs-ffmpeg-extra_83.0.4103.61-0ubuntu0.18.04.1_amd64.deb ...\n",
      "Unpacking chromium-codecs-ffmpeg-extra (83.0.4103.61-0ubuntu0.18.04.1) ...\n",
      "Selecting previously unselected package chromium-browser.\n",
      "Preparing to unpack .../chromium-browser_83.0.4103.61-0ubuntu0.18.04.1_amd64.deb ...\n",
      "Unpacking chromium-browser (83.0.4103.61-0ubuntu0.18.04.1) ...\n",
      "Selecting previously unselected package chromium-browser-l10n.\n",
      "Preparing to unpack .../chromium-browser-l10n_83.0.4103.61-0ubuntu0.18.04.1_all.deb ...\n",
      "Unpacking chromium-browser-l10n (83.0.4103.61-0ubuntu0.18.04.1) ...\n",
      "Selecting previously unselected package chromium-chromedriver.\n",
      "Preparing to unpack .../chromium-chromedriver_83.0.4103.61-0ubuntu0.18.04.1_amd64.deb ...\n",
      "Unpacking chromium-chromedriver (83.0.4103.61-0ubuntu0.18.04.1) ...\n",
      "Setting up chromium-codecs-ffmpeg-extra (83.0.4103.61-0ubuntu0.18.04.1) ...\n",
      "Setting up chromium-browser (83.0.4103.61-0ubuntu0.18.04.1) ...\n",
      "update-alternatives: using /usr/bin/chromium-browser to provide /usr/bin/x-www-browser (x-www-browser) in auto mode\n",
      "update-alternatives: using /usr/bin/chromium-browser to provide /usr/bin/gnome-www-browser (gnome-www-browser) in auto mode\n",
      "Setting up chromium-chromedriver (83.0.4103.61-0ubuntu0.18.04.1) ...\n",
      "Setting up chromium-browser-l10n (83.0.4103.61-0ubuntu0.18.04.1) ...\n",
      "Processing triggers for hicolor-icon-theme (0.17-2) ...\n",
      "Processing triggers for mime-support (3.60ubuntu1) ...\n",
      "Processing triggers for man-db (2.8.3-2ubuntu0.1) ...\n",
      "cp: '/usr/lib/chromium-browser/chromedriver' and '/usr/bin/chromedriver' are the same file\n"
     ]
    }
   ],
   "source": [
    "!pip install selenium\n",
    "!apt-get update # to update ubuntu to correctly run apt install\n",
    "!apt install chromium-chromedriver\n",
    "!cp /usr/lib/chromium-browser/chromedriver /usr/bin"
   ]
  },
  {
   "cell_type": "code",
   "execution_count": null,
   "metadata": {
    "colab": {},
    "colab_type": "code",
    "id": "qII1c4-1QXW1"
   },
   "outputs": [],
   "source": []
  },
  {
   "cell_type": "code",
   "execution_count": 2,
   "metadata": {
    "colab": {
     "base_uri": "https://localhost:8080/",
     "height": 50
    },
    "colab_type": "code",
    "id": "pllhlGBJJlL6",
    "outputId": "a2c63910-778c-4710-a13b-226a6bc39269"
   },
   "outputs": [
    {
     "name": "stderr",
     "output_type": "stream",
     "text": [
      "/usr/local/lib/python3.6/dist-packages/ipykernel_launcher.py:9: DeprecationWarning: use options instead of chrome_options\n",
      "  if __name__ == '__main__':\n"
     ]
    }
   ],
   "source": [
    "import sys\n",
    "sys.path.insert(0,'/usr/lib/chromium-browser/chromedriver')\n",
    "from selenium import webdriver\n",
    "chrome_options = webdriver.ChromeOptions()\n",
    "chrome_options.add_argument('--headless')\n",
    "chrome_options.add_argument('--no-sandbox')\n",
    "chrome_options.add_argument('--disable-dev-shm-usage')\n",
    "\n",
    "driver = webdriver.Chrome('chromedriver',chrome_options=chrome_options)\n"
   ]
  },
  {
   "cell_type": "code",
   "execution_count": 4,
   "metadata": {
    "colab": {},
    "colab_type": "code",
    "id": "_QA2NGrHJ4l5"
   },
   "outputs": [],
   "source": [
    "url = \"https://inshorts.com/hi/read/\"\n",
    "driver.get(url)"
   ]
  },
  {
   "cell_type": "code",
   "execution_count": 6,
   "metadata": {
    "colab": {},
    "colab_type": "code",
    "id": "nyfJn9Y7NTEJ"
   },
   "outputs": [],
   "source": [
    "html = driver.page_source.encode('utf-8')\n"
   ]
  },
  {
   "cell_type": "code",
   "execution_count": 7,
   "metadata": {
    "colab": {},
    "colab_type": "code",
    "id": "MJWT1YMQ1Qq8"
   },
   "outputs": [],
   "source": [
    "from selenium import webdriver\n",
    "import time\n",
    "from bs4 import BeautifulSoup\n",
    "from urllib.parse import quote_plus\n",
    "from selenium.webdriver.common.action_chains import ActionChains\n",
    "\n"
   ]
  },
  {
   "cell_type": "code",
   "execution_count": null,
   "metadata": {
    "colab": {},
    "colab_type": "code",
    "id": "pHQSVHgC1nRl"
   },
   "outputs": [],
   "source": []
  },
  {
   "cell_type": "code",
   "execution_count": 9,
   "metadata": {
    "colab": {
     "base_uri": "https://localhost:8080/",
     "height": 104
    },
    "colab_type": "code",
    "id": "S22XJ35L04CB",
    "outputId": "8f057181-62af-41d4-a321-0ed217bf634f"
   },
   "outputs": [
    {
     "name": "stdout",
     "output_type": "stream",
     "text": [
      "getting page number 1\n",
      "1594568345591\n",
      "बिहार में 1266 मामलों के साथ दर्ज हुए एक दिन के सर्वाधिक कोरोना केस; कुल मामले 16305\n",
      "बिहार स्वास्थ्य विभाग के अनुसार, पिछले 24 घंटे में राज्य में दर्ज हुए एक दिन के सर्वाधिक 1266 मामलों के साथ कुल केस बढ़कर 16,305 हो गए। वहीं, 962 नए मरीज़ों के ठीक होने के बाद ठीक/डिस्चार्ज हुए मरीज़ों की कुल संख्या 11,953 हो गई है। राज्य में संक्रमण से अब तक 125 लोगों की मौत हो चुकी है।\n"
     ]
    }
   ],
   "source": [
    "page_num = 0\n",
    "ids = []\n",
    "visited = []\n",
    "while driver.find_elements_by_css_selector('.load-more'):\n",
    "  \n",
    "  driver.implicitly_wait(5)\n",
    "  driver.find_element_by_css_selector('.load-more').click()\n",
    "  page_num += 1\n",
    "  print(\"getting page number \"+str(page_num))\n",
    "  soup = BeautifulSoup(driver.page_source, features=\"html.parser\")\n",
    "  headlines = []\n",
    "  summaries = []\n",
    "  news = []\n",
    "  \n",
    "  for i in soup.findAll(\"span\", {\"itemprop\" : \"mainEntityOfPage\"}):\n",
    "    if i['itemid'].split('-')[-1] not in ids:\n",
    "      ids.append(i['itemid'].split('-')[-1])\n",
    "      visited.append(0)\n",
    "  \n",
    "  for i in soup.findAll(\"span\", {\"itemprop\" : \"headline\"}):\n",
    "    headlines.append(i.text)\n",
    "  for i in soup.findAll(\"div\", {\"itemprop\" : \"articleBody\"}):\n",
    "    summaries.append(i.text)\n",
    "  \n",
    "  if page_num == 1:\n",
    "    break\n",
    "\n",
    "print(ids[0])\n",
    "print(headlines[0])\n",
    "print(summaries[0])\n"
   ]
  },
  {
   "cell_type": "code",
   "execution_count": 10,
   "metadata": {
    "colab": {
     "base_uri": "https://localhost:8080/",
     "height": 87
    },
    "colab_type": "code",
    "id": "p9Tp3oVN4Hcp",
    "outputId": "ae896357-7fa7-4cb4-95c5-09f4852e53d5"
   },
   "outputs": [
    {
     "name": "stdout",
     "output_type": "stream",
     "text": [
      "1594568345591\n",
      "बिहार में 1266 मामलों के साथ दर्ज हुए एक दिन के सर्वाधिक कोरोना केस; कुल मामले 16305\n",
      "बिहार स्वास्थ्य विभाग के अनुसार, पिछले 24 घंटे में राज्य में दर्ज हुए एक दिन के सर्वाधिक 1266 मामलों के साथ कुल केस बढ़कर 16,305 हो गए। वहीं, 962 नए मरीज़ों के ठीक होने के बाद ठीक/डिस्चार्ज हुए मरीज़ों की कुल संख्या 11,953 हो गई है। राज्य में संक्रमण से अब तक 125 लोगों की मौत हो चुकी है।\n"
     ]
    }
   ],
   "source": [
    "print(ids[0])\n",
    "print(headlines[0])\n",
    "print(summaries[0])\n"
   ]
  }
 ],
 "metadata": {
  "colab": {
   "name": "dynamic_web_scraping.ipynb",
   "provenance": []
  },
  "kernelspec": {
   "display_name": "Python 3",
   "language": "python",
   "name": "python3"
  },
  "language_info": {
   "codemirror_mode": {
    "name": "ipython",
    "version": 3
   },
   "file_extension": ".py",
   "mimetype": "text/x-python",
   "name": "python",
   "nbconvert_exporter": "python",
   "pygments_lexer": "ipython3",
   "version": "3.7.3"
  }
 },
 "nbformat": 4,
 "nbformat_minor": 1
}
