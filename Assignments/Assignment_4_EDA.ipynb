{
  "nbformat": 4,
  "nbformat_minor": 0,
  "metadata": {
    "colab": {
      "provenance": [],
      "collapsed_sections": []
    },
    "kernelspec": {
      "name": "python3",
      "display_name": "Python 3"
    },
    "language_info": {
      "name": "python"
    }
  },
  "cells": [
    {
      "cell_type": "markdown",
      "source": [
        "LAB Assignment 4: EDA Assignment \n",
        "\n",
        "Due Date: 18-09-2022\n",
        "\n",
        "Student Name: \n",
        "\n",
        "Roll No : \n"
      ],
      "metadata": {
        "id": "LnfuSxr0pnYY"
      }
    },
    {
      "cell_type": "code",
      "execution_count": null,
      "metadata": {
        "id": "nNpjmJ6vpS8i"
      },
      "outputs": [],
      "source": []
    },
    {
      "cell_type": "markdown",
      "source": [
        "Task 1: Import and Explore the dataset. ( https://drive.google.com/file/d/1QZ4q7K3jwajWVrFp-QY_UX_y19J3xAzH/view?usp=sharing )\n",
        "- Checking Data Types\n",
        "- Display dataset features and summary"
      ],
      "metadata": {
        "id": "xDGPqRT-p8Hz"
      }
    },
    {
      "cell_type": "code",
      "source": [],
      "metadata": {
        "id": "KzQetHdgpjbm"
      },
      "execution_count": null,
      "outputs": []
    },
    {
      "cell_type": "markdown",
      "source": [
        "Task 2: Drop the Irrelevant Columns and Rows"
      ],
      "metadata": {
        "id": "TuVTGvbrqT1X"
      }
    },
    {
      "cell_type": "code",
      "source": [],
      "metadata": {
        "id": "lv5PttGcs8AC"
      },
      "execution_count": null,
      "outputs": []
    },
    {
      "cell_type": "markdown",
      "source": [
        "Task 3: \n",
        "Handle missing data in Monthly_Inhand_Salary\n",
        "- Handle missing data in Type_of_Loan\n",
        "- Handle missing data in Num_Credit_Inquiries"
      ],
      "metadata": {
        "id": "TlIev_LCtOqR"
      }
    },
    {
      "cell_type": "code",
      "source": [],
      "metadata": {
        "id": "fTGa8NDjtVUL"
      },
      "execution_count": null,
      "outputs": []
    },
    {
      "cell_type": "markdown",
      "source": [
        "Task 4: Replace the Invalid Values"
      ],
      "metadata": {
        "id": "cN9475zSta8-"
      }
    },
    {
      "cell_type": "code",
      "source": [],
      "metadata": {
        "id": "4loM_WqvtaXa"
      },
      "execution_count": null,
      "outputs": []
    },
    {
      "cell_type": "markdown",
      "source": [
        "Task 5: Drop the missing or NULLs and NaNs"
      ],
      "metadata": {
        "id": "z86MWOwAtsgR"
      }
    },
    {
      "cell_type": "code",
      "source": [],
      "metadata": {
        "id": "wo2nmo-ht3Zk"
      },
      "execution_count": null,
      "outputs": []
    },
    {
      "cell_type": "markdown",
      "source": [
        "Task 6: Detect the Outliers and split dataframe to outliers and clean then analyze outliers dataframe."
      ],
      "metadata": {
        "id": "SBLEXtMyt4Ek"
      }
    },
    {
      "cell_type": "code",
      "source": [],
      "metadata": {
        "id": "LSSXNO9luFlQ"
      },
      "execution_count": null,
      "outputs": []
    },
    {
      "cell_type": "markdown",
      "source": [
        "##* Task 7: Plot the distribution of data in target feature(credit score)"
      ],
      "metadata": {
        "id": "B5HoowJcvhhH"
      }
    },
    {
      "cell_type": "code",
      "source": [],
      "metadata": {
        "id": "d8ONRKyPvqlc"
      },
      "execution_count": null,
      "outputs": []
    },
    {
      "cell_type": "markdown",
      "source": [
        "Task 8: Assign proper datatypes\n",
        "- Typecast the Age feature to int\n",
        "- Typecast the Num_of_Loan feature to int\n",
        "- Convert numerical columns into float64"
      ],
      "metadata": {
        "id": "dxjVLnijwBeF"
      }
    },
    {
      "cell_type": "markdown",
      "source": [
        "Task 9: For age column check for outliars and age can be max 100 so we will replace if there is any number greater than 100 with 0."
      ],
      "metadata": {
        "id": "ZobHj9XkuGTi"
      }
    },
    {
      "cell_type": "code",
      "source": [],
      "metadata": {
        "id": "3DvqAkV6x6C3"
      },
      "execution_count": null,
      "outputs": []
    },
    {
      "cell_type": "markdown",
      "source": [
        "Task 10: Display Variance, Standard Deviation, Median and 1st & 3rd Quartiles for Outstanding_Debt (using box plot)"
      ],
      "metadata": {
        "id": "nL4yiFFiyHI0"
      }
    },
    {
      "cell_type": "code",
      "source": [],
      "metadata": {
        "id": "Tgw4W3kJyGr9"
      },
      "execution_count": null,
      "outputs": []
    }
  ]
}