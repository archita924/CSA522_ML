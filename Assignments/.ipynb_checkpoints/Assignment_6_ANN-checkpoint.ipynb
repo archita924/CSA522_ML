{
 "cells": [
  {
   "cell_type": "markdown",
   "metadata": {},
   "source": [
    "# CSL558: Machine Learning \n",
    "\n",
    "**Instructor** : [Dr. Chandra Prakash]\n",
    "\n",
    "* For more information visit the [class website](https://cprakash86.wordpress.com/ml/).\n",
    "\n"
   ]
  },
  {
   "cell_type": "markdown",
   "metadata": {},
   "source": [
    "# Assignment 6:  Artifical Neural Network on MNIT Gait DATASET\n",
    "\n",
    "**Due Date: 14-Sept-2020**\n",
    "\n",
    "\n",
    "**Student Name: Your Name**"
   ]
  },
  {
   "cell_type": "markdown",
   "metadata": {},
   "source": [
    "# Assignment Instructions\n",
    "\n",
    "\n",
    "You must save your as **Assignment_NO_Yourname**\n",
    "\n",
    "-----------------------------------------------------------------------------------------------------------------\n",
    "### Agenda for the Assignment 6\n",
    "1. Understand the working of the Preception : \n",
    "2. Understand the working of the  BP-NN : \n",
    "\n",
    "\n",
    "\n",
    "-----------------------------------------------------------------------------------------------------------------\n",
    "\n",
    "Your source file will most likely end in **.pynb** if you are using a Jupyter notebook; however, it might also end in **.py** if you are using a Python script.\n",
    "\n",
    "You have to add your name and roll no in the Google Colab Instructions section below and print it. "
   ]
  },
  {
   "cell_type": "markdown",
   "metadata": {
    "colab_type": "text",
    "id": "4jt8KqCCpE4Z"
   },
   "source": [
    " "
   ]
  },
  {
   "cell_type": "markdown",
   "metadata": {},
   "source": [
    "# Google CoLab Instructions\n",
    "\n",
    "The following code ensures that Google CoLab is running the correct version of TensorFlow.\n",
    "\n"
   ]
  },
  {
   "cell_type": "code",
   "execution_count": null,
   "metadata": {},
   "outputs": [],
   "source": [
    "# Enter the Assignement No. in place of #\n",
    "try:\n",
    "    from google.colab import drive\n",
    "    %tensorflow_version 2.x\n",
    "    COLAB = True\n",
    "    print(\"Assignment #\")\n",
    "    print(\"Note: using Google CoLab\")\n",
    "except:\n",
    "    print(\"Assignment #\")\n",
    "    print(\"Note: not using Google CoLab\")\n",
    "    COLAB = False\n",
    "    \n",
    "# Print your name and Roll No. \n",
    "# Print the curent time "
   ]
  },
  {
   "cell_type": "markdown",
   "metadata": {},
   "source": [
    "[1]: https://www.tutorialspoint.com/python_web_scraping/legality_of_python_web_scraping.htm\n",
    "[2]: https://towardsdatascience.com/web-scraping-is-now-legal-6bf0e5730a78"
   ]
  },
  {
   "cell_type": "markdown",
   "metadata": {},
   "source": [
    "# PART A : Preception from scratch \n"
   ]
  },
  {
   "cell_type": "code",
   "execution_count": null,
   "metadata": {},
   "outputs": [],
   "source": [
    "import numpy as np"
   ]
  },
  {
   "cell_type": "code",
   "execution_count": null,
   "metadata": {},
   "outputs": [],
   "source": [
    "input_features= [[1., 0., 0.],\n",
    "     [1., 0., 1.],\n",
    "     [1., 1., 0.],\n",
    "     [1., 1., 1.]]\n",
    "\n",
    "actual_label=[1.,\n",
    "    1.,\n",
    "    1.,\n",
    "    0.]\n",
    "\n",
    "# bias = 0.0\n",
    "threshold= 0.0\n",
    "\n",
    "learning_rate= 0.1\n",
    "iterations= 50\n"
   ]
  },
  {
   "cell_type": "code",
   "execution_count": null,
   "metadata": {},
   "outputs": [],
   "source": [
    "def perceptron(input_features, actual_label, threshold, learning_rate, iterations):\n",
    "   \n",
    "    #1.  Initializing the weights\n",
    "    weights = #WRITE YOUR CODE      \n",
    "    count=0                        \n",
    "    \n",
    "    # Initializing additional parameters to compute sum-of-squared errors\n",
    "    predicted_label= np.ones(len(actual_label))     \n",
    "    errors = np.ones(len(actual_label))       \n",
    "    cost_function= [] \n",
    "    \n",
    "    while count< iterations: \n",
    "        for i in range(len(input_features)):\n",
    "            \n",
    "            #2. Summation - Multiply weight by input \n",
    "            activation_function= #WRITE YOUR CODE\n",
    "            \n",
    "            # 3. Compare against Threshold\n",
    "            if #WRITE YOUR CODE                               \n",
    "                prediction= 1.                               \n",
    "            else:                                   \n",
    "                prediction= 0.\n",
    "            predicted_label[i] = prediction\n",
    "            \n",
    "            # 4. Updating the weights\n",
    "            for j in range(len(weights)):             \n",
    "                weights[j] =#WRITE YOUR CODE\n",
    "                \n",
    "        count+= 1\n",
    "        \n",
    "        # Computing the sum-of-squared errors\n",
    "        for i in range(0,len(actual_label)):     \n",
    "            errors[i] = #WRITE YOUR CODE\n",
    "        cost_function.append(0.5*np.sum(errors))\n",
    "        \n",
    "    return weights, cost_function"
   ]
  },
  {
   "cell_type": "code",
   "execution_count": null,
   "metadata": {},
   "outputs": [],
   "source": [
    "final_weight=perceptron(input_features, actual_label, threshold, learning_rate, iterations)[0]\n",
    "final_cost=perceptron(input_features, actual_label, threshold, learning_rate, iterations)[1]"
   ]
  },
  {
   "cell_type": "code",
   "execution_count": null,
   "metadata": {},
   "outputs": [],
   "source": [
    "final_weight"
   ]
  },
  {
   "cell_type": "code",
   "execution_count": null,
   "metadata": {},
   "outputs": [],
   "source": [
    "final_cost # It should be zero at the end "
   ]
  },
  {
   "attachments": {},
   "cell_type": "markdown",
   "metadata": {},
   "source": [
    "# PART B : ANN  over  MNIT Gait Dataset\n",
    "\n",
    "\n",
    "Take  the filtered Gait Dataset from the Assignment 4.  You need to apply the BP-ANN techniques for the analysis of the this dataset.\n",
    "\n",
    "You may use keras, tensorflow, and  numpy packages "
   ]
  },
  {
   "cell_type": "markdown",
   "metadata": {
    "colab_type": "text",
    "id": "Pp5fKAGn45Pv"
   },
   "source": [
    "### Task 1:   Data reading and package setup\n",
    "1. Read Analysis_MNIT_database.xlsx.    and import the packages \n",
    "\n",
    "#### divide dataset into train and test python"
   ]
  },
  {
   "cell_type": "code",
   "execution_count": null,
   "metadata": {},
   "outputs": [],
   "source": [
    "###Your code here"
   ]
  },
  {
   "cell_type": "markdown",
   "metadata": {
    "colab_type": "text",
    "id": "Pp5fKAGn45Pv"
   },
   "source": [
    "### Task 2:  Predict the age from the rest of features in the dataset using ANN \n",
    "\n",
    "\n",
    "Perform the Objective 1:"
   ]
  },
  {
   "cell_type": "code",
   "execution_count": 1,
   "metadata": {},
   "outputs": [],
   "source": [
    "###Your code here"
   ]
  },
  {
   "cell_type": "markdown",
   "metadata": {},
   "source": [
    "### Task 3: Apply ANN to  Identify the gender from the rest of the features in the dataset"
   ]
  },
  {
   "cell_type": "code",
   "execution_count": null,
   "metadata": {},
   "outputs": [],
   "source": [
    "###Your code here"
   ]
  },
  {
   "cell_type": "markdown",
   "metadata": {},
   "source": [
    "### Task 4: Using ANN Predict the Cadence Identify the gender from the the following features in the dataset\n",
    "\n",
    "    - Subject #\t\n",
    "    - Gender \n",
    "    - Age (Year)\t\n",
    "    - Height (m)\t\n",
    "    - Weight (Kg)\t\n",
    "    - BMI\t\n",
    "    - Leg Length (m)\t\n",
    "    - Thigh Length (m)\t\n",
    "    - Calf Length\t\n",
    "    - Mallelous height -L\t\n",
    "    - Foot Length (cM)\t\n",
    "    - Shoe No\t\n",
    "    - Waist width (inches)\t\n",
    "    - Bi-illiac width (m)\n"
   ]
  },
  {
   "cell_type": "markdown",
   "metadata": {
    "colab_type": "text",
    "id": "Pp5fKAGn45Pv"
   },
   "source": [
    "### Task 5: Take  subject 1  knee angle and try to predict the  knee angle for the next gait cycle. \n"
   ]
  },
  {
   "cell_type": "code",
   "execution_count": 3,
   "metadata": {},
   "outputs": [],
   "source": [
    "###Your code here"
   ]
  },
  {
   "cell_type": "markdown",
   "metadata": {},
   "source": [
    " "
   ]
  },
  {
   "cell_type": "markdown",
   "metadata": {},
   "source": [
    "## Perform a Comperative analysis of the different ANN Architecture  used in the dataset using different RMSE and MAPE as evaluation parameters. \n",
    " "
   ]
  },
  {
   "cell_type": "code",
   "execution_count": null,
   "metadata": {},
   "outputs": [],
   "source": [
    "###Your Result  "
   ]
  },
  {
   "cell_type": "code",
   "execution_count": null,
   "metadata": {},
   "outputs": [],
   "source": []
  }
 ],
 "metadata": {
  "kernelspec": {
   "display_name": "Python 3",
   "language": "python",
   "name": "python3"
  },
  "language_info": {
   "codemirror_mode": {
    "name": "ipython",
    "version": 3
   },
   "file_extension": ".py",
   "mimetype": "text/x-python",
   "name": "python",
   "nbconvert_exporter": "python",
   "pygments_lexer": "ipython3",
   "version": "3.7.3"
  }
 },
 "nbformat": 4,
 "nbformat_minor": 2
}
