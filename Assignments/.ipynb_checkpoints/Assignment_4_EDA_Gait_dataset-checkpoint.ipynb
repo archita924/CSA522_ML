{
 "cells": [
  {
   "cell_type": "markdown",
   "metadata": {},
   "source": [
    "# CSL558: Machine Learning \n",
    "\n",
    "**Instructor** : [Dr. Chandra Prakash]\n",
    "\n",
    "* For more information visit the [class website](https://cprakash86.wordpress.com/ml/).\n",
    "\n"
   ]
  },
  {
   "cell_type": "markdown",
   "metadata": {},
   "source": [
    "# Assignment 4:  Exploratory Data Analysis [EDA] on MNIT Gait DATASET\n",
    "\n",
    "**Due Date: 26-Aug-2020**\n",
    "\n",
    "\n",
    "**Student Name: Your Name**"
   ]
  },
  {
   "cell_type": "markdown",
   "metadata": {},
   "source": [
    "# Assignment Instructions\n",
    "\n",
    "\n",
    "You must save your as **Assignment_NO_Yourname**\n",
    "\n",
    "-----------------------------------------------------------------------------------------------------------------\n",
    "### Agenda for the Assignment 4\n",
    "1. Understand the need of Exploratory Data Analysis on a datset \n",
    "\n",
    "\n",
    "-----------------------------------------------------------------------------------------------------------------\n",
    "\n",
    "Your source file will most likely end in **.pynb** if you are using a Jupyter notebook; however, it might also end in **.py** if you are using a Python script.\n",
    "\n",
    "You have to add your name and roll no in the Google Colab Instructions section below and print it. "
   ]
  },
  {
   "cell_type": "markdown",
   "metadata": {
    "colab_type": "text",
    "id": "4jt8KqCCpE4Z"
   },
   "source": [
    " "
   ]
  },
  {
   "cell_type": "markdown",
   "metadata": {},
   "source": [
    "# Google CoLab Instructions\n",
    "\n",
    "The following code ensures that Google CoLab is running the correct version of TensorFlow.\n",
    "\n"
   ]
  },
  {
   "cell_type": "code",
   "execution_count": null,
   "metadata": {},
   "outputs": [],
   "source": [
    "try:\n",
    "    from google.colab import drive\n",
    "    %tensorflow_version 2.x\n",
    "    COLAB = True\n",
    "    print(\"Assignment 3\")\n",
    "    print(\"Note: using Google CoLab\")\n",
    "except:\n",
    "    print(\"Assignment 3\")\n",
    "    print(\"Note: not using Google CoLab\")\n",
    "    COLAB = False\n",
    "    \n",
    "# Print your name and Roll No. \n",
    "# Print the curent time "
   ]
  },
  {
   "cell_type": "markdown",
   "metadata": {},
   "source": [
    "Some terms w.r.t data :\n",
    "    \n",
    "![title](terms.PNG)"
   ]
  },
  {
   "cell_type": "markdown",
   "metadata": {},
   "source": [
    "[1]: https://www.tutorialspoint.com/python_web_scraping/legality_of_python_web_scraping.htm\n",
    "[2]: https://towardsdatascience.com/web-scraping-is-now-legal-6bf0e5730a78"
   ]
  },
  {
   "cell_type": "markdown",
   "metadata": {
    "colab_type": "text",
    "id": "Pp5fKAGn45Pv"
   },
   "source": [
    "### Task 1:   Data reading and package setup\n",
    "1. Read Analysis_MNIT_database.xlsx.  For the task [1-8] you need to consider first Sheet fo xls: data \n",
    "\n",
    "Based on this dataset you need to identify if the data belongs to male of female cateogry. \n",
    "Thus your output is finding the Gender. Rest column you may consider as input\n",
    "\n",
    "\n",
    "    a) Identify the Features/variables in the Dataset "
   ]
  },
  {
   "cell_type": "code",
   "execution_count": null,
   "metadata": {},
   "outputs": [],
   "source": [
    "###Your code here"
   ]
  },
  {
   "cell_type": "markdown",
   "metadata": {
    "colab_type": "text",
    "id": "Pp5fKAGn45Pv"
   },
   "source": [
    "### Task 2: Missing Values\n",
    "Data preparation may also require us to estimate any missing values within a feature. Model algorithms may work best when there are no missing values."
   ]
  },
  {
   "cell_type": "code",
   "execution_count": null,
   "metadata": {},
   "outputs": [],
   "source": [
    "###Your code here"
   ]
  },
  {
   "cell_type": "markdown",
   "metadata": {
    "colab_type": "text",
    "id": "Pp5fKAGn45Pv"
   },
   "source": [
    "### Task 3 :  EDA : Exploratory Data Analysis similar to the titanic dataset \n",
    "\n",
    "- **Correlating:** One can approach the problem based on available features within the training dataset. Which features within the dataset contribute significantly to our solution goal? Statistically speaking is there a correlation among a feature and solution goal? As the feature values change does the solution state change as well, and visa-versa? This can be tested both for numerical and categorical features in the given dataset. We may also want to determine correlation among features other than gender for subsequent goals and workflow stages. Correlating certain features may help in creating, completing, or correcting features.\n",
    "\n",
    "- **Other EDA Techniques** "
   ]
  },
  {
   "cell_type": "code",
   "execution_count": null,
   "metadata": {},
   "outputs": [],
   "source": [
    "###Your code here"
   ]
  },
  {
   "cell_type": "markdown",
   "metadata": {
    "colab_type": "text",
    "id": "Pp5fKAGn45Pv"
   },
   "source": [
    "### Task 4:  Data preprocessing and Feature Engg\n",
    "- **Correcting:**\n",
    "    We may also analyze the given training dataset for errors or possibly innacurate values within features and try to corrent these values or exclude the samples containing the errors. One way to do this is to detect any outliers among our samples or features. We may also completely discard a feature if it is not contribting to the analysis or may significantly skew the results."
   ]
  },
  {
   "cell_type": "code",
   "execution_count": null,
   "metadata": {},
   "outputs": [],
   "source": [
    "###Your code here"
   ]
  },
  {
   "cell_type": "markdown",
   "metadata": {
    "colab_type": "text",
    "id": "Pp5fKAGn45Pv"
   },
   "source": [
    "### Task 5:  Converting Features\n",
    "    For modeling stage, one needs to prepare the data. Depending on the choice of model algorithm one may require all features to be converted to numerical equivalent values. So for instance converting text categorical values to numeric values."
   ]
  },
  {
   "cell_type": "code",
   "execution_count": null,
   "metadata": {},
   "outputs": [],
   "source": [
    "###Your code here"
   ]
  },
  {
   "cell_type": "markdown",
   "metadata": {
    "colab_type": "text",
    "id": "Pp5fKAGn45Pv"
   },
   "source": [
    "### Task 6:  Creating Categories\n"
   ]
  },
  {
   "cell_type": "code",
   "execution_count": null,
   "metadata": {},
   "outputs": [],
   "source": [
    "###Your code here"
   ]
  },
  {
   "cell_type": "markdown",
   "metadata": {
    "colab_type": "text",
    "id": "Pp5fKAGn45Pv"
   },
   "source": [
    "### Task 7: Creating new features\n",
    "- **Creating:**\n",
    "Can we create new features based on an existing feature or a set of features, such that the new feature follows the correlation, conversion, completeness goals."
   ]
  },
  {
   "cell_type": "code",
   "execution_count": null,
   "metadata": {},
   "outputs": [],
   "source": [
    "###Your code here"
   ]
  },
  {
   "cell_type": "markdown",
   "metadata": {
    "colab_type": "text",
    "id": "Pp5fKAGn45Pv"
   },
   "source": [
    "### Task 8: \n",
    "- **Charting:**\n",
    "    How to select the right visualization plots and charts depending on nature of the data and the solution goals.\n"
   ]
  },
  {
   "cell_type": "code",
   "execution_count": null,
   "metadata": {},
   "outputs": [],
   "source": [
    "###Your code here"
   ]
  },
  {
   "cell_type": "markdown",
   "metadata": {
    "colab_type": "text",
    "id": "Pp5fKAGn45Pv"
   },
   "source": [
    "### Task 9:  Plot the knee output for any 1 subejct  from the second sheet\n"
   ]
  },
  {
   "cell_type": "code",
   "execution_count": 1,
   "metadata": {},
   "outputs": [],
   "source": [
    "###Your code here"
   ]
  },
  {
   "cell_type": "markdown",
   "metadata": {
    "colab_type": "text",
    "id": "Pp5fKAGn45Pv"
   },
   "source": [
    "### Task 10: Plot the knee ouput of all the subjects \n"
   ]
  },
  {
   "cell_type": "code",
   "execution_count": 2,
   "metadata": {},
   "outputs": [],
   "source": [
    "###Your code here"
   ]
  },
  {
   "cell_type": "markdown",
   "metadata": {},
   "source": [
    " "
   ]
  },
  {
   "cell_type": "markdown",
   "metadata": {},
   "source": [
    "## Supplementary questions : Write your observation from the dataset  "
   ]
  },
  {
   "cell_type": "code",
   "execution_count": null,
   "metadata": {},
   "outputs": [],
   "source": [
    "###Your Comment "
   ]
  }
 ],
 "metadata": {
  "kernelspec": {
   "display_name": "Python 3",
   "language": "python",
   "name": "python3"
  },
  "language_info": {
   "codemirror_mode": {
    "name": "ipython",
    "version": 3
   },
   "file_extension": ".py",
   "mimetype": "text/x-python",
   "name": "python",
   "nbconvert_exporter": "python",
   "pygments_lexer": "ipython3",
   "version": "3.7.3"
  }
 },
 "nbformat": 4,
 "nbformat_minor": 2
}
