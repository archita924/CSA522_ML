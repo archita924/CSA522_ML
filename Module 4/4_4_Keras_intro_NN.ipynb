{
 "cells": [
  {
   "cell_type": "markdown",
   "metadata": {},
   "source": [
    "# CSL558: Machine Learning \n",
    "\n",
    "\n",
    "## Module 4: Artifical Neural Network\n",
    "\n"
   ]
  },
  {
   "cell_type": "markdown",
   "metadata": {},
   "source": [
    "# Tutorial 4.3:  Introduction to Keras  "
   ]
  },
  {
   "cell_type": "markdown",
   "metadata": {},
   "source": [
    "For more detail Refer  -  https://keras.io/"
   ]
  },
  {
   "cell_type": "code",
   "execution_count": 1,
   "metadata": {},
   "outputs": [],
   "source": [
    "# ! pip install keras"
   ]
  },
  {
   "cell_type": "code",
   "execution_count": 2,
   "metadata": {},
   "outputs": [],
   "source": [
    "# ! pip install tensorflow==2.2\n",
    "\n"
   ]
  },
  {
   "cell_type": "code",
   "execution_count": 3,
   "metadata": {},
   "outputs": [],
   "source": [
    "# import tensorflow as tf\n",
    "# tf.VERSION"
   ]
  },
  {
   "cell_type": "code",
   "execution_count": 4,
   "metadata": {},
   "outputs": [
    {
     "name": "stderr",
     "output_type": "stream",
     "text": [
      "Using TensorFlow backend.\n"
     ]
    },
    {
     "name": "stdout",
     "output_type": "stream",
     "text": [
      "2.2.4\n"
     ]
    }
   ],
   "source": [
    "import keras; print(keras.__version__)"
   ]
  },
  {
   "cell_type": "markdown",
   "metadata": {},
   "source": [
    "## Binary Classification- A 3 layer NN from scratch"
   ]
  },
  {
   "cell_type": "code",
   "execution_count": 5,
   "metadata": {},
   "outputs": [],
   "source": [
    "from numpy import loadtxt\n",
    "from keras.models import Sequential\n",
    "from keras.layers import Dense\n",
    "import matplotlib.pyplot as plt\n",
    "%matplotlib inline\n",
    "from sklearn.model_selection import train_test_split"
   ]
  },
  {
   "cell_type": "code",
   "execution_count": 6,
   "metadata": {},
   "outputs": [],
   "source": [
    "dataset = loadtxt('pima-indians-diabetes.data.csv', delimiter=',')\n",
    "X = dataset[:,0:8]\n",
    "Y = dataset[:,8]"
   ]
  },
  {
   "cell_type": "code",
   "execution_count": 7,
   "metadata": {},
   "outputs": [],
   "source": [
    "X_train, X_test, Y_train, Y_test = train_test_split(X, Y, test_size=0.20, random_state=42)"
   ]
  },
  {
   "cell_type": "code",
   "execution_count": 8,
   "metadata": {},
   "outputs": [
    {
     "data": {
      "text/plain": [
       "((614, 8), (614,), (154, 8), (154,))"
      ]
     },
     "execution_count": 8,
     "metadata": {},
     "output_type": "execute_result"
    }
   ],
   "source": [
    "X_train.shape, Y_train.shape, X_test.shape, Y_test.shape"
   ]
  },
  {
   "cell_type": "code",
   "execution_count": 9,
   "metadata": {},
   "outputs": [
    {
     "name": "stderr",
     "output_type": "stream",
     "text": [
      "WARNING: Logging before flag parsing goes to stderr.\n",
      "W0724 07:31:54.912804  3468 deprecation_wrapper.py:119] From C:\\ProgramData\\Anaconda3\\lib\\site-packages\\keras\\backend\\tensorflow_backend.py:74: The name tf.get_default_graph is deprecated. Please use tf.compat.v1.get_default_graph instead.\n",
      "\n",
      "W0724 07:31:54.967530  3468 deprecation_wrapper.py:119] From C:\\ProgramData\\Anaconda3\\lib\\site-packages\\keras\\backend\\tensorflow_backend.py:517: The name tf.placeholder is deprecated. Please use tf.compat.v1.placeholder instead.\n",
      "\n",
      "W0724 07:31:54.969665  3468 deprecation_wrapper.py:119] From C:\\ProgramData\\Anaconda3\\lib\\site-packages\\keras\\backend\\tensorflow_backend.py:4138: The name tf.random_uniform is deprecated. Please use tf.random.uniform instead.\n",
      "\n"
     ]
    }
   ],
   "source": [
    "# NN model :  Input Layer: 8 neuron ; Hidden Layer H1 :  12 Neuron, Hidden Layer H2; 8 neuron, Output Layer:  01  \n",
    "\n",
    "model = Sequential()  # Empty at this stage \n",
    "model.add(Dense(12, input_dim=8, activation='relu'))\n",
    "model.add(Dense(8, activation='relu'))\n",
    "model.add(Dense(1, activation='sigmoid'))\n",
    "\n"
   ]
  },
  {
   "cell_type": "code",
   "execution_count": 10,
   "metadata": {},
   "outputs": [
    {
     "name": "stderr",
     "output_type": "stream",
     "text": [
      "W0724 07:31:55.052344  3468 deprecation_wrapper.py:119] From C:\\ProgramData\\Anaconda3\\lib\\site-packages\\keras\\optimizers.py:790: The name tf.train.Optimizer is deprecated. Please use tf.compat.v1.train.Optimizer instead.\n",
      "\n",
      "W0724 07:31:55.117882  3468 deprecation_wrapper.py:119] From C:\\ProgramData\\Anaconda3\\lib\\site-packages\\keras\\backend\\tensorflow_backend.py:3376: The name tf.log is deprecated. Please use tf.math.log instead.\n",
      "\n",
      "W0724 07:31:55.136363  3468 deprecation.py:323] From C:\\Users\\S & T\\AppData\\Roaming\\Python\\Python37\\site-packages\\tensorflow\\python\\ops\\nn_impl.py:180: add_dispatch_support.<locals>.wrapper (from tensorflow.python.ops.array_ops) is deprecated and will be removed in a future version.\n",
      "Instructions for updating:\n",
      "Use tf.where in 2.0, which has the same broadcast rule as np.where\n"
     ]
    }
   ],
   "source": [
    "model.compile(loss='binary_crossentropy', optimizer='adam', metrics=['accuracy'])"
   ]
  },
  {
   "cell_type": "code",
   "execution_count": 11,
   "metadata": {},
   "outputs": [
    {
     "name": "stdout",
     "output_type": "stream",
     "text": [
      "_________________________________________________________________\n",
      "Layer (type)                 Output Shape              Param #   \n",
      "=================================================================\n",
      "dense_1 (Dense)              (None, 12)                108       \n",
      "_________________________________________________________________\n",
      "dense_2 (Dense)              (None, 8)                 104       \n",
      "_________________________________________________________________\n",
      "dense_3 (Dense)              (None, 1)                 9         \n",
      "=================================================================\n",
      "Total params: 221\n",
      "Trainable params: 221\n",
      "Non-trainable params: 0\n",
      "_________________________________________________________________\n"
     ]
    }
   ],
   "source": [
    "model.summary() \n",
    "\n",
    "# H1: 8*12+12= 108\n",
    "# H2: 12*8+8= 104\n",
    "# Output Layer = 8+1=9\n",
    "\n",
    "# Total = 108+104+9=221\n"
   ]
  },
  {
   "cell_type": "code",
   "execution_count": 12,
   "metadata": {},
   "outputs": [
    {
     "name": "stderr",
     "output_type": "stream",
     "text": [
      "W0724 07:31:55.612976  3468 deprecation_wrapper.py:119] From C:\\ProgramData\\Anaconda3\\lib\\site-packages\\keras\\backend\\tensorflow_backend.py:986: The name tf.assign_add is deprecated. Please use tf.compat.v1.assign_add instead.\n",
      "\n"
     ]
    },
    {
     "name": "stdout",
     "output_type": "stream",
     "text": [
      "Train on 614 samples, validate on 154 samples\n",
      "Epoch 1/150\n",
      "614/614 [==============================] - 1s 1ms/step - loss: 5.7299 - acc: 0.4919 - val_loss: 3.3681 - val_acc: 0.6104\n",
      "Epoch 2/150\n",
      "614/614 [==============================] - 0s 237us/step - loss: 2.0562 - acc: 0.6368 - val_loss: 1.4292 - val_acc: 0.6494\n",
      "Epoch 3/150\n",
      "614/614 [==============================] - 0s 224us/step - loss: 1.2075 - acc: 0.6678 - val_loss: 1.1568 - val_acc: 0.6429\n",
      "Epoch 4/150\n",
      "614/614 [==============================] - 0s 217us/step - loss: 0.9830 - acc: 0.6564 - val_loss: 0.9789 - val_acc: 0.6234\n",
      "Epoch 5/150\n",
      "614/614 [==============================] - 0s 218us/step - loss: 0.8793 - acc: 0.6417 - val_loss: 0.8778 - val_acc: 0.6364\n",
      "Epoch 6/150\n",
      "614/614 [==============================] - 0s 206us/step - loss: 0.7973 - acc: 0.6319 - val_loss: 0.8420 - val_acc: 0.6299\n",
      "Epoch 7/150\n",
      "614/614 [==============================] - 0s 220us/step - loss: 0.7758 - acc: 0.6303 - val_loss: 0.8122 - val_acc: 0.5909\n",
      "Epoch 8/150\n",
      "614/614 [==============================] - 0s 213us/step - loss: 0.7398 - acc: 0.6417 - val_loss: 0.8032 - val_acc: 0.6299\n",
      "Epoch 9/150\n",
      "614/614 [==============================] - 0s 244us/step - loss: 0.7127 - acc: 0.6498 - val_loss: 0.7977 - val_acc: 0.6364\n",
      "Epoch 10/150\n",
      "614/614 [==============================] - 0s 207us/step - loss: 0.7037 - acc: 0.6417 - val_loss: 0.7765 - val_acc: 0.6364\n",
      "Epoch 11/150\n",
      "614/614 [==============================] - 0s 215us/step - loss: 0.6889 - acc: 0.6433 - val_loss: 0.7651 - val_acc: 0.6364\n",
      "Epoch 12/150\n",
      "614/614 [==============================] - 0s 248us/step - loss: 0.6749 - acc: 0.6450 - val_loss: 0.7487 - val_acc: 0.5844\n",
      "Epoch 13/150\n",
      "614/614 [==============================] - 0s 212us/step - loss: 0.6951 - acc: 0.6384 - val_loss: 0.7360 - val_acc: 0.6169\n",
      "Epoch 14/150\n",
      "614/614 [==============================] - 0s 208us/step - loss: 0.6545 - acc: 0.6498 - val_loss: 0.7249 - val_acc: 0.6169\n",
      "Epoch 15/150\n",
      "614/614 [==============================] - 0s 220us/step - loss: 0.6522 - acc: 0.6645 - val_loss: 0.7466 - val_acc: 0.6169\n",
      "Epoch 16/150\n",
      "614/614 [==============================] - 0s 219us/step - loss: 0.6379 - acc: 0.6531 - val_loss: 0.7160 - val_acc: 0.6494\n",
      "Epoch 17/150\n",
      "614/614 [==============================] - 0s 211us/step - loss: 0.6244 - acc: 0.6547 - val_loss: 0.7308 - val_acc: 0.6429\n",
      "Epoch 18/150\n",
      "614/614 [==============================] - 0s 130us/step - loss: 0.6231 - acc: 0.6629 - val_loss: 0.7240 - val_acc: 0.5844\n",
      "Epoch 19/150\n",
      "614/614 [==============================] - 0s 169us/step - loss: 0.6109 - acc: 0.6710 - val_loss: 0.7066 - val_acc: 0.6234\n",
      "Epoch 20/150\n",
      "614/614 [==============================] - 0s 124us/step - loss: 0.6048 - acc: 0.6840 - val_loss: 0.7243 - val_acc: 0.6234\n",
      "Epoch 21/150\n",
      "614/614 [==============================] - 0s 156us/step - loss: 0.5951 - acc: 0.6710 - val_loss: 0.7312 - val_acc: 0.6494\n",
      "Epoch 22/150\n",
      "614/614 [==============================] - 0s 203us/step - loss: 0.6117 - acc: 0.6580 - val_loss: 0.6977 - val_acc: 0.6299\n",
      "Epoch 23/150\n",
      "614/614 [==============================] - 0s 218us/step - loss: 0.5932 - acc: 0.6922 - val_loss: 0.6993 - val_acc: 0.6364\n",
      "Epoch 24/150\n",
      "614/614 [==============================] - 0s 164us/step - loss: 0.6058 - acc: 0.6661 - val_loss: 0.6888 - val_acc: 0.6494\n",
      "Epoch 25/150\n",
      "614/614 [==============================] - 0s 219us/step - loss: 0.5961 - acc: 0.6759 - val_loss: 0.6890 - val_acc: 0.6623\n",
      "Epoch 26/150\n",
      "614/614 [==============================] - 0s 215us/step - loss: 0.6058 - acc: 0.6629 - val_loss: 0.6912 - val_acc: 0.6623\n",
      "Epoch 27/150\n",
      "614/614 [==============================] - 0s 182us/step - loss: 0.6087 - acc: 0.6792 - val_loss: 0.9197 - val_acc: 0.5000\n",
      "Epoch 28/150\n",
      "614/614 [==============================] - 0s 192us/step - loss: 0.6102 - acc: 0.6710 - val_loss: 0.6755 - val_acc: 0.6688\n",
      "Epoch 29/150\n",
      "614/614 [==============================] - 0s 193us/step - loss: 0.5882 - acc: 0.6759 - val_loss: 0.6847 - val_acc: 0.6688\n",
      "Epoch 30/150\n",
      "614/614 [==============================] - 0s 201us/step - loss: 0.5734 - acc: 0.6792 - val_loss: 0.6866 - val_acc: 0.6753\n",
      "Epoch 31/150\n",
      "614/614 [==============================] - 0s 180us/step - loss: 0.5823 - acc: 0.6792 - val_loss: 0.6742 - val_acc: 0.6818\n",
      "Epoch 32/150\n",
      "614/614 [==============================] - 0s 205us/step - loss: 0.5827 - acc: 0.6857 - val_loss: 0.6955 - val_acc: 0.6494\n",
      "Epoch 33/150\n",
      "614/614 [==============================] - 0s 245us/step - loss: 0.5867 - acc: 0.6987 - val_loss: 0.6945 - val_acc: 0.6623\n",
      "Epoch 34/150\n",
      "614/614 [==============================] - 0s 210us/step - loss: 0.5818 - acc: 0.6775 - val_loss: 0.6782 - val_acc: 0.6429\n",
      "Epoch 35/150\n",
      "614/614 [==============================] - 0s 240us/step - loss: 0.5802 - acc: 0.6922 - val_loss: 0.6686 - val_acc: 0.6818\n",
      "Epoch 36/150\n",
      "614/614 [==============================] - 0s 216us/step - loss: 0.5746 - acc: 0.6840 - val_loss: 0.6627 - val_acc: 0.6623\n",
      "Epoch 37/150\n",
      "614/614 [==============================] - 0s 255us/step - loss: 0.5895 - acc: 0.6906 - val_loss: 0.6854 - val_acc: 0.6558\n",
      "Epoch 38/150\n",
      "614/614 [==============================] - 0s 158us/step - loss: 0.5799 - acc: 0.6938 - val_loss: 0.6658 - val_acc: 0.6688\n",
      "Epoch 39/150\n",
      "614/614 [==============================] - 0s 221us/step - loss: 0.5809 - acc: 0.6743 - val_loss: 0.6607 - val_acc: 0.6753\n",
      "Epoch 40/150\n",
      "614/614 [==============================] - 0s 266us/step - loss: 0.5736 - acc: 0.6922 - val_loss: 0.6681 - val_acc: 0.6623\n",
      "Epoch 41/150\n",
      "614/614 [==============================] - 0s 207us/step - loss: 0.5790 - acc: 0.6840 - val_loss: 0.6584 - val_acc: 0.6818\n",
      "Epoch 42/150\n",
      "614/614 [==============================] - 0s 231us/step - loss: 0.5881 - acc: 0.6775 - val_loss: 0.6903 - val_acc: 0.6688\n",
      "Epoch 43/150\n",
      "614/614 [==============================] - 0s 222us/step - loss: 0.5738 - acc: 0.6971 - val_loss: 0.6860 - val_acc: 0.6688\n",
      "Epoch 44/150\n",
      "614/614 [==============================] - 0s 244us/step - loss: 0.5696 - acc: 0.6840 - val_loss: 0.6707 - val_acc: 0.6688\n",
      "Epoch 45/150\n",
      "614/614 [==============================] - ETA: 0s - loss: 0.5984 - acc: 0.682 - 0s 213us/step - loss: 0.5833 - acc: 0.6938 - val_loss: 0.6677 - val_acc: 0.6818\n",
      "Epoch 46/150\n",
      "614/614 [==============================] - 0s 211us/step - loss: 0.5724 - acc: 0.6889 - val_loss: 0.6924 - val_acc: 0.6364\n",
      "Epoch 47/150\n",
      "614/614 [==============================] - 0s 151us/step - loss: 0.5750 - acc: 0.6971 - val_loss: 0.6916 - val_acc: 0.6623\n",
      "Epoch 48/150\n",
      "614/614 [==============================] - 0s 188us/step - loss: 0.5730 - acc: 0.7166 - val_loss: 0.6851 - val_acc: 0.6234\n",
      "Epoch 49/150\n",
      "614/614 [==============================] - 0s 204us/step - loss: 0.5768 - acc: 0.6938 - val_loss: 0.6799 - val_acc: 0.6429\n",
      "Epoch 50/150\n",
      "614/614 [==============================] - 0s 171us/step - loss: 0.5692 - acc: 0.7068 - val_loss: 0.6711 - val_acc: 0.6558\n",
      "Epoch 51/150\n",
      "614/614 [==============================] - 0s 205us/step - loss: 0.5683 - acc: 0.7003 - val_loss: 0.6690 - val_acc: 0.6818\n",
      "Epoch 52/150\n",
      "614/614 [==============================] - 0s 229us/step - loss: 0.5834 - acc: 0.6824 - val_loss: 0.6671 - val_acc: 0.6558\n",
      "Epoch 53/150\n",
      "614/614 [==============================] - 0s 216us/step - loss: 0.5813 - acc: 0.6775 - val_loss: 0.7744 - val_acc: 0.5519\n",
      "Epoch 54/150\n",
      "614/614 [==============================] - 0s 167us/step - loss: 0.5780 - acc: 0.6906 - val_loss: 0.6726 - val_acc: 0.6818\n",
      "Epoch 55/150\n",
      "614/614 [==============================] - 0s 176us/step - loss: 0.5734 - acc: 0.6906 - val_loss: 0.6725 - val_acc: 0.6494\n",
      "Epoch 56/150\n",
      "614/614 [==============================] - 0s 221us/step - loss: 0.5736 - acc: 0.7020 - val_loss: 0.6547 - val_acc: 0.6688\n",
      "Epoch 57/150\n",
      "614/614 [==============================] - 0s 172us/step - loss: 0.5681 - acc: 0.6938 - val_loss: 0.6700 - val_acc: 0.6688\n",
      "Epoch 58/150\n",
      "614/614 [==============================] - 0s 205us/step - loss: 0.5714 - acc: 0.6922 - val_loss: 0.6773 - val_acc: 0.7013\n",
      "Epoch 59/150\n",
      "614/614 [==============================] - 0s 203us/step - loss: 0.5685 - acc: 0.6938 - val_loss: 0.6584 - val_acc: 0.6688\n",
      "Epoch 60/150\n",
      "614/614 [==============================] - 0s 211us/step - loss: 0.5678 - acc: 0.7020 - val_loss: 0.6654 - val_acc: 0.6818\n"
     ]
    },
    {
     "name": "stdout",
     "output_type": "stream",
     "text": [
      "Epoch 61/150\n",
      "614/614 [==============================] - 0s 206us/step - loss: 0.5698 - acc: 0.6922 - val_loss: 0.6658 - val_acc: 0.6688\n",
      "Epoch 62/150\n",
      "614/614 [==============================] - 0s 200us/step - loss: 0.5744 - acc: 0.6971 - val_loss: 0.6520 - val_acc: 0.6753\n",
      "Epoch 63/150\n",
      "614/614 [==============================] - 0s 200us/step - loss: 0.5676 - acc: 0.6857 - val_loss: 0.6588 - val_acc: 0.6753\n",
      "Epoch 64/150\n",
      "614/614 [==============================] - 0s 203us/step - loss: 0.5655 - acc: 0.6857 - val_loss: 0.6659 - val_acc: 0.6818\n",
      "Epoch 65/150\n",
      "614/614 [==============================] - 0s 179us/step - loss: 0.5628 - acc: 0.7150 - val_loss: 0.6544 - val_acc: 0.6818\n",
      "Epoch 66/150\n",
      "614/614 [==============================] - 0s 200us/step - loss: 0.5546 - acc: 0.6987 - val_loss: 0.6946 - val_acc: 0.6753\n",
      "Epoch 67/150\n",
      "614/614 [==============================] - 0s 190us/step - loss: 0.5811 - acc: 0.6922 - val_loss: 0.6490 - val_acc: 0.6688\n",
      "Epoch 68/150\n",
      "614/614 [==============================] - 0s 246us/step - loss: 0.5584 - acc: 0.6971 - val_loss: 0.6611 - val_acc: 0.6883\n",
      "Epoch 69/150\n",
      "614/614 [==============================] - 0s 203us/step - loss: 0.6186 - acc: 0.6726 - val_loss: 0.6996 - val_acc: 0.6623\n",
      "Epoch 70/150\n",
      "614/614 [==============================] - 0s 199us/step - loss: 0.5802 - acc: 0.6971 - val_loss: 0.6801 - val_acc: 0.6558\n",
      "Epoch 71/150\n",
      "614/614 [==============================] - 0s 191us/step - loss: 0.5576 - acc: 0.7036 - val_loss: 0.6387 - val_acc: 0.6883\n",
      "Epoch 72/150\n",
      "614/614 [==============================] - 0s 184us/step - loss: 0.5586 - acc: 0.6954 - val_loss: 0.7998 - val_acc: 0.5065\n",
      "Epoch 73/150\n",
      "614/614 [==============================] - 0s 190us/step - loss: 0.5804 - acc: 0.6808 - val_loss: 0.6439 - val_acc: 0.6818\n",
      "Epoch 74/150\n",
      "614/614 [==============================] - 0s 212us/step - loss: 0.5582 - acc: 0.7068 - val_loss: 0.6538 - val_acc: 0.6818\n",
      "Epoch 75/150\n",
      "614/614 [==============================] - 0s 235us/step - loss: 0.5549 - acc: 0.6987 - val_loss: 0.6583 - val_acc: 0.6753\n",
      "Epoch 76/150\n",
      "614/614 [==============================] - 0s 218us/step - loss: 0.5682 - acc: 0.6824 - val_loss: 0.6576 - val_acc: 0.6948\n",
      "Epoch 77/150\n",
      "614/614 [==============================] - 0s 223us/step - loss: 0.5510 - acc: 0.7150 - val_loss: 0.6731 - val_acc: 0.6364\n",
      "Epoch 78/150\n",
      "614/614 [==============================] - 0s 204us/step - loss: 0.5880 - acc: 0.6906 - val_loss: 0.7187 - val_acc: 0.6039\n",
      "Epoch 79/150\n",
      "614/614 [==============================] - 0s 246us/step - loss: 0.5644 - acc: 0.6954 - val_loss: 0.7068 - val_acc: 0.6234\n",
      "Epoch 80/150\n",
      "614/614 [==============================] - 0s 175us/step - loss: 0.5597 - acc: 0.7150 - val_loss: 0.6671 - val_acc: 0.6558\n",
      "Epoch 81/150\n",
      "614/614 [==============================] - 0s 189us/step - loss: 0.5526 - acc: 0.7068 - val_loss: 0.6475 - val_acc: 0.6883\n",
      "Epoch 82/150\n",
      "614/614 [==============================] - 0s 217us/step - loss: 0.5661 - acc: 0.7003 - val_loss: 0.6506 - val_acc: 0.6688\n",
      "Epoch 83/150\n",
      "614/614 [==============================] - 0s 258us/step - loss: 0.5713 - acc: 0.6857 - val_loss: 0.6830 - val_acc: 0.6299\n",
      "Epoch 84/150\n",
      "614/614 [==============================] - 0s 202us/step - loss: 0.5624 - acc: 0.7036 - val_loss: 0.6713 - val_acc: 0.6429\n",
      "Epoch 85/150\n",
      "614/614 [==============================] - 0s 194us/step - loss: 0.5471 - acc: 0.7182 - val_loss: 0.6670 - val_acc: 0.6818\n",
      "Epoch 86/150\n",
      "614/614 [==============================] - 0s 202us/step - loss: 0.5638 - acc: 0.6938 - val_loss: 0.6664 - val_acc: 0.6623\n",
      "Epoch 87/150\n",
      "614/614 [==============================] - 0s 206us/step - loss: 0.5614 - acc: 0.7020 - val_loss: 0.6774 - val_acc: 0.6883\n",
      "Epoch 88/150\n",
      "614/614 [==============================] - 0s 190us/step - loss: 0.5914 - acc: 0.7101 - val_loss: 0.6407 - val_acc: 0.6753\n",
      "Epoch 89/150\n",
      "614/614 [==============================] - 0s 205us/step - loss: 0.5563 - acc: 0.7150 - val_loss: 0.6537 - val_acc: 0.6818\n",
      "Epoch 90/150\n",
      "614/614 [==============================] - 0s 199us/step - loss: 0.5578 - acc: 0.6954 - val_loss: 0.6408 - val_acc: 0.6818\n",
      "Epoch 91/150\n",
      "614/614 [==============================] - 0s 222us/step - loss: 0.5503 - acc: 0.6922 - val_loss: 0.6813 - val_acc: 0.6623\n",
      "Epoch 92/150\n",
      "614/614 [==============================] - 0s 221us/step - loss: 0.5663 - acc: 0.7003 - val_loss: 0.6887 - val_acc: 0.6623\n",
      "Epoch 93/150\n",
      "614/614 [==============================] - 0s 218us/step - loss: 0.5691 - acc: 0.6938 - val_loss: 0.6588 - val_acc: 0.6688\n",
      "Epoch 94/150\n",
      "614/614 [==============================] - 0s 206us/step - loss: 0.5657 - acc: 0.6971 - val_loss: 0.6482 - val_acc: 0.6883\n",
      "Epoch 95/150\n",
      "614/614 [==============================] - 0s 239us/step - loss: 0.5523 - acc: 0.7003 - val_loss: 0.6478 - val_acc: 0.6883\n",
      "Epoch 96/150\n",
      "614/614 [==============================] - 0s 199us/step - loss: 0.5417 - acc: 0.7068 - val_loss: 0.6672 - val_acc: 0.6623\n",
      "Epoch 97/150\n",
      "614/614 [==============================] - 0s 208us/step - loss: 0.5714 - acc: 0.6824 - val_loss: 0.6598 - val_acc: 0.6948\n",
      "Epoch 98/150\n",
      "614/614 [==============================] - 0s 198us/step - loss: 0.5588 - acc: 0.7182 - val_loss: 0.6478 - val_acc: 0.6948\n",
      "Epoch 99/150\n",
      "614/614 [==============================] - 0s 202us/step - loss: 0.5595 - acc: 0.6938 - val_loss: 0.6531 - val_acc: 0.6753\n",
      "Epoch 100/150\n",
      "614/614 [==============================] - 0s 200us/step - loss: 0.5594 - acc: 0.7036 - val_loss: 0.7120 - val_acc: 0.6104\n",
      "Epoch 101/150\n",
      "614/614 [==============================] - 0s 199us/step - loss: 0.5423 - acc: 0.7085 - val_loss: 0.6551 - val_acc: 0.6948\n",
      "Epoch 102/150\n",
      "614/614 [==============================] - 0s 205us/step - loss: 0.5410 - acc: 0.7182 - val_loss: 0.6580 - val_acc: 0.6688\n",
      "Epoch 103/150\n",
      "614/614 [==============================] - 0s 222us/step - loss: 0.5483 - acc: 0.7117 - val_loss: 0.6536 - val_acc: 0.6883\n",
      "Epoch 104/150\n",
      "614/614 [==============================] - 0s 144us/step - loss: 0.5522 - acc: 0.6938 - val_loss: 0.6431 - val_acc: 0.6948\n",
      "Epoch 105/150\n",
      "614/614 [==============================] - 0s 158us/step - loss: 0.5482 - acc: 0.7117 - val_loss: 0.6713 - val_acc: 0.6688\n",
      "Epoch 106/150\n",
      "614/614 [==============================] - 0s 202us/step - loss: 0.5433 - acc: 0.7150 - val_loss: 0.7062 - val_acc: 0.6753\n",
      "Epoch 107/150\n",
      "614/614 [==============================] - 0s 193us/step - loss: 0.5603 - acc: 0.6987 - val_loss: 0.6707 - val_acc: 0.6688\n",
      "Epoch 108/150\n",
      "614/614 [==============================] - 0s 192us/step - loss: 0.5457 - acc: 0.7134 - val_loss: 0.6445 - val_acc: 0.6883\n",
      "Epoch 109/150\n",
      "614/614 [==============================] - 0s 197us/step - loss: 0.5433 - acc: 0.7182 - val_loss: 0.6549 - val_acc: 0.6883\n",
      "Epoch 110/150\n",
      "614/614 [==============================] - 0s 192us/step - loss: 0.5514 - acc: 0.7150 - val_loss: 0.6478 - val_acc: 0.6818\n",
      "Epoch 111/150\n",
      "614/614 [==============================] - 0s 214us/step - loss: 0.5382 - acc: 0.7068 - val_loss: 0.6579 - val_acc: 0.6623\n",
      "Epoch 112/150\n",
      "614/614 [==============================] - 0s 211us/step - loss: 0.5678 - acc: 0.6873 - val_loss: 0.6636 - val_acc: 0.6883\n",
      "Epoch 113/150\n",
      "614/614 [==============================] - 0s 209us/step - loss: 0.5523 - acc: 0.6971 - val_loss: 0.6590 - val_acc: 0.6948\n",
      "Epoch 114/150\n",
      "614/614 [==============================] - 0s 196us/step - loss: 0.5542 - acc: 0.6938 - val_loss: 0.6821 - val_acc: 0.6558\n",
      "Epoch 115/150\n",
      "614/614 [==============================] - ETA: 0s - loss: 0.6002 - acc: 0.656 - 0s 190us/step - loss: 0.5729 - acc: 0.6808 - val_loss: 0.6636 - val_acc: 0.6688\n",
      "Epoch 116/150\n",
      "614/614 [==============================] - 0s 211us/step - loss: 0.5320 - acc: 0.7182 - val_loss: 0.6748 - val_acc: 0.6623\n",
      "Epoch 117/150\n",
      "614/614 [==============================] - 0s 208us/step - loss: 0.5552 - acc: 0.6971 - val_loss: 0.6896 - val_acc: 0.6753\n",
      "Epoch 118/150\n",
      "614/614 [==============================] - 0s 204us/step - loss: 0.5391 - acc: 0.7231 - val_loss: 0.6730 - val_acc: 0.6623\n",
      "Epoch 119/150\n",
      "614/614 [==============================] - 0s 241us/step - loss: 0.5486 - acc: 0.7182 - val_loss: 0.6805 - val_acc: 0.6883\n",
      "Epoch 120/150\n",
      "614/614 [==============================] - 0s 194us/step - loss: 0.5645 - acc: 0.6971 - val_loss: 0.6604 - val_acc: 0.6753\n"
     ]
    },
    {
     "name": "stdout",
     "output_type": "stream",
     "text": [
      "Epoch 121/150\n",
      "614/614 [==============================] - 0s 211us/step - loss: 0.5434 - acc: 0.7101 - val_loss: 0.6423 - val_acc: 0.6883\n",
      "Epoch 122/150\n",
      "614/614 [==============================] - 0s 189us/step - loss: 0.5410 - acc: 0.7020 - val_loss: 0.6742 - val_acc: 0.6623\n",
      "Epoch 123/150\n",
      "614/614 [==============================] - 0s 352us/step - loss: 0.5522 - acc: 0.7134 - val_loss: 0.6489 - val_acc: 0.7013\n",
      "Epoch 124/150\n",
      "614/614 [==============================] - 0s 184us/step - loss: 0.5483 - acc: 0.7199 - val_loss: 0.6716 - val_acc: 0.6753\n",
      "Epoch 125/150\n",
      "614/614 [==============================] - 0s 238us/step - loss: 0.5416 - acc: 0.7215 - val_loss: 0.6734 - val_acc: 0.6623\n",
      "Epoch 126/150\n",
      "614/614 [==============================] - 0s 235us/step - loss: 0.5387 - acc: 0.7166 - val_loss: 0.6720 - val_acc: 0.6494\n",
      "Epoch 127/150\n",
      "614/614 [==============================] - 0s 200us/step - loss: 0.5489 - acc: 0.7166 - val_loss: 0.6463 - val_acc: 0.6948\n",
      "Epoch 128/150\n",
      "614/614 [==============================] - 0s 185us/step - loss: 0.5373 - acc: 0.7182 - val_loss: 0.6599 - val_acc: 0.6753\n",
      "Epoch 129/150\n",
      "614/614 [==============================] - 0s 224us/step - loss: 0.5344 - acc: 0.7264 - val_loss: 0.6652 - val_acc: 0.7143\n",
      "Epoch 130/150\n",
      "614/614 [==============================] - 0s 239us/step - loss: 0.5338 - acc: 0.7199 - val_loss: 0.6595 - val_acc: 0.6883\n",
      "Epoch 131/150\n",
      "614/614 [==============================] - 0s 186us/step - loss: 0.5428 - acc: 0.7215 - val_loss: 0.6559 - val_acc: 0.6688\n",
      "Epoch 132/150\n",
      "614/614 [==============================] - 0s 225us/step - loss: 0.5298 - acc: 0.7199 - val_loss: 0.6797 - val_acc: 0.6623\n",
      "Epoch 133/150\n",
      "614/614 [==============================] - 0s 201us/step - loss: 0.5304 - acc: 0.7215 - val_loss: 0.6512 - val_acc: 0.7078\n",
      "Epoch 134/150\n",
      "614/614 [==============================] - 0s 235us/step - loss: 0.5333 - acc: 0.7166 - val_loss: 0.6624 - val_acc: 0.6948\n",
      "Epoch 135/150\n",
      "614/614 [==============================] - 0s 199us/step - loss: 0.5312 - acc: 0.7199 - val_loss: 0.6506 - val_acc: 0.6883\n",
      "Epoch 136/150\n",
      "614/614 [==============================] - 0s 203us/step - loss: 0.5400 - acc: 0.7166 - val_loss: 0.6487 - val_acc: 0.6948\n",
      "Epoch 137/150\n",
      "614/614 [==============================] - 0s 197us/step - loss: 0.5306 - acc: 0.7248 - val_loss: 0.6607 - val_acc: 0.6688\n",
      "Epoch 138/150\n",
      "614/614 [==============================] - 0s 218us/step - loss: 0.5313 - acc: 0.7296 - val_loss: 0.6821 - val_acc: 0.6623\n",
      "Epoch 139/150\n",
      "614/614 [==============================] - 0s 190us/step - loss: 0.5238 - acc: 0.7296 - val_loss: 0.6453 - val_acc: 0.7078\n",
      "Epoch 140/150\n",
      "614/614 [==============================] - 0s 206us/step - loss: 0.5371 - acc: 0.7052 - val_loss: 0.6727 - val_acc: 0.7013\n",
      "Epoch 141/150\n",
      "614/614 [==============================] - 0s 251us/step - loss: 0.5341 - acc: 0.7182 - val_loss: 0.6721 - val_acc: 0.6753\n",
      "Epoch 142/150\n",
      "614/614 [==============================] - 0s 228us/step - loss: 0.5405 - acc: 0.7166 - val_loss: 0.6675 - val_acc: 0.6753\n",
      "Epoch 143/150\n",
      "614/614 [==============================] - 0s 213us/step - loss: 0.5493 - acc: 0.7134 - val_loss: 0.7563 - val_acc: 0.6688\n",
      "Epoch 144/150\n",
      "614/614 [==============================] - 0s 203us/step - loss: 0.5346 - acc: 0.7296 - val_loss: 0.6690 - val_acc: 0.6494\n",
      "Epoch 145/150\n",
      "614/614 [==============================] - 0s 173us/step - loss: 0.5385 - acc: 0.7166 - val_loss: 0.6867 - val_acc: 0.6688\n",
      "Epoch 146/150\n",
      "614/614 [==============================] - 0s 199us/step - loss: 0.5433 - acc: 0.7150 - val_loss: 0.6892 - val_acc: 0.6688\n",
      "Epoch 147/150\n",
      "614/614 [==============================] - 0s 231us/step - loss: 0.5644 - acc: 0.6922 - val_loss: 0.6706 - val_acc: 0.6883\n",
      "Epoch 148/150\n",
      "614/614 [==============================] - 0s 149us/step - loss: 0.5540 - acc: 0.7166 - val_loss: 0.6687 - val_acc: 0.6753\n",
      "Epoch 149/150\n",
      "614/614 [==============================] - 0s 226us/step - loss: 0.5340 - acc: 0.7117 - val_loss: 0.6703 - val_acc: 0.6688\n",
      "Epoch 150/150\n",
      "614/614 [==============================] - 0s 166us/step - loss: 0.5268 - acc: 0.7182 - val_loss: 0.6772 - val_acc: 0.6883\n"
     ]
    }
   ],
   "source": [
    "history = model.fit(X_train, Y_train, validation_data=(X_test,Y_test), epochs=150, batch_size=10)"
   ]
  },
  {
   "cell_type": "code",
   "execution_count": 13,
   "metadata": {},
   "outputs": [
    {
     "name": "stdout",
     "output_type": "stream",
     "text": [
      "614/614 [==============================] - 0s 33us/step\n",
      "154/154 [==============================] - 0s 71us/step\n"
     ]
    },
    {
     "data": {
      "text/plain": [
       "([0.5202560370442145, 0.7442996744612529],\n",
       " [0.6771780616277224, 0.6883116867635157])"
      ]
     },
     "execution_count": 13,
     "metadata": {},
     "output_type": "execute_result"
    }
   ],
   "source": [
    "model.evaluate(X_train, Y_train),model.evaluate(X_test, Y_test)"
   ]
  },
  {
   "cell_type": "code",
   "execution_count": 16,
   "metadata": {},
   "outputs": [
    {
     "name": "stdout",
     "output_type": "stream",
     "text": [
      "[6.0, 98.0, 58.0, 33.0, 190.0, 34.0, 0.43, 43.0] => 0 (expected 0)\n",
      "[2.0, 112.0, 75.0, 32.0, 0.0, 35.7, 0.148, 21.0] => 0 (expected 0)\n",
      "[2.0, 108.0, 64.0, 0.0, 0.0, 30.8, 0.158, 21.0] => 0 (expected 0)\n",
      "[8.0, 107.0, 80.0, 0.0, 0.0, 24.6, 0.856, 34.0] => 0 (expected 0)\n",
      "[7.0, 136.0, 90.0, 0.0, 0.0, 29.9, 0.21, 50.0] => 0 (expected 0)\n",
      "[6.0, 103.0, 72.0, 32.0, 190.0, 37.7, 0.324, 55.0] => 0 (expected 0)\n",
      "[1.0, 71.0, 48.0, 18.0, 76.0, 20.4, 0.323, 22.0] => 0 (expected 0)\n",
      "[0.0, 117.0, 0.0, 0.0, 0.0, 33.8, 0.932, 44.0] => 0 (expected 0)\n",
      "[4.0, 154.0, 72.0, 29.0, 126.0, 31.3, 0.338, 37.0] => 1 (expected 0)\n",
      "[5.0, 147.0, 78.0, 0.0, 0.0, 33.7, 0.218, 65.0] => 1 (expected 0)\n"
     ]
    }
   ],
   "source": [
    "predictions = model.predict_classes(X_test)\n",
    "for i in range(10):\n",
    "    print('%s => %d (expected %d)' % (X_test[i].tolist(), predictions[i], Y_test[i]))"
   ]
  },
  {
   "cell_type": "code",
   "execution_count": 17,
   "metadata": {},
   "outputs": [
    {
     "data": {
      "text/plain": [
       "<matplotlib.legend.Legend at 0x1edcf9d41d0>"
      ]
     },
     "execution_count": 17,
     "metadata": {},
     "output_type": "execute_result"
    },
    {
     "data": {
      "image/png": "[encoded data removed]",
      "text/plain": [
       "<Figure size 432x288 with 1 Axes>"
      ]
     },
     "metadata": {
      "needs_background": "light"
     },
     "output_type": "display_data"
    }
   ],
   "source": [
    "# val_loss\n",
    "# acc\n",
    "plt.plot(history.history['acc'])\n",
    "plt.plot(history.history['val_acc'])\n",
    "\n",
    "# plt.plot(history.history['accuracy'])   # it will work in other version \n",
    "# plt.plot(history.history['val_accuracy'])\n",
    "plt.title('model accuracy')\n",
    "plt.ylabel('accuracy')\n",
    "plt.xlabel('epoch')\n",
    "plt.legend(['train', 'test'], loc='upper left')"
   ]
  },
  {
   "cell_type": "code",
   "execution_count": 18,
   "metadata": {},
   "outputs": [
    {
     "data": {
      "text/plain": [
       "(0, 2)"
      ]
     },
     "execution_count": 18,
     "metadata": {},
     "output_type": "execute_result"
    },
    {
     "data": {
      "image/png": "[encoded data removed]",
      "text/plain": [
       "<Figure size 432x288 with 1 Axes>"
      ]
     },
     "metadata": {
      "needs_background": "light"
     },
     "output_type": "display_data"
    }
   ],
   "source": [
    "plt.plot(history.history['loss'])\n",
    "plt.plot(history.history['val_loss'])\n",
    "plt.title('model loss')\n",
    "plt.ylabel('loss')\n",
    "plt.xlabel('epoch')\n",
    "plt.legend(['train', 'test'], loc='upper left')\n",
    "plt.ylim((0,2))"
   ]
  },
  {
   "cell_type": "markdown",
   "metadata": {},
   "source": [
    "## Multiclass Classification"
   ]
  },
  {
   "cell_type": "code",
   "execution_count": 19,
   "metadata": {},
   "outputs": [],
   "source": [
    "# multi-class classification with Keras\n",
    "import pandas\n",
    "from keras.models import Sequential\n",
    "from keras.layers import Dense\n",
    "from keras.utils import np_utils\n",
    "from sklearn.preprocessing import LabelEncoder"
   ]
  },
  {
   "cell_type": "code",
   "execution_count": 20,
   "metadata": {},
   "outputs": [],
   "source": [
    "dataframe = pandas.read_csv(\"iris.data\", header=None)"
   ]
  },
  {
   "cell_type": "code",
   "execution_count": 21,
   "metadata": {},
   "outputs": [
    {
     "data": {
      "text/html": [
       "<div>\n",
       "<style scoped>\n",
       "    .dataframe tbody tr th:only-of-type {\n",
       "        vertical-align: middle;\n",
       "    }\n",
       "\n",
       "    .dataframe tbody tr th {\n",
       "        vertical-align: top;\n",
       "    }\n",
       "\n",
       "    .dataframe thead th {\n",
       "        text-align: right;\n",
       "    }\n",
       "</style>\n",
       "<table border=\"1\" class=\"dataframe\">\n",
       "  <thead>\n",
       "    <tr style=\"text-align: right;\">\n",
       "      <th></th>\n",
       "      <th>0</th>\n",
       "      <th>1</th>\n",
       "      <th>2</th>\n",
       "      <th>3</th>\n",
       "      <th>4</th>\n",
       "    </tr>\n",
       "  </thead>\n",
       "  <tbody>\n",
       "    <tr>\n",
       "      <th>0</th>\n",
       "      <td>5.1</td>\n",
       "      <td>3.5</td>\n",
       "      <td>1.4</td>\n",
       "      <td>0.2</td>\n",
       "      <td>Iris-setosa</td>\n",
       "    </tr>\n",
       "    <tr>\n",
       "      <th>1</th>\n",
       "      <td>4.9</td>\n",
       "      <td>3.0</td>\n",
       "      <td>1.4</td>\n",
       "      <td>0.2</td>\n",
       "      <td>Iris-setosa</td>\n",
       "    </tr>\n",
       "    <tr>\n",
       "      <th>2</th>\n",
       "      <td>4.7</td>\n",
       "      <td>3.2</td>\n",
       "      <td>1.3</td>\n",
       "      <td>0.2</td>\n",
       "      <td>Iris-setosa</td>\n",
       "    </tr>\n",
       "    <tr>\n",
       "      <th>3</th>\n",
       "      <td>4.6</td>\n",
       "      <td>3.1</td>\n",
       "      <td>1.5</td>\n",
       "      <td>0.2</td>\n",
       "      <td>Iris-setosa</td>\n",
       "    </tr>\n",
       "    <tr>\n",
       "      <th>4</th>\n",
       "      <td>5.0</td>\n",
       "      <td>3.6</td>\n",
       "      <td>1.4</td>\n",
       "      <td>0.2</td>\n",
       "      <td>Iris-setosa</td>\n",
       "    </tr>\n",
       "  </tbody>\n",
       "</table>\n",
       "</div>"
      ],
      "text/plain": [
       "     0    1    2    3            4\n",
       "0  5.1  3.5  1.4  0.2  Iris-setosa\n",
       "1  4.9  3.0  1.4  0.2  Iris-setosa\n",
       "2  4.7  3.2  1.3  0.2  Iris-setosa\n",
       "3  4.6  3.1  1.5  0.2  Iris-setosa\n",
       "4  5.0  3.6  1.4  0.2  Iris-setosa"
      ]
     },
     "execution_count": 21,
     "metadata": {},
     "output_type": "execute_result"
    }
   ],
   "source": [
    "dataframe.head()"
   ]
  },
  {
   "cell_type": "code",
   "execution_count": 22,
   "metadata": {},
   "outputs": [],
   "source": [
    "dataset = dataframe.values"
   ]
  },
  {
   "cell_type": "code",
   "execution_count": 23,
   "metadata": {},
   "outputs": [],
   "source": [
    "X = dataset[:,0:4].astype(float)\n",
    "Y = dataset[:,4]"
   ]
  },
  {
   "cell_type": "code",
   "execution_count": 24,
   "metadata": {},
   "outputs": [
    {
     "data": {
      "text/plain": [
       "((150, 4), (150,))"
      ]
     },
     "execution_count": 24,
     "metadata": {},
     "output_type": "execute_result"
    }
   ],
   "source": [
    "X.shape, Y.shape"
   ]
  },
  {
   "cell_type": "code",
   "execution_count": 25,
   "metadata": {},
   "outputs": [],
   "source": [
    "X_train, X_test, Y_train, Y_test = train_test_split(X, Y, test_size=0.10, random_state=42)"
   ]
  },
  {
   "cell_type": "code",
   "execution_count": 26,
   "metadata": {},
   "outputs": [
    {
     "data": {
      "text/plain": [
       "((135, 4), (135,), (15, 4), (15,))"
      ]
     },
     "execution_count": 26,
     "metadata": {},
     "output_type": "execute_result"
    }
   ],
   "source": [
    "X_train.shape, Y_train.shape, X_test.shape, Y_test.shape"
   ]
  },
  {
   "cell_type": "code",
   "execution_count": 27,
   "metadata": {},
   "outputs": [
    {
     "data": {
      "text/plain": [
       "LabelEncoder()"
      ]
     },
     "execution_count": 27,
     "metadata": {},
     "output_type": "execute_result"
    }
   ],
   "source": [
    "encoder = LabelEncoder()\n",
    "encoder.fit(Y_train)"
   ]
  },
  {
   "cell_type": "code",
   "execution_count": 28,
   "metadata": {},
   "outputs": [],
   "source": [
    "encoded_Y_train = encoder.transform(Y_train)"
   ]
  },
  {
   "cell_type": "code",
   "execution_count": 29,
   "metadata": {},
   "outputs": [],
   "source": [
    "encoded_Y_test = encoder.transform(Y_test)"
   ]
  },
  {
   "cell_type": "code",
   "execution_count": 30,
   "metadata": {},
   "outputs": [
    {
     "data": {
      "text/plain": [
       "((135,), (15,))"
      ]
     },
     "execution_count": 30,
     "metadata": {},
     "output_type": "execute_result"
    }
   ],
   "source": [
    "encoded_Y_train.shape,encoded_Y_test.shape"
   ]
  },
  {
   "cell_type": "code",
   "execution_count": 31,
   "metadata": {},
   "outputs": [
    {
     "data": {
      "text/plain": [
       "('Iris-versicolor', 1)"
      ]
     },
     "execution_count": 31,
     "metadata": {},
     "output_type": "execute_result"
    }
   ],
   "source": [
    "Y_train[0],encoded_Y_train[0]"
   ]
  },
  {
   "cell_type": "code",
   "execution_count": 32,
   "metadata": {},
   "outputs": [],
   "source": [
    "ohe_Y_train = np_utils.to_categorical(encoded_Y_train)   # One hot encoding \n",
    "ohe_Y_test = np_utils.to_categorical(encoded_Y_test)"
   ]
  },
  {
   "cell_type": "code",
   "execution_count": 33,
   "metadata": {},
   "outputs": [
    {
     "data": {
      "text/plain": [
       "((135, 3), (15, 3))"
      ]
     },
     "execution_count": 33,
     "metadata": {},
     "output_type": "execute_result"
    }
   ],
   "source": [
    "ohe_Y_train.shape,ohe_Y_test.shape"
   ]
  },
  {
   "cell_type": "code",
   "execution_count": 34,
   "metadata": {},
   "outputs": [
    {
     "data": {
      "text/plain": [
       "('Iris-versicolor', 1, array([0., 1., 0.], dtype=float32))"
      ]
     },
     "execution_count": 34,
     "metadata": {},
     "output_type": "execute_result"
    }
   ],
   "source": [
    "Y_train[0],encoded_Y_train[0],ohe_Y_train[0]"
   ]
  },
  {
   "cell_type": "code",
   "execution_count": 35,
   "metadata": {},
   "outputs": [],
   "source": [
    "model = Sequential()\n",
    "model.add(Dense(8, input_dim=4, activation='relu'))\n",
    "model.add(Dense(3, activation='softmax'))\n",
    "model.compile(loss='categorical_crossentropy', optimizer='adam', metrics=['accuracy'])"
   ]
  },
  {
   "cell_type": "code",
   "execution_count": 36,
   "metadata": {},
   "outputs": [
    {
     "name": "stdout",
     "output_type": "stream",
     "text": [
      "_________________________________________________________________\n",
      "Layer (type)                 Output Shape              Param #   \n",
      "=================================================================\n",
      "dense_4 (Dense)              (None, 8)                 40        \n",
      "_________________________________________________________________\n",
      "dense_5 (Dense)              (None, 3)                 27        \n",
      "=================================================================\n",
      "Total params: 67\n",
      "Trainable params: 67\n",
      "Non-trainable params: 0\n",
      "_________________________________________________________________\n"
     ]
    }
   ],
   "source": [
    "model.summary()"
   ]
  },
  {
   "cell_type": "code",
   "execution_count": 37,
   "metadata": {},
   "outputs": [
    {
     "name": "stdout",
     "output_type": "stream",
     "text": [
      "Train on 135 samples, validate on 15 samples\n",
      "Epoch 1/50\n",
      "135/135 [==============================] - 0s 3ms/step - loss: 2.8633 - acc: 0.0000e+00 - val_loss: 2.8557 - val_acc: 0.0000e+00\n",
      "Epoch 2/50\n",
      "135/135 [==============================] - 0s 359us/step - loss: 2.2358 - acc: 0.0741 - val_loss: 2.3641 - val_acc: 0.1333\n",
      "Epoch 3/50\n",
      "135/135 [==============================] - 0s 298us/step - loss: 1.8470 - acc: 0.2296 - val_loss: 1.8869 - val_acc: 0.1333\n",
      "Epoch 4/50\n",
      "135/135 [==============================] - 0s 255us/step - loss: 1.4954 - acc: 0.2667 - val_loss: 1.5334 - val_acc: 0.2000\n",
      "Epoch 5/50\n",
      "135/135 [==============================] - 0s 281us/step - loss: 1.2520 - acc: 0.3259 - val_loss: 1.2393 - val_acc: 0.2000\n",
      "Epoch 6/50\n",
      "135/135 [==============================] - 0s 285us/step - loss: 1.0831 - acc: 0.3481 - val_loss: 1.1075 - val_acc: 0.2000\n",
      "Epoch 7/50\n",
      "135/135 [==============================] - 0s 286us/step - loss: 1.0162 - acc: 0.3630 - val_loss: 1.0326 - val_acc: 0.2000\n",
      "Epoch 8/50\n",
      "135/135 [==============================] - 0s 354us/step - loss: 0.9780 - acc: 0.3704 - val_loss: 0.9932 - val_acc: 0.3333\n",
      "Epoch 9/50\n",
      "135/135 [==============================] - 0s 401us/step - loss: 0.9417 - acc: 0.4815 - val_loss: 0.9542 - val_acc: 0.3333\n",
      "Epoch 10/50\n",
      "135/135 [==============================] - 0s 321us/step - loss: 0.9106 - acc: 0.4667 - val_loss: 0.9350 - val_acc: 0.4667\n",
      "Epoch 11/50\n",
      "135/135 [==============================] - 0s 358us/step - loss: 0.8730 - acc: 0.5926 - val_loss: 0.9152 - val_acc: 0.4667\n",
      "Epoch 12/50\n",
      "135/135 [==============================] - 0s 314us/step - loss: 0.8432 - acc: 0.8000 - val_loss: 0.8949 - val_acc: 0.6667\n",
      "Epoch 13/50\n",
      "135/135 [==============================] - 0s 315us/step - loss: 0.8114 - acc: 0.8370 - val_loss: 0.8514 - val_acc: 0.8000\n",
      "Epoch 14/50\n",
      "135/135 [==============================] - 0s 346us/step - loss: 0.7827 - acc: 0.8815 - val_loss: 0.8175 - val_acc: 0.8000\n",
      "Epoch 15/50\n",
      "135/135 [==============================] - 0s 385us/step - loss: 0.7555 - acc: 0.9037 - val_loss: 0.7904 - val_acc: 0.8000\n",
      "Epoch 16/50\n",
      "135/135 [==============================] - 0s 475us/step - loss: 0.7261 - acc: 0.9111 - val_loss: 0.7762 - val_acc: 0.7333\n",
      "Epoch 17/50\n",
      "135/135 [==============================] - 0s 454us/step - loss: 0.7016 - acc: 0.9037 - val_loss: 0.7388 - val_acc: 0.8000\n",
      "Epoch 18/50\n",
      "135/135 [==============================] - 0s 372us/step - loss: 0.6762 - acc: 0.9111 - val_loss: 0.7134 - val_acc: 0.8000\n",
      "Epoch 19/50\n",
      "135/135 [==============================] - 0s 363us/step - loss: 0.6517 - acc: 0.9259 - val_loss: 0.6841 - val_acc: 0.8000\n",
      "Epoch 20/50\n",
      "135/135 [==============================] - 0s 244us/step - loss: 0.6280 - acc: 0.9259 - val_loss: 0.6602 - val_acc: 0.8000\n",
      "Epoch 21/50\n",
      "135/135 [==============================] - 0s 246us/step - loss: 0.6067 - acc: 0.9259 - val_loss: 0.6346 - val_acc: 0.8000\n",
      "Epoch 22/50\n",
      "135/135 [==============================] - 0s 310us/step - loss: 0.5889 - acc: 0.9185 - val_loss: 0.6346 - val_acc: 0.8000\n",
      "Epoch 23/50\n",
      "135/135 [==============================] - 0s 300us/step - loss: 0.5654 - acc: 0.9407 - val_loss: 0.5970 - val_acc: 0.8000\n",
      "Epoch 24/50\n",
      "135/135 [==============================] - 0s 273us/step - loss: 0.5484 - acc: 0.9407 - val_loss: 0.5743 - val_acc: 0.8000\n",
      "Epoch 25/50\n",
      "135/135 [==============================] - 0s 334us/step - loss: 0.5279 - acc: 0.9481 - val_loss: 0.5639 - val_acc: 0.8000\n",
      "Epoch 26/50\n",
      "135/135 [==============================] - 0s 376us/step - loss: 0.5092 - acc: 0.9407 - val_loss: 0.5494 - val_acc: 0.8000\n",
      "Epoch 27/50\n",
      "135/135 [==============================] - 0s 445us/step - loss: 0.4931 - acc: 0.9481 - val_loss: 0.5302 - val_acc: 0.8667\n",
      "Epoch 28/50\n",
      "135/135 [==============================] - 0s 274us/step - loss: 0.4786 - acc: 0.9481 - val_loss: 0.5251 - val_acc: 0.8000\n",
      "Epoch 29/50\n",
      "135/135 [==============================] - 0s 310us/step - loss: 0.4629 - acc: 0.9481 - val_loss: 0.5047 - val_acc: 0.8667\n",
      "Epoch 30/50\n",
      "135/135 [==============================] - 0s 398us/step - loss: 0.4494 - acc: 0.9481 - val_loss: 0.4915 - val_acc: 0.8667\n",
      "Epoch 31/50\n",
      "135/135 [==============================] - 0s 347us/step - loss: 0.4353 - acc: 0.9630 - val_loss: 0.4796 - val_acc: 0.8667\n",
      "Epoch 32/50\n",
      "135/135 [==============================] - 0s 322us/step - loss: 0.4232 - acc: 0.9556 - val_loss: 0.4605 - val_acc: 0.9333\n",
      "Epoch 33/50\n",
      "135/135 [==============================] - 0s 311us/step - loss: 0.4106 - acc: 0.9556 - val_loss: 0.4588 - val_acc: 0.8667\n",
      "Epoch 34/50\n",
      "135/135 [==============================] - 0s 318us/step - loss: 0.4015 - acc: 0.9704 - val_loss: 0.4458 - val_acc: 0.8667\n",
      "Epoch 35/50\n",
      "135/135 [==============================] - 0s 302us/step - loss: 0.3890 - acc: 0.9481 - val_loss: 0.4307 - val_acc: 0.9333\n",
      "Epoch 36/50\n",
      "135/135 [==============================] - 0s 311us/step - loss: 0.3783 - acc: 0.9630 - val_loss: 0.4189 - val_acc: 0.9333\n",
      "Epoch 37/50\n",
      "135/135 [==============================] - 0s 279us/step - loss: 0.3732 - acc: 0.9630 - val_loss: 0.4068 - val_acc: 0.8667\n",
      "Epoch 38/50\n",
      "135/135 [==============================] - 0s 287us/step - loss: 0.3603 - acc: 0.9556 - val_loss: 0.4093 - val_acc: 0.9333\n",
      "Epoch 39/50\n",
      "135/135 [==============================] - 0s 230us/step - loss: 0.3498 - acc: 0.9630 - val_loss: 0.3959 - val_acc: 0.9333\n",
      "Epoch 40/50\n",
      "135/135 [==============================] - 0s 282us/step - loss: 0.3395 - acc: 0.9704 - val_loss: 0.3925 - val_acc: 0.9333\n",
      "Epoch 41/50\n",
      "135/135 [==============================] - 0s 302us/step - loss: 0.3323 - acc: 0.9704 - val_loss: 0.3791 - val_acc: 0.9333\n",
      "Epoch 42/50\n",
      "135/135 [==============================] - 0s 231us/step - loss: 0.3231 - acc: 0.9630 - val_loss: 0.3705 - val_acc: 0.9333\n",
      "Epoch 43/50\n",
      "135/135 [==============================] - 0s 399us/step - loss: 0.3157 - acc: 0.9704 - val_loss: 0.3701 - val_acc: 0.9333\n",
      "Epoch 44/50\n",
      "135/135 [==============================] - 0s 376us/step - loss: 0.3087 - acc: 0.9630 - val_loss: 0.3619 - val_acc: 0.9333\n",
      "Epoch 45/50\n",
      "135/135 [==============================] - 0s 422us/step - loss: 0.3038 - acc: 0.9630 - val_loss: 0.3527 - val_acc: 0.9333\n",
      "Epoch 46/50\n",
      "135/135 [==============================] - 0s 310us/step - loss: 0.2945 - acc: 0.9704 - val_loss: 0.3496 - val_acc: 0.9333\n",
      "Epoch 47/50\n",
      "135/135 [==============================] - 0s 447us/step - loss: 0.2879 - acc: 0.9630 - val_loss: 0.3424 - val_acc: 0.9333\n",
      "Epoch 48/50\n",
      "135/135 [==============================] - 0s 329us/step - loss: 0.2876 - acc: 0.9778 - val_loss: 0.3265 - val_acc: 0.8667\n",
      "Epoch 49/50\n",
      "135/135 [==============================] - 0s 445us/step - loss: 0.2785 - acc: 0.9704 - val_loss: 0.3459 - val_acc: 0.9333\n",
      "Epoch 50/50\n",
      "135/135 [==============================] - 0s 321us/step - loss: 0.2782 - acc: 0.9704 - val_loss: 0.3165 - val_acc: 0.8667\n"
     ]
    }
   ],
   "source": [
    "history = model.fit(X_train, ohe_Y_train, validation_data=(X_test,ohe_Y_test), epochs=50, batch_size=5)"
   ]
  },
  {
   "cell_type": "code",
   "execution_count": 38,
   "metadata": {},
   "outputs": [
    {
     "name": "stdout",
     "output_type": "stream",
     "text": [
      "135/135 [==============================] - 0s 68us/step\n",
      "15/15 [==============================] - 0s 75us/step\n"
     ]
    },
    {
     "data": {
      "text/plain": [
       "([0.26679494778315227, 0.9703703703703703],\n",
       " [0.31649672985076904, 0.8666666746139526])"
      ]
     },
     "execution_count": 38,
     "metadata": {},
     "output_type": "execute_result"
    }
   ],
   "source": [
    "model.evaluate(X_train, ohe_Y_train),model.evaluate(X_test, ohe_Y_test)"
   ]
  },
  {
   "cell_type": "code",
   "execution_count": 39,
   "metadata": {},
   "outputs": [
    {
     "name": "stdout",
     "output_type": "stream",
     "text": [
      "[6.1, 2.8, 4.7, 1.2] => 1 (expected 1)\n",
      "[5.7, 3.8, 1.7, 0.3] => 0 (expected 0)\n",
      "[7.7, 2.6, 6.9, 2.3] => 2 (expected 2)\n",
      "[6.0, 2.9, 4.5, 1.5] => 1 (expected 1)\n",
      "[6.8, 2.8, 4.8, 1.4] => 1 (expected 1)\n",
      "[5.4, 3.4, 1.5, 0.4] => 0 (expected 0)\n",
      "[5.6, 2.9, 3.6, 1.3] => 1 (expected 1)\n",
      "[6.9, 3.1, 5.1, 2.3] => 2 (expected 2)\n",
      "[6.2, 2.2, 4.5, 1.5] => 2 (expected 1)\n",
      "[5.8, 2.7, 3.9, 1.2] => 1 (expected 1)\n"
     ]
    }
   ],
   "source": [
    "predictions = model.predict_classes(X_test)\n",
    "for i in range(10):\n",
    "    print('%s => %d (expected %d)' % (X_test[i].tolist(), predictions[i], encoded_Y_test[i]))"
   ]
  },
  {
   "cell_type": "code",
   "execution_count": 40,
   "metadata": {},
   "outputs": [
    {
     "data": {
      "text/plain": [
       "<matplotlib.legend.Legend at 0x1edcff2f208>"
      ]
     },
     "execution_count": 40,
     "metadata": {},
     "output_type": "execute_result"
    },
    {
     "data": {
      "image/png": "[encoded data removed]",
      "text/plain": [
       "<Figure size 432x288 with 1 Axes>"
      ]
     },
     "metadata": {
      "needs_background": "light"
     },
     "output_type": "display_data"
    }
   ],
   "source": [
    "# val_loss\n",
    "# acc\n",
    "plt.plot(history.history['acc'])\n",
    "plt.plot(history.history['val_acc'])\n",
    "\n",
    "# plt.plot(history.history['accuracy'])   # it will work in other version \n",
    "# plt.plot(history.history['val_accuracy'])\n",
    "plt.title('model accuracy')\n",
    "plt.ylabel('accuracy')\n",
    "plt.xlabel('epoch')\n",
    "plt.legend(['train', 'test'], loc='upper left')"
   ]
  },
  {
   "cell_type": "code",
   "execution_count": 41,
   "metadata": {},
   "outputs": [
    {
     "data": {
      "text/plain": [
       "<matplotlib.legend.Legend at 0x1edcfa3e1d0>"
      ]
     },
     "execution_count": 41,
     "metadata": {},
     "output_type": "execute_result"
    },
    {
     "data": {
      "image/png": "[encoded data removed]",
      "text/plain": [
       "<Figure size 432x288 with 1 Axes>"
      ]
     },
     "metadata": {
      "needs_background": "light"
     },
     "output_type": "display_data"
    }
   ],
   "source": [
    "plt.plot(history.history['loss'])\n",
    "plt.plot(history.history['val_loss'])\n",
    "plt.title('model loss')\n",
    "plt.ylabel('loss')\n",
    "plt.xlabel('epoch')\n",
    "plt.legend(['train', 'test'], loc='upper left')\n",
    "# plt.ylim((0,2))"
   ]
  },
  {
   "cell_type": "markdown",
   "metadata": {},
   "source": [
    "TRY to evaluate The Model with k-Fold Cross Validation (egk=10)"
   ]
  },
  {
   "cell_type": "markdown",
   "metadata": {},
   "source": [
    "## Functional API"
   ]
  },
  {
   "cell_type": "code",
   "execution_count": 42,
   "metadata": {},
   "outputs": [],
   "source": [
    "from keras.layers import Input\n",
    "from keras.models import Model"
   ]
  },
  {
   "cell_type": "code",
   "execution_count": 43,
   "metadata": {},
   "outputs": [],
   "source": [
    "input_layer = Input(shape=(4,))\n",
    "D1 = Dense(8,activation='relu')(input_layer)\n",
    "D2 = Dense(3,activation='softmax')(D1)\n",
    "model = Model(inputs=input_layer, outputs=D2)"
   ]
  },
  {
   "cell_type": "code",
   "execution_count": 44,
   "metadata": {},
   "outputs": [],
   "source": [
    "model.compile(loss='categorical_crossentropy', optimizer='adam', metrics=['accuracy'])"
   ]
  },
  {
   "cell_type": "code",
   "execution_count": 45,
   "metadata": {},
   "outputs": [
    {
     "name": "stdout",
     "output_type": "stream",
     "text": [
      "Train on 135 samples, validate on 15 samples\n",
      "Epoch 1/50\n",
      "135/135 [==============================] - 0s 4ms/step - loss: 2.3191 - acc: 0.3481 - val_loss: 2.4019 - val_acc: 0.2000\n",
      "Epoch 2/50\n",
      "135/135 [==============================] - 0s 365us/step - loss: 1.5936 - acc: 0.3481 - val_loss: 1.6945 - val_acc: 0.2000\n",
      "Epoch 3/50\n",
      "135/135 [==============================] - 0s 359us/step - loss: 1.2344 - acc: 0.3852 - val_loss: 1.3769 - val_acc: 0.3333\n",
      "Epoch 4/50\n",
      "135/135 [==============================] - 0s 333us/step - loss: 1.0340 - acc: 0.5704 - val_loss: 1.1528 - val_acc: 0.2667\n",
      "Epoch 5/50\n",
      "135/135 [==============================] - 0s 377us/step - loss: 0.8845 - acc: 0.5778 - val_loss: 0.9824 - val_acc: 0.2667\n",
      "Epoch 6/50\n",
      "135/135 [==============================] - 0s 362us/step - loss: 0.7712 - acc: 0.5926 - val_loss: 0.8649 - val_acc: 0.2667\n",
      "Epoch 7/50\n",
      "135/135 [==============================] - 0s 412us/step - loss: 0.6951 - acc: 0.6000 - val_loss: 0.7843 - val_acc: 0.3333\n",
      "Epoch 8/50\n",
      "135/135 [==============================] - 0s 452us/step - loss: 0.6470 - acc: 0.7926 - val_loss: 0.7273 - val_acc: 0.6000\n",
      "Epoch 9/50\n",
      "135/135 [==============================] - 0s 397us/step - loss: 0.6125 - acc: 0.8815 - val_loss: 0.6963 - val_acc: 0.6667\n",
      "Epoch 10/50\n",
      "135/135 [==============================] - 0s 430us/step - loss: 0.5872 - acc: 0.8963 - val_loss: 0.6693 - val_acc: 0.6667\n",
      "Epoch 11/50\n",
      "135/135 [==============================] - 0s 451us/step - loss: 0.5677 - acc: 0.9111 - val_loss: 0.6416 - val_acc: 0.7333\n",
      "Epoch 12/50\n",
      "135/135 [==============================] - 0s 379us/step - loss: 0.5456 - acc: 0.9037 - val_loss: 0.6232 - val_acc: 0.7333\n",
      "Epoch 13/50\n",
      "135/135 [==============================] - 0s 378us/step - loss: 0.5311 - acc: 0.9185 - val_loss: 0.5916 - val_acc: 0.8000\n",
      "Epoch 14/50\n",
      "135/135 [==============================] - 0s 467us/step - loss: 0.5114 - acc: 0.9259 - val_loss: 0.5776 - val_acc: 0.7333\n",
      "Epoch 15/50\n",
      "135/135 [==============================] - 0s 430us/step - loss: 0.4994 - acc: 0.8741 - val_loss: 0.5606 - val_acc: 0.7333\n",
      "Epoch 16/50\n",
      "135/135 [==============================] - 0s 387us/step - loss: 0.4875 - acc: 0.9111 - val_loss: 0.5386 - val_acc: 0.8000\n",
      "Epoch 17/50\n",
      "135/135 [==============================] - 0s 329us/step - loss: 0.4727 - acc: 0.8963 - val_loss: 0.5298 - val_acc: 0.7333\n",
      "Epoch 18/50\n",
      "135/135 [==============================] - 0s 441us/step - loss: 0.4564 - acc: 0.9333 - val_loss: 0.5074 - val_acc: 0.8000\n",
      "Epoch 19/50\n",
      "135/135 [==============================] - 0s 408us/step - loss: 0.4440 - acc: 0.9333 - val_loss: 0.4929 - val_acc: 0.8000\n",
      "Epoch 20/50\n",
      "135/135 [==============================] - 0s 451us/step - loss: 0.4386 - acc: 0.9037 - val_loss: 0.4771 - val_acc: 0.8000\n",
      "Epoch 21/50\n",
      "135/135 [==============================] - 0s 372us/step - loss: 0.4241 - acc: 0.9259 - val_loss: 0.4687 - val_acc: 0.8000\n",
      "Epoch 22/50\n",
      "135/135 [==============================] - 0s 294us/step - loss: 0.4117 - acc: 0.9333 - val_loss: 0.4584 - val_acc: 0.8000\n",
      "Epoch 23/50\n",
      "135/135 [==============================] - 0s 302us/step - loss: 0.4057 - acc: 0.9259 - val_loss: 0.4490 - val_acc: 0.8000\n",
      "Epoch 24/50\n",
      "135/135 [==============================] - 0s 261us/step - loss: 0.3953 - acc: 0.9407 - val_loss: 0.4329 - val_acc: 0.8667\n",
      "Epoch 25/50\n",
      "135/135 [==============================] - 0s 400us/step - loss: 0.3882 - acc: 0.9333 - val_loss: 0.4305 - val_acc: 0.8000\n",
      "Epoch 26/50\n",
      "135/135 [==============================] - 0s 375us/step - loss: 0.3800 - acc: 0.9407 - val_loss: 0.4193 - val_acc: 0.8000\n",
      "Epoch 27/50\n",
      "135/135 [==============================] - 0s 366us/step - loss: 0.3724 - acc: 0.9259 - val_loss: 0.4202 - val_acc: 0.8667\n",
      "Epoch 28/50\n",
      "135/135 [==============================] - 0s 398us/step - loss: 0.3702 - acc: 0.9481 - val_loss: 0.4033 - val_acc: 0.8000\n",
      "Epoch 29/50\n",
      "135/135 [==============================] - 0s 383us/step - loss: 0.3583 - acc: 0.9333 - val_loss: 0.4041 - val_acc: 0.8667\n",
      "Epoch 30/50\n",
      "135/135 [==============================] - 0s 376us/step - loss: 0.3535 - acc: 0.9407 - val_loss: 0.3822 - val_acc: 0.9333\n",
      "Epoch 31/50\n",
      "135/135 [==============================] - 0s 381us/step - loss: 0.3444 - acc: 0.9407 - val_loss: 0.3890 - val_acc: 0.8667\n",
      "Epoch 32/50\n",
      "135/135 [==============================] - 0s 319us/step - loss: 0.3394 - acc: 0.9481 - val_loss: 0.3729 - val_acc: 0.8667\n",
      "Epoch 33/50\n",
      "135/135 [==============================] - 0s 385us/step - loss: 0.3354 - acc: 0.9407 - val_loss: 0.3770 - val_acc: 0.8667\n",
      "Epoch 34/50\n",
      "135/135 [==============================] - 0s 411us/step - loss: 0.3282 - acc: 0.9407 - val_loss: 0.3545 - val_acc: 0.9333\n",
      "Epoch 35/50\n",
      "135/135 [==============================] - 0s 399us/step - loss: 0.3238 - acc: 0.9481 - val_loss: 0.3604 - val_acc: 0.8000\n",
      "Epoch 36/50\n",
      "135/135 [==============================] - 0s 346us/step - loss: 0.3187 - acc: 0.9333 - val_loss: 0.3557 - val_acc: 0.8667\n",
      "Epoch 37/50\n",
      "135/135 [==============================] - 0s 425us/step - loss: 0.3139 - acc: 0.9556 - val_loss: 0.3388 - val_acc: 0.9333\n",
      "Epoch 38/50\n",
      "135/135 [==============================] - 0s 300us/step - loss: 0.3073 - acc: 0.9556 - val_loss: 0.3447 - val_acc: 0.9333\n",
      "Epoch 39/50\n",
      "135/135 [==============================] - 0s 355us/step - loss: 0.3045 - acc: 0.9407 - val_loss: 0.3424 - val_acc: 0.8667\n",
      "Epoch 40/50\n",
      "135/135 [==============================] - 0s 333us/step - loss: 0.3024 - acc: 0.9481 - val_loss: 0.3272 - val_acc: 0.9333\n",
      "Epoch 41/50\n",
      "135/135 [==============================] - 0s 311us/step - loss: 0.2943 - acc: 0.9630 - val_loss: 0.3246 - val_acc: 0.9333\n",
      "Epoch 42/50\n",
      "135/135 [==============================] - 0s 277us/step - loss: 0.2899 - acc: 0.9556 - val_loss: 0.3222 - val_acc: 0.9333\n",
      "Epoch 43/50\n",
      "135/135 [==============================] - 0s 302us/step - loss: 0.2864 - acc: 0.9630 - val_loss: 0.3146 - val_acc: 0.9333\n",
      "Epoch 44/50\n",
      "135/135 [==============================] - 0s 299us/step - loss: 0.2831 - acc: 0.9630 - val_loss: 0.3166 - val_acc: 1.0000\n",
      "Epoch 45/50\n",
      "135/135 [==============================] - 0s 284us/step - loss: 0.2826 - acc: 0.9556 - val_loss: 0.3045 - val_acc: 0.9333\n",
      "Epoch 46/50\n",
      "135/135 [==============================] - 0s 287us/step - loss: 0.2764 - acc: 0.9556 - val_loss: 0.3110 - val_acc: 1.0000\n",
      "Epoch 47/50\n",
      "135/135 [==============================] - 0s 366us/step - loss: 0.2718 - acc: 0.9630 - val_loss: 0.3038 - val_acc: 1.0000\n",
      "Epoch 48/50\n",
      "135/135 [==============================] - 0s 406us/step - loss: 0.2689 - acc: 0.9556 - val_loss: 0.2934 - val_acc: 0.9333\n",
      "Epoch 49/50\n",
      "135/135 [==============================] - 0s 387us/step - loss: 0.2678 - acc: 0.9630 - val_loss: 0.2882 - val_acc: 0.9333\n",
      "Epoch 50/50\n",
      "135/135 [==============================] - 0s 417us/step - loss: 0.2605 - acc: 0.9704 - val_loss: 0.2981 - val_acc: 1.0000\n"
     ]
    }
   ],
   "source": [
    "history = model.fit(X_train, ohe_Y_train, validation_data=(X_test,ohe_Y_test), epochs=50, batch_size=5)"
   ]
  },
  {
   "cell_type": "code",
   "execution_count": 48,
   "metadata": {},
   "outputs": [
    {
     "name": "stdout",
     "output_type": "stream",
     "text": [
      "135/135 [==============================] - 0s 51us/step\n",
      "15/15 [==============================] - 0s 113us/step\n"
     ]
    },
    {
     "data": {
      "text/plain": [
       "([0.2578953254002112, 0.9481481481481482], [0.29810601472854614, 1.0])"
      ]
     },
     "execution_count": 48,
     "metadata": {},
     "output_type": "execute_result"
    }
   ],
   "source": [
    "model.evaluate(X_train, ohe_Y_train),model.evaluate(X_test, ohe_Y_test)"
   ]
  },
  {
   "cell_type": "code",
   "execution_count": 49,
   "metadata": {},
   "outputs": [
    {
     "data": {
      "text/plain": [
       "<matplotlib.legend.Legend at 0x1edd1329860>"
      ]
     },
     "execution_count": 49,
     "metadata": {},
     "output_type": "execute_result"
    },
    {
     "data": {
      "image/png": "[encoded data removed]",
      "text/plain": [
       "<Figure size 432x288 with 1 Axes>"
      ]
     },
     "metadata": {
      "needs_background": "light"
     },
     "output_type": "display_data"
    }
   ],
   "source": [
    "# val_loss\n",
    "# acc\n",
    "plt.plot(history.history['acc'])\n",
    "plt.plot(history.history['val_acc'])\n",
    "\n",
    "# plt.plot(history.history['accuracy'])   # it will work in other version \n",
    "# plt.plot(history.history['val_accuracy'])\n",
    "plt.title('model accuracy')\n",
    "plt.ylabel('accuracy')\n",
    "plt.xlabel('epoch')\n",
    "plt.legend(['train', 'test'], loc='upper left')"
   ]
  },
  {
   "cell_type": "code",
   "execution_count": 50,
   "metadata": {},
   "outputs": [
    {
     "data": {
      "text/plain": [
       "<matplotlib.legend.Legend at 0x1edd1598048>"
      ]
     },
     "execution_count": 50,
     "metadata": {},
     "output_type": "execute_result"
    },
    {
     "data": {
      "image/png": "[encoded data removed]",
      "text/plain": [
       "<Figure size 432x288 with 1 Axes>"
      ]
     },
     "metadata": {
      "needs_background": "light"
     },
     "output_type": "display_data"
    }
   ],
   "source": [
    "plt.plot(history.history['loss'])\n",
    "plt.plot(history.history['val_loss'])\n",
    "plt.title('model loss')\n",
    "plt.ylabel('loss')\n",
    "plt.xlabel('epoch')\n",
    "plt.legend(['train', 'test'], loc='upper left')\n",
    "# plt.ylim((0,2))"
   ]
  },
  {
   "cell_type": "markdown",
   "metadata": {},
   "source": [
    "References\n",
    "\n",
    "https://machinelearningmastery.com/tutorial-first-neural-network-python-keras/\n",
    "\n",
    "\n",
    "https://machinelearningmastery.com/multi-class-classification-tutorial-keras-deep-learning-library/\n",
    "\n",
    "https://machinelearningmastery.com/keras-functional-api-deep-learning/"
   ]
  },
  {
   "cell_type": "code",
   "execution_count": null,
   "metadata": {},
   "outputs": [],
   "source": []
  }
 ],
 "metadata": {
  "kernelspec": {
   "display_name": "Python 3",
   "language": "python",
   "name": "python3"
  },
  "language_info": {
   "codemirror_mode": {
    "name": "ipython",
    "version": 3
   },
   "file_extension": ".py",
   "mimetype": "text/x-python",
   "name": "python",
   "nbconvert_exporter": "python",
   "pygments_lexer": "ipython3",
   "version": "3.7.3"
  }
 },
 "nbformat": 4,
 "nbformat_minor": 4
}
