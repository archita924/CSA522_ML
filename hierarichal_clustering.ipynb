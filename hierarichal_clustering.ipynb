{
  "nbformat": 4,
  "nbformat_minor": 0,
  "metadata": {
    "colab": {
      "provenance": [],
      "authorship_tag": "ABX9TyOeF+cGnbClfnjlURvQGWmK",
      "include_colab_link": true
    },
    "kernelspec": {
      "name": "python3",
      "display_name": "Python 3"
    },
    "language_info": {
      "name": "python"
    }
  },
  "cells": [
    {
      "cell_type": "markdown",
      "metadata": {
        "id": "view-in-github",
        "colab_type": "text"
      },
      "source": [
        "<a href=\"https://colab.research.google.com/github/archita924/CSA522_ML/blob/master/hierarichal_clustering.ipynb\" target=\"_parent\"><img src=\"https://colab.research.google.com/assets/colab-badge.svg\" alt=\"Open In Colab\"/></a>"
      ]
    },
    {
      "cell_type": "code",
      "execution_count": null,
      "metadata": {
        "id": "cplVINGU4Jm0"
      },
      "outputs": [],
      "source": [
        "import numpy as np\n",
        "from scipy.cluster.hierarchy import dendrogram, linkage\n",
        "import matplotlib.pyplot as plt\n",
        "\n",
        "# randomly chosen dataset\n",
        "X = np.array([[1, 2], [1, 4], [1, 0],\n",
        "              [4, 2], [4, 4], [4, 0]])\n",
        "\n",
        "# Perform hierarchical clustering\n",
        "Z = linkage(X, 'ward')\n",
        "\n",
        "# Plot dendrogram\n",
        "dendrogram(Z)\n",
        "\n",
        "plt.title('Hierarchical Clustering Dendrogram')\n",
        "plt.xlabel('Data point')\n",
        "plt.ylabel('Distance')\n",
        "plt.show()"
      ]
    }
  ]
}